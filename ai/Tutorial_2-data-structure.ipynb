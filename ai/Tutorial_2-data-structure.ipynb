{
 "cells": [
  {
   "cell_type": "markdown",
   "id": "5638760f-f0b2-40c8-965a-4b70270f43c5",
   "metadata": {
    "editable": true,
    "slideshow": {
     "slide_type": ""
    },
    "tags": []
   },
   "source": [
    "# Tutorial 2: データ構造（とアルゴリズム）\n",
    "\n",
    "5. [](#tut-python-basic2)\n",
    "6. [](#tut-python-data-class1)\n",
    "7. [](#how-to-represent-graph)\n",
    "\n",
    "**Appendix**\n",
    "- [](#tut2-appendix1)\n",
    "\n",
    "---"
   ]
  },
  {
   "cell_type": "code",
   "execution_count": 1,
   "id": "8c32261d-b8e0-4da8-814b-b831c26019af",
   "metadata": {
    "editable": true,
    "slideshow": {
     "slide_type": ""
    },
    "tags": [
     "hide-input"
    ]
   },
   "outputs": [
    {
     "data": {
      "text/html": [
       "<style>\n",
       "    div.jp-CodeMirrorEditor span.ͼ11 { font-style: normal; } /* Comment (Jupyter 4.x) */\n",
       "    div.jp-MarkdownCell h2 { border-bottom: solid 2px #aaf; padding-bottom: 2px; }\n",
       "</style>\n"
      ],
      "text/plain": [
       "<IPython.core.display.HTML object>"
      ]
     },
     "metadata": {},
     "output_type": "display_data"
    }
   ],
   "source": [
    "%%html\n",
    "<style>\n",
    "    div.jp-CodeMirrorEditor span.ͼ11 { font-style: normal; } /* Comment (Jupyter 4.x) */\n",
    "    div.jp-MarkdownCell h2 { border-bottom: solid 2px #aaf; padding-bottom: 2px; }\n",
    "</style>"
   ]
  },
  {
   "cell_type": "code",
   "execution_count": 2,
   "id": "2979c6e2-d5ed-434d-8d41-5277e250b67f",
   "metadata": {},
   "outputs": [],
   "source": [
    "from IPython.display import display, Markdown"
   ]
  },
  {
   "cell_type": "code",
   "execution_count": 3,
   "id": "9a783c3a-39a9-4a42-816b-199586f4d32d",
   "metadata": {
    "scrolled": true
   },
   "outputs": [
    {
     "name": "stdout",
     "output_type": "stream",
     "text": [
      "/home/users/ecs/09B23523/exp-b/ai/ebai.py\n",
      "> Revision 2025.1\n",
      "> 更新日時：2025-10-03 11:18:05.715802\n",
      ">\n",
      "> Python     : 3.12.3 (main, Aug 14 2025, 17:47:21) [GCC 13.3.0]\n",
      "> NumPy      : 2.3.2\n",
      "> Matplotlib : 3.10.5\n",
      "> NetworkX   : 3.5\n"
     ]
    },
    {
     "data": {
      "text/markdown": [
       "**要確認：Revision 2025.1 以上が必要です**"
      ],
      "text/plain": [
       "<IPython.core.display.Markdown object>"
      ]
     },
     "metadata": {},
     "output_type": "display_data"
    }
   ],
   "source": [
    "%reload_ext autoreload\n",
    "%autoreload 1\n",
    "%aimport ebai\n",
    "    # 上記の3行は，Jupyter Lab の特殊なコマンドです．\n",
    "    # - 本講義の範囲を超えるので，詳細を理解する必要はありません．\n",
    "    # - 通常は，一度 import すると，再度同じファイルを import することはできません，\n",
    "    #   - 正確には，実行しても，まったく効果がありません．\n",
    "    #   - importを実行してから，ebai.py を編集しても，再度 import する術がありません．\n",
    "    # - そこで，上記3行を書くことで，ebai.py に定義された関数は，毎回 ebai.py を\n",
    "    #   再読み込みしてから実行してくださいね，という動作に切り替えることができます．\n",
    "    #   （関数呼び出しのオーバーヘッドが増えるというデメリットはあります．なので，\n",
    "    #     開発用途の特殊コマンド，という位置づけで，理解しておきましょう．）\n",
    "    # 参考：https://ipython.org/ipython-doc/stable/config/extensions/autoreload.html\n",
    "\n",
    "# 人工知能実験用の補助関数を定義したサブライブラリ（改変不可）\n",
    "import ebai\n",
    "    # 以降，ebai.pyの中に書かれた関数は，\"ebai.\" のように名前空間を明示することで利用できます．\n",
    "    # 例えば，以下の記述は，ebai.py の中に書かれた，ebai_info()という関数を呼び出しています．\n",
    "\n",
    "ebai.ebai_info()\n",
    "display(Markdown(\"**要確認：Revision 2025.1 以上が必要です**\"))"
   ]
  },
  {
   "cell_type": "markdown",
   "id": "0e56f192-6ac9-4ceb-a9b7-266129831ec6",
   "metadata": {
    "editable": true,
    "slideshow": {
     "slide_type": ""
    },
    "tags": []
   },
   "source": [
    "(tut-python-basic2)=\n",
    "## Pythonの基本(2)\n",
    "\n",
    "人工知能実験では，Pythonにネイティブで実装された関数やデータ構造を使います．\n",
    "\n",
    "- タプル型 (`tuple`) ... https://docs.python.org/ja/3.12/library/stdtypes.html#tuples\n",
    "- リスト型 (`list`) ... https://docs.python.org/ja/3.12/library/stdtypes.html#list\n",
    "- 辞書型 (`dict`) ... https://docs.python.org/ja/3.12/library/stdtypes.html#dict\n",
    "- データクラス ... https://docs.python.org/ja/3.12/library/dataclasses.html\n",
    "\n",
    "まずは簡単に使い方を理解しておきましょう．"
   ]
  },
  {
   "cell_type": "markdown",
   "id": "7d7cd2ca-192f-4747-82ec-c0fb50f4d311",
   "metadata": {},
   "source": [
    "### タプル型\n",
    "\n",
    "- https://docs.python.org/ja/3.12/library/stdtypes.html#tuples\n",
    "\n",
    "様々なデータ型をまとめて表現できます．ざっくりいえば「どんな型でも格納できる配列（ただし，書き換え不可）」です．\n",
    "\n",
    "タプル型は，丸カッコ`()`内をカンマ`,`で区切って表現します [^tuple_comma]．\n",
    "\n",
    "[^tuple_comma]: 単なるカンマ区切りでもタプルになります．初心者のうちは，なるべく丸カッコを使って明示したほうが分かりやすいでしょう．\n",
    "    ややこしいことを承知で書くと，`x = 10` の結果では，`x`は`10`という1つの数字を表しますが，\n",
    "    `x = 10,` の結果では，`x`は`(10,)`という1つ組(?)のタプルになります．後者では，`10`という数値を得るには`x[0]`とする必要があります．\n",
    "\n",
    "以下の例を実行して，使い方を理解してください．[プロ演2の構造体](https://edu2024.sp.cs.okayama-u.ac.jp/eop/p2/p/practice04.html) のことも思い出してください！"
   ]
  },
  {
   "cell_type": "code",
   "execution_count": 4,
   "id": "8ad9fef9-e1c3-48ee-9087-f05c5af59cb3",
   "metadata": {},
   "outputs": [
    {
     "name": "stdout",
     "output_type": "stream",
     "text": [
      "date1=(2012, 5, 1)\n",
      "date2=(2021, 5, 2)\n",
      "date3=(2021, 5, 3)\n",
      "date1[0]=2012; date1[1]=5; date1[2]=1;\n"
     ]
    }
   ],
   "source": [
    "# Example of tuple: part 1\n",
    "# cf. https://edu2024.sp.cs.okayama-u.ac.jp/eop/p2/p/practice04.html\n",
    "\n",
    "date1 = (2012, 5, 1)\n",
    "date2 = (2021, 5, 2)\n",
    "date3 = 2021, 5, 3\n",
    "    # 注：date3 のように丸カッコ無しでも書けるが・・・ぱっと見でわかりにくいため，お勧めしません．．\n",
    "\n",
    "print(f'{date1=}')\n",
    "print(f'{date2=}')\n",
    "print(f'{date3=}')\n",
    "print(f'{date1[0]=}; {date1[1]=}; {date1[2]=};')"
   ]
  },
  {
   "cell_type": "code",
   "execution_count": 5,
   "id": "ce2b2c38-6006-41fb-b35f-fff6d514ad9c",
   "metadata": {},
   "outputs": [
    {
     "name": "stdout",
     "output_type": "stream",
     "text": [
      "profile1=(5100046, 'The Bridge', (1845, 11, 2), '14 Seafield Road Longman Inverness', 'SEN Unit 2.0 Open')\n",
      "profile2=(5100127, 'Bower Primary School', (1908, 1, 19), 'Bowermadden Bower Caithness', '01955 641225 Primary 25 2.6 Open')\n",
      "profile1[0]=5100046; profile1[1]='The Bridge'; profile1[2]=(1845, 11, 2);\n"
     ]
    }
   ],
   "source": [
    "# Example of tuple: part 2\n",
    "\n",
    "profile1 = (5100046,\n",
    "            'The Bridge',\n",
    "            (1845, 11, 2),\n",
    "            '14 Seafield Road Longman Inverness',\n",
    "            'SEN Unit 2.0 Open')\n",
    "profile2 = (5100127,\n",
    "            'Bower Primary School',\n",
    "            (1908, 1, 19),\n",
    "            'Bowermadden Bower Caithness',\n",
    "            '01955 641225 Primary 25 2.6 Open')\n",
    "    # 参考：要素が続くことが明らか（開いたかっこが閉じてない）なら，途中で改行しても構わない．\n",
    "\n",
    "print(f'{profile1=}')\n",
    "print(f'{profile2=}')\n",
    "print(f'{profile1[0]=}; {profile1[1]=}; {profile1[2]=};')"
   ]
  },
  {
   "cell_type": "code",
   "execution_count": null,
   "id": "db2ba604-21be-4e0f-bfa9-84a9b5783ed8",
   "metadata": {},
   "outputs": [],
   "source": [
    "# Example of tuple: part 3\n",
    "# date1[0] = 2024   # --> Error\n",
    "    # タプル型では要素の書き換えはできません"
   ]
  },
  {
   "cell_type": "markdown",
   "id": "305fb1cb-5652-4cec-8b44-7be32012f1ad",
   "metadata": {},
   "source": [
    "### リスト型\n",
    "\n",
    "- https://docs.python.org/ja/3.12/library/stdtypes.html#list\n",
    "\n",
    "基本的にはC言語の配列を思い出せば十分です．\n",
    "ただし，C言語の配列が，一般に固定長配列であることに対して，Pythonのlistは可変長配列です [^list_malloc]．\n",
    "\n",
    "定義は`[ ]`を使い [^listdef]，参照も`[ ]`を使います．\n",
    "\n",
    "[^list_malloc]: プログラミング演習でも profile 構造体の要素として，固定長配列と可変長配列を使っていました．\n",
    "    可変長配列ですから，listへの挿入時に要素が拡大するなら，暗黙的に realloc (free and malloc) が呼ばれていると想像できます．\n",
    "\n",
    "[^listdef]: 定義の際には，`list()`を使うこともあります．\n",
    "\n",
    "#### リストの基本"
   ]
  },
  {
   "cell_type": "code",
   "execution_count": 6,
   "id": "61eac9d2-7f1d-45e9-93de-b43d3d4db201",
   "metadata": {},
   "outputs": [
    {
     "name": "stdout",
     "output_type": "stream",
     "text": [
      "list1=[1, 2, 4, 8, 16]\n",
      "list1[0]=1; list1[1]=2; list1[2]=4;\n"
     ]
    }
   ],
   "source": [
    "# Example of list: part 1\n",
    "\n",
    "list1 = [1, 2, 4, 8, 16]\n",
    "\n",
    "print(f'{list1=}')\n",
    "print(f'{list1[0]=}; {list1[1]=}; {list1[2]=};')"
   ]
  },
  {
   "cell_type": "code",
   "execution_count": 7,
   "id": "0f5f6222-359c-4ed5-9c56-52a177fa04eb",
   "metadata": {},
   "outputs": [
    {
     "name": "stdout",
     "output_type": "stream",
     "text": [
      "profiles=[(5100046, 'The Bridge', (1845, 11, 2), '14 Seafield Road Longman Inverness', 'SEN Unit 2.0 Open'), (5100127, 'Bower Primary School', (1908, 1, 19), 'Bowermadden Bower Caithness', '01955 641225 Primary 25 2.6 Open')]\n",
      "profiles[0]=(5100046, 'The Bridge', (1845, 11, 2), '14 Seafield Road Longman Inverness', 'SEN Unit 2.0 Open')\n",
      "profiles[1]=(5100127, 'Bower Primary School', (1908, 1, 19), 'Bowermadden Bower Caithness', '01955 641225 Primary 25 2.6 Open')\n"
     ]
    }
   ],
   "source": [
    "# Example of list: part 2\n",
    "\n",
    "profiles = [profile1, profile2]\n",
    "\n",
    "print(f'{profiles=}')\n",
    "print(f'{profiles[0]=}')\n",
    "print(f'{profiles[1]=}')"
   ]
  },
  {
   "cell_type": "markdown",
   "id": "3458ee95-a1b5-475e-b3a2-ba1dd702c4b1",
   "metadata": {},
   "source": [
    "配列の長さは `len()` 関数で取得できます．"
   ]
  },
  {
   "cell_type": "code",
   "execution_count": 8,
   "id": "116e8d5f-f08b-48fb-aa14-860e3642bbd7",
   "metadata": {},
   "outputs": [
    {
     "name": "stdout",
     "output_type": "stream",
     "text": [
      "5\n",
      "2\n"
     ]
    }
   ],
   "source": [
    "# Example of list: part 3\n",
    "print(len(list1))\n",
    "print(len(profiles))"
   ]
  },
  {
   "cell_type": "markdown",
   "id": "0af89e72-84a6-468d-b3df-9b9e9c2c73f9",
   "metadata": {
    "tags": []
   },
   "source": [
    ":::{exercise}\n",
    "`profiles` 変数を使って，次のような出力を得るコードを記述してください．(最後のピリオドも忘れずに)\n",
    "\n",
    "```{code-block}\n",
    "The number of profiles is 2.\n",
    "```\n",
    ":::"
   ]
  },
  {
   "cell_type": "code",
   "execution_count": 10,
   "id": "ee6b3afd-1ecb-48f9-90e9-b94c051eaf4d",
   "metadata": {
    "editable": true,
    "slideshow": {
     "slide_type": ""
    },
    "tags": [
     "exercise"
    ]
   },
   "outputs": [
    {
     "name": "stdout",
     "output_type": "stream",
     "text": [
      "The number of profiles is 2\n"
     ]
    }
   ],
   "source": [
    "# ANSWER SHEET\n",
    "print(f'The number of profiles is {len(profiles)}')"
   ]
  },
  {
   "cell_type": "markdown",
   "id": "f167fc99-20b4-4f64-a207-0270a4fc56f9",
   "metadata": {
    "editable": true,
    "slideshow": {
     "slide_type": ""
    },
    "tags": []
   },
   "source": [
    "#### リストの動的拡張\n",
    "\n",
    "可変長配列ですので，追加の方法も見ておきましょう．`append()` メソッドを呼ぶことで，末尾に追加できます．\n",
    "\n",
    "ところで，受講生の中には，もしかしたらオブジェクト指向言語の流儀に慣れていない人もいるかもしれませんね．\n",
    "この書き方はよく出てきますので，しっかり理解してください．\n",
    "\n",
    "`profiles` というリスト変数に要素を追加したいので，`profile.append(...)` という書き方をしています．\n",
    "もしC言語であれば，`new_profile(&profiles, ...)` のように書いていたことでしょう．"
   ]
  },
  {
   "cell_type": "code",
   "execution_count": 11,
   "id": "be981dcb-0efa-4b61-8dcf-90ed52c4906b",
   "metadata": {},
   "outputs": [
    {
     "name": "stdout",
     "output_type": "stream",
     "text": [
      "profiles=[(5100046, 'The Bridge', (1845, 11, 2), '14 Seafield Road Longman Inverness', 'SEN Unit 2.0 Open'), (5100127, 'Bower Primary School', (1908, 1, 19), 'Bowermadden Bower Caithness', '01955 641225 Primary 25 2.6 Open'), (5100224, 'Canisbay Primary School', (1928, 7, 5), 'Canisbay Wick', '01955 611337 Primary 56 3.5 Open'), (5100046, 'The Bridge', (1845, 11, 2), '14 Seafield Road Longman Inverness', 'SEN Unit 2.0 Open'), (5100127, 'Bower Primary School', (1908, 1, 19), 'Bowermadden Bower Caithness', '01955 641225 Primary 25 2.6 Open')]\n",
      "profiles[0]=(5100046, 'The Bridge', (1845, 11, 2), '14 Seafield Road Longman Inverness', 'SEN Unit 2.0 Open')\n",
      "profiles[1]=(5100127, 'Bower Primary School', (1908, 1, 19), 'Bowermadden Bower Caithness', '01955 641225 Primary 25 2.6 Open')\n",
      "profiles[2]=(5100224, 'Canisbay Primary School', (1928, 7, 5), 'Canisbay Wick', '01955 611337 Primary 56 3.5 Open')\n",
      "profiles[3]=(5100046, 'The Bridge', (1845, 11, 2), '14 Seafield Road Longman Inverness', 'SEN Unit 2.0 Open')\n",
      "profiles[4]=(5100127, 'Bower Primary School', (1908, 1, 19), 'Bowermadden Bower Caithness', '01955 641225 Primary 25 2.6 Open')\n"
     ]
    }
   ],
   "source": [
    "# Example of list: part 4\n",
    "\n",
    "profiles = []  # 空の配列\n",
    "profiles.append(profile1)\n",
    "profiles.append(profile2)\n",
    "\n",
    "profiles.append((5100224, 'Canisbay Primary School',\n",
    "                 (1928, 7, 5), 'Canisbay Wick',\n",
    "                 '01955 611337 Primary 56 3.5 Open'))\n",
    "    # - いうまでもなく，変数を介さず直接代入してもよい\n",
    "    # - ただし，カッコに注意しよう！！\n",
    "    #   - ここで代入したいのは，あくまでタプルである．\n",
    "    #   - 従って，append()としてのカッコの中に，タプルとしてのカッコも必要である．\n",
    "\n",
    "profiles.extend([profile1, profile2])\n",
    "    # - extend() を使うと，複数の要素を追加できる．\n",
    "    # - extend() の引数は list 型である．\n",
    "\n",
    "\n",
    "# 以下はやりがちな誤った挿入例 (Ctrl + / で3行分のコメントトグルして，エラーメッセージを確認しよう)\n",
    "# profiles.append(5100321, 'Castletown Primary School',\n",
    "#                 (1913, 11, 4), 'Castletown Thurso',\n",
    "#                 '01847 821256 01847 821256 Primary 137 8.5 Open')\n",
    "\n",
    "print(f'{profiles=}')\n",
    "print(f'{profiles[0]=}')\n",
    "print(f'{profiles[1]=}')\n",
    "print(f'{profiles[2]=}')\n",
    "print(f'{profiles[3]=}')\n",
    "print(f'{profiles[4]=}')\n"
   ]
  },
  {
   "cell_type": "markdown",
   "id": "f6a449ac-6400-4e2e-a6dd-62dc14d27375",
   "metadata": {},
   "source": [
    "(list-and-for)=\n",
    "#### リストと制御文: for文への再訪\n",
    "\n",
    "ところで，「list = 配列」と聞くと，やはり `for` 文と組み合わせたくなりますよね．"
   ]
  },
  {
   "cell_type": "code",
   "execution_count": 12,
   "id": "4366cd4c-af21-41d2-8768-297427762cfd",
   "metadata": {},
   "outputs": [
    {
     "name": "stdout",
     "output_type": "stream",
     "text": [
      "1\n",
      "2\n",
      "4\n",
      "8\n",
      "16\n"
     ]
    }
   ],
   "source": [
    "# Example of list: part 5\n",
    "\n",
    "for item in list1:\n",
    "    print(item)\n"
   ]
  },
  {
   "cell_type": "markdown",
   "id": "dfcb8f6f-c015-42ff-b828-e27c49f937e4",
   "metadata": {},
   "source": [
    "ここで，forループの動きにもう一度注目しておきましょう．\n",
    "C言語では制御変数[^loop_index]を使ったループが一般的でしたが，**Pythonのfor文では要素そのもの(への参照)が取り出され** ています．\n",
    "\n",
    "以下の例も見て，もう一度 python の for ループに対する理解を深めてください．\n",
    "\n",
    "[^loop_index]: インデックスとも呼ぶ; 慣習上 `i` や `j` をよく使う）\n",
    "    いわゆる\n",
    "    ``` C\n",
    "    int i;\n",
    "    for(i=0; i<2; i++) {\n",
    "      printf_profile(&profiles[i]);\n",
    "    }\n",
    "    ```\n",
    "    としていた時の `i` のこと．"
   ]
  },
  {
   "cell_type": "code",
   "execution_count": 13,
   "id": "955bb29f-f362-4af8-b425-85b466627435",
   "metadata": {},
   "outputs": [
    {
     "name": "stdout",
     "output_type": "stream",
     "text": [
      "---- LOOP type A\n",
      "1\n",
      "2\n",
      "4\n",
      "8\n",
      "16\n",
      "---- LOOP type B\n",
      "0 1\n",
      "1 2\n",
      "2 4\n",
      "3 8\n",
      "4 16\n"
     ]
    }
   ],
   "source": [
    "# Example of list: part 6\n",
    "\n",
    "print('---- LOOP type A')\n",
    "for value in list1:\n",
    "    print(value)\n",
    "\n",
    "print('---- LOOP type B')\n",
    "for i in range(len(list1)):  # rangeの使い方は Tutorial 1 の Pythonの基本(1) を参照\n",
    "    print(i, list1[i])\n"
   ]
  },
  {
   "cell_type": "code",
   "execution_count": 15,
   "id": "e03bb7b4-b93d-4dba-aa20-47c45e002941",
   "metadata": {},
   "outputs": [
    {
     "name": "stdout",
     "output_type": "stream",
     "text": [
      "---- LOOP type C\n",
      "0 1\n",
      "1 2\n",
      "2 4\n",
      "3 8\n",
      "4 16\n",
      "0 (5100046, 'The Bridge', (1845, 11, 2), '14 Seafield Road Longman Inverness', 'SEN Unit 2.0 Open')\n",
      "1 (5100127, 'Bower Primary School', (1908, 1, 19), 'Bowermadden Bower Caithness', '01955 641225 Primary 25 2.6 Open')\n",
      "2 (5100224, 'Canisbay Primary School', (1928, 7, 5), 'Canisbay Wick', '01955 611337 Primary 56 3.5 Open')\n",
      "3 (5100046, 'The Bridge', (1845, 11, 2), '14 Seafield Road Longman Inverness', 'SEN Unit 2.0 Open')\n",
      "4 (5100127, 'Bower Primary School', (1908, 1, 19), 'Bowermadden Bower Caithness', '01955 641225 Primary 25 2.6 Open')\n",
      "2 1\n",
      "3 2\n",
      "4 4\n",
      "5 8\n",
      "6 16\n"
     ]
    }
   ],
   "source": [
    "# Example of list: part 7\n",
    "\n",
    "print('---- LOOP type C')\n",
    "for (i, value) in enumerate(list1):\n",
    "    print(i, value)\n",
    "    # - LOOP type B のように，要素だけでなくインデックスも必要な場合は，\n",
    "    #   この例のように enumerate() をlist変数にかぶせて，タプル型の値を得るとよい．\n",
    "\n",
    "for (i, value) in enumerate(profiles):\n",
    "    print(i, value)\n",
    "\n",
    "\n",
    "for (i, value) in enumerate(list1, 2):\n",
    "    print(i, value)"
   ]
  },
  {
   "cell_type": "markdown",
   "id": "31d353da-eb00-4356-b7e4-e123cdbfddc5",
   "metadata": {
    "editable": true,
    "slideshow": {
     "slide_type": ""
    },
    "tags": []
   },
   "source": [
    ":::{exercise}\n",
    "以下のソースコードは，講義でC言語に少し触れたレベルの python 初学者が陥りがちな誤りの典型例です．  \n",
    "彼/彼女に，「何が間違っていて，どう書き直すべきか」，ソースコードとコメント文にて提案してください．\n",
    "\n",
    "ヒント1：本項（[](#list-and-for)）の説明文中の脚注  \n",
    "ヒント2：様々な示唆の可能性はありそうですが，ひとまず1つぐらいは示せるようにしてください．\n",
    "\n",
    "```{code-block} python\n",
    "for i in profiles:\n",
    "    print(profiles[i])\n",
    "```\n",
    "\n",
    ":::"
   ]
  },
  {
   "cell_type": "code",
   "execution_count": 16,
   "id": "8aa84891-85ea-468e-af87-934f39e98814",
   "metadata": {
    "tags": [
     "exercise"
    ]
   },
   "outputs": [
    {
     "name": "stdout",
     "output_type": "stream",
     "text": [
      "(5100046, 'The Bridge', (1845, 11, 2), '14 Seafield Road Longman Inverness', 'SEN Unit 2.0 Open')\n",
      "(5100127, 'Bower Primary School', (1908, 1, 19), 'Bowermadden Bower Caithness', '01955 641225 Primary 25 2.6 Open')\n",
      "(5100224, 'Canisbay Primary School', (1928, 7, 5), 'Canisbay Wick', '01955 611337 Primary 56 3.5 Open')\n",
      "(5100046, 'The Bridge', (1845, 11, 2), '14 Seafield Road Longman Inverness', 'SEN Unit 2.0 Open')\n",
      "(5100127, 'Bower Primary School', (1908, 1, 19), 'Bowermadden Bower Caithness', '01955 641225 Primary 25 2.6 Open')\n"
     ]
    }
   ],
   "source": [
    "# Let's tell your idea to your \"student\" !!\n",
    "for value in profiles:\n",
    "    print(value)\n",
    "# pythonではリストをfor文に渡すと，要素そのものへの参照が取り出される．"
   ]
  },
  {
   "cell_type": "markdown",
   "id": "f94d3506-55ee-4259-9c1d-831f4a3b6987",
   "metadata": {},
   "source": [
    "### 辞書型\n",
    "\n",
    "- https://docs.python.org/ja/3.12/library/stdtypes.html#dict\n",
    "\n",
    "辞書型は，いわゆる Key-Value store とも呼ばれます [^perl_hash]．\n",
    "\n",
    "定義の際はブレス `{ }` を使い[^dictdef]，アクセスのときは tuple や list と同様 `[ ]` を使います．\n",
    "\n",
    "ざっくり理解したいなら，**構造体に似ている** とか **アクセスするときに数字以外のインデックスが使える特殊な配列** ぐらいの理解でも，現状では構いません[^dict1]．\n",
    "\n",
    "[^perl_hash]: perlのような言語ではハッシュと呼ばれたりもします．\n",
    "    Key のハッシュに基づく探索木（例えば，二分探索木）を持つため，効率よく Key を見つけられる仕組みを備えています．\n",
    "\n",
    "[^dictdef]: `dict()` を使うこともあります．\n",
    "\n",
    "[^dict1]: あくまで，今は，です．時と場合を選びましょう．例えば，情報系卒としての新卒就活における技術面談で，こんな発言をした日には・・・（略  \n",
    "実験Bでの様々な実装を経験し，理解を深めてください．"
   ]
  },
  {
   "cell_type": "code",
   "execution_count": 17,
   "id": "d9d0322c-f7a3-4346-bea7-1089e1be465c",
   "metadata": {},
   "outputs": [
    {
     "name": "stdout",
     "output_type": "stream",
     "text": [
      "date1_d={'y': 2012, 'm': 5, 'd': 1}\n",
      "date2_d={'y': 2021, 'm': 5, 'd': 2}\n",
      "4033\n",
      "2021/5/2\n"
     ]
    }
   ],
   "source": [
    "# Example of dict: part 1\n",
    "# tupleの例を再掲:\n",
    "#   date1 = (2012, 5, 1)\n",
    "#   date2 = (2021, 5, 2)\n",
    "\n",
    "date1_d = {'y': 2012, 'm': 5, 'd': 1}\n",
    "date2_d = {'y': 2021, 'm': 5, 'd': 2}\n",
    "\n",
    "print(f'{date1_d=}')\n",
    "print(f'{date2_d=}')\n",
    "\n",
    "print(date1_d[\"y\"] + date2_d['y'])   # 4033 = 2012 + 2021\n",
    "    # - key が文字列の場合，囲うのは \"\" でも '' でもどちらでもよい\n",
    "\n",
    "print(f'{date2_d[\"y\"]}/{date2_d[\"m\"]}/{date2_d[\"d\"]}')\n",
    "    # - f-stringのprint文に組み込む場合などは，注意して使い分けよう"
   ]
  },
  {
   "cell_type": "code",
   "execution_count": 18,
   "id": "7ca8803e-9d18-4072-86d4-760e083d98d1",
   "metadata": {},
   "outputs": [
    {
     "name": "stdout",
     "output_type": "stream",
     "text": [
      "2012/5/1\n"
     ]
    }
   ],
   "source": [
    "# Example of dict: part 2\n",
    "date3_d = {}\n",
    "date3_d['y'] = 2012\n",
    "date3_d['m'] = 5\n",
    "date3_d['d'] = 1\n",
    "    # Keyを指定して代入することもできる\n",
    "    # 事前に存在していれば上書き，いなければ新規追加である\n",
    "    # 注：Keyに対する typo(タイプミス) には，特に注意を払おう!!!\n",
    "\n",
    "print(f'{date3_d[\"y\"]}/{date3_d[\"m\"]}/{date3_d[\"d\"]}')"
   ]
  },
  {
   "cell_type": "markdown",
   "id": "5b240df9-b5ce-4358-bd55-55362b6b96a2",
   "metadata": {},
   "source": [
    "辞書型の Key や Value は，文字列や数字に限る必要もない．例えば，"
   ]
  },
  {
   "cell_type": "code",
   "execution_count": 19,
   "id": "66b4e602-4af9-4553-abc7-73cb972cba57",
   "metadata": {},
   "outputs": [
    {
     "name": "stdout",
     "output_type": "stream",
     "text": [
      "DICT 1 -----\n",
      "{'0': [1, 2, 3, 4], '1': [6, 8], '2': (5, 8, 10), 1: (11, 12, 13), (1, 1): 16, 'date1': {'y': 2012, 'm': 5, 'd': 1}}\n",
      "[1, 2, 3, 4]\n",
      "[6, 8]\n",
      "DICT 2 -----\n",
      "(11, 12, 13)\n",
      "16\n",
      "DICT 3 -----\n",
      "1\n",
      "2\n",
      "3\n",
      "4\n"
     ]
    }
   ],
   "source": [
    "# Example of dict: part 3\n",
    "\n",
    "dataset1 = {\n",
    "                        # Value として：\n",
    "    '0': [1, 2, 3, 4],  #  リストを入れることもできるし，\n",
    "    '1': [6, 8],        #  異なる長さのリストを入れてもよいし，\n",
    "    '2': (5, 8, 10),    #  タプルを入れてもよい．\n",
    "                        # Key として：\n",
    "    1: (11, 12, 13),    #   文字でなく数字にしてもいいし，\n",
    "    (1, 1): 16,         #   タプルにしてもいいし，\n",
    "                        # 当然，Valueとして：\n",
    "    'date1': {          #   別のdict型データを入れる＝辞書の入れ子もある\n",
    "        'y': 2012,\n",
    "        'm': 5,\n",
    "        'd': 1\n",
    "    }\n",
    "}\n",
    "\n",
    "print('DICT 1 -----')\n",
    "print(dataset1)\n",
    "print(dataset1[\"0\"])\n",
    "print(dataset1[\"1\"])\n",
    "\n",
    "print('DICT 2 -----')    # ここには，あまりよくない例も，あえて示している．\n",
    "print(dataset1[1])       # Keyは，数字と文字列を混在させず，何らかのルールの下で\n",
    "print(dataset1[1, 1])    # 一貫して利用したほうが，当然プログラムとして理解しやすい．\n",
    "\n",
    "print('DICT 3 -----')\n",
    "for l in dataset1['0']:\n",
    "    print(l)\n",
    "    # dataset1のKey='0'には list が格納されているので，'0'を指定すれば list 型として扱える．\n"
   ]
  },
  {
   "cell_type": "markdown",
   "id": "2412d70b-fd37-46be-a989-174ef5d57cc4",
   "metadata": {},
   "source": [
    "(tut-python-data-class1)=\n",
    "## Python のデータクラス\n",
    "\n",
    "- https://docs.python.org/ja/3.12/library/dataclasses.html\n",
    "\n",
    "C言語での構造体に類似したデータ構造として，独自のデータクラスを定義して，そのデータクラスを自由に使うことができます．\n",
    "\n",
    "[プログラミング演習1の練習4-2](https://edu2024.sp.cs.okayama-u.ac.jp/eop/p2/p/practice04-ans1.html#struct-profile)を思い出してから，以下の利用例を確認してみてください．"
   ]
  },
  {
   "cell_type": "code",
   "execution_count": 20,
   "id": "2b675e90-0789-4cef-94bb-39741d86d46b",
   "metadata": {},
   "outputs": [
    {
     "name": "stdout",
     "output_type": "stream",
     "text": [
      "Profile(id=5100046, name='The Bridge', birthday=Date(y=1845, m=11, d=2), address='14 Seafield Road Longman Inverness', comment='SEN Unit 2.0 Open')\n",
      "Profile(id=5100127, name='Bower Primary School', birthday=Date(y=1908, m=1, d=19), address='Bowermadden Bower Caithness', comment='01955 641225 Primary 25 2.6 Open')\n"
     ]
    }
   ],
   "source": [
    "from dataclasses import dataclass\n",
    "    # 本来は，この from import は，ファイルの先頭に書いた方がいいです．\n",
    "\n",
    "#\n",
    "# データクラスの定義\n",
    "#\n",
    "@dataclass    # <-- class定義の前にアットマーク付きのデコレータが必要です．やや特殊．．．\n",
    "class Date:\n",
    "    y: int\n",
    "    m: int\n",
    "    d: int\n",
    "\n",
    "@dataclass\n",
    "class Profile:\n",
    "    id: int\n",
    "    name: str\n",
    "    birthday: Date\n",
    "    address: str\n",
    "    comment: str\n",
    "\n",
    "#\n",
    "# データクラスに基づくデータの作成\n",
    "#\n",
    "profile1 = Profile(5100046,\n",
    "            'The Bridge',\n",
    "            Date(1845, 11, 2),\n",
    "            '14 Seafield Road Longman Inverness',\n",
    "            'SEN Unit 2.0 Open')\n",
    "profile2 = Profile(5100127,\n",
    "            'Bower Primary School',\n",
    "            Date(1908, 1, 19),\n",
    "            'Bowermadden Bower Caithness',\n",
    "            '01955 641225 Primary 25 2.6 Open')\n",
    "\n",
    "#\n",
    "# データの参照(1)\n",
    "#\n",
    "print(profile1)\n",
    "print(profile2)"
   ]
  },
  {
   "cell_type": "markdown",
   "id": "a7df6430-731f-433a-81e0-87c161ce349f",
   "metadata": {},
   "source": [
    "要素へのアクセスはC言語の構造体と同じように `.` を利用します．例えば："
   ]
  },
  {
   "cell_type": "code",
   "execution_count": 21,
   "id": "db50d483-b2ed-4e77-af08-b049b03aeb85",
   "metadata": {},
   "outputs": [
    {
     "name": "stdout",
     "output_type": "stream",
     "text": [
      "Id    : 5100046\n",
      "Name  : The Bridge\n"
     ]
    }
   ],
   "source": [
    "#\n",
    "# データの参照(2)\n",
    "#\n",
    "print(f'Id    : {profile1.id}')\n",
    "print(f'Name  : {profile1.name}')"
   ]
  },
  {
   "cell_type": "markdown",
   "id": "44088199-24d8-478b-9829-f5c5aed3ab45",
   "metadata": {
    "tags": []
   },
   "source": [
    "```{exercise}\n",
    "`for` 文を利用して，変数 `profiles = [profile1, profile2]` を次のように画面表示するような動作を実現してください．  \n",
    "cf. プログラミング演習1の[名簿管理プログラムにおける%Pコマンド](https://edu2024.sp.cs.okayama-u.ac.jp/eop/p2/p/practice05-ans2.html#cmd-print-p)のうち，もっとも単純な動作．\n",
    "\n",
    "    Id    : 5100046\n",
    "    Name  : The Bridge\n",
    "    Birth : 1845/11/2\n",
    "    Addr. : 14 Seafield Road Longman Inverness\n",
    "    Comm. : SEN Unit 2.0 Open\n",
    "    \n",
    "    Id    : 5100127\n",
    "    Name  : Bower Primary School\n",
    "    Birth : 1908/1/19\n",
    "    Addr. : Bowermadden Bower Caithness\n",
    "    Comm. : 01955 641225 Primary 25 2.6 Open\n",
    "\n",
    "```"
   ]
  },
  {
   "cell_type": "code",
   "execution_count": 26,
   "id": "c9cc55ba-b4c0-4c33-8925-5920f53d5795",
   "metadata": {
    "tags": [
     "exercise"
    ]
   },
   "outputs": [
    {
     "name": "stdout",
     "output_type": "stream",
     "text": [
      "Id    : 5100046\n",
      "Name  : The Bridge\n",
      "Birth : Date(y=1845, m=11, d=2)\n",
      "Addr. : 14 Seafield Road Longman Inverness\n",
      "Comm. : SEN Unit 2.0 Open\n",
      "\n",
      "Id    : 5100127\n",
      "Name  : Bower Primary School\n",
      "Birth : Date(y=1908, m=1, d=19)\n",
      "Addr. : Bowermadden Bower Caithness\n",
      "Comm. : 01955 641225 Primary 25 2.6 Open\n",
      "\n"
     ]
    }
   ],
   "source": [
    "#\n",
    "# EXERCISE answer cell\n",
    "#\n",
    "profiles = [profile1, profile2]\n",
    "\n",
    "# Write your code!!\n",
    "for i in profiles:\n",
    "    print(f'Id    : {i.id}')\n",
    "    print(f'Name  : {i.name}')\n",
    "    print(f'Birth : {i.birthday}')\n",
    "    print(f'Addr. : {i.address}')\n",
    "    print(f'Comm. : {i.comment}')\n",
    "    print()\n"
   ]
  },
  {
   "cell_type": "markdown",
   "id": "9c1a41d4-e8df-41c3-a427-80c930d1fd33",
   "metadata": {},
   "source": [
    "(how-to-represent-graph)=\n",
    "## データ構造とアルゴリズム (1) -- グラフ構造とプログラム表現に関する一検討\n",
    "\n",
    "list と dict の利用の練習もかねて，グラフを計算機上で表現する方法を考えてみましょう．\n",
    "\n",
    "なお，ここでの「表現」とは，「データをどういうデータ構造で保持するか」という意味です．画面に示したり，図として描く話は，「表示」や「描画」と呼びます．\n",
    "\n",
    "本来考えるべきことは様々にありますが，ここでは次の3点に絞って考えてみます．\n",
    "\n",
    "1. 計算機で効率よく表現できること\n",
    "2. 計算機に効率よく表現を示せること　<small>※かみ砕いていえば，プログラマにわかりやすく，ということ</small>\n",
    "3. 想定するアルゴリズムにとって，効率よくアクセス可能なデータ構造であること\n",
    "\n",
    "です．\n",
    "\n",
    "以下では，次の [](#AI-graph1) に示すグラフ `graph1` を利用して，a)～c)の３つの表現方法を示します．\n",
    "上記3つの観点から，それぞれのメリットとデメリットを考えてみてください．\n",
    "\n",
    "```{figure} example/Example-AI-graph1.png\n",
    ":align: left\n",
    ":name: AI-graph1\n",
    "\n",
    "Structure of `graph1`\n",
    "```\n",
    "\n",
    "```{tip}\n",
    "以降，図を見比べながら資料を読みたくなると思います．\n",
    "\n",
    "JupyterLabのタブ(ファイル名が表示されている場所)を右クリックして，\"New View for Notebook\" を選んでください．\n",
    "右側に新しいパネルが開き，同じノートブックの上の方と下の方を同時に見る，みたいなことができます．"
   ]
  },
  {
   "cell_type": "markdown",
   "id": "53f7e870-db6b-49f1-b4d7-c0b342af4e1a",
   "metadata": {},
   "source": [
    "### a) (Dense) Adajacency Matrix\n",
    "\n",
    "**隣接行列** ([Adjacency Matrix](https://en.wikipedia.org/wiki/Adjacency_matrix)) を，ソースコードでもそのまま行列のように表した例です [^dense_matrix]．  \n",
    "ただし，Pythonのネイティブ型に行列型はありませんので，listの中に複数のlistがある，という構造です．  \n",
    "インデックスを与えて1要素にアクセスするなら `graph1_adj[SRC][DST]` となります [^rowmajor]．\n",
    "\n",
    "[^rowmajor]: 少し細かい話ですが，インデックスが Row-major ([wikipedia](https://en.wikipedia.org/wiki/Row-_and_column-major_order)) になっている点には注意してください．\n",
    "    皆さんになじみ深そうな x-y 軸のイメージで示せば，`graph1_adj[y][x]` です．\n",
    "    例えば，$a_{12}$ は `graph1_adj[0][1]` であり，その1つ下の要素 $a_{22}$ は `graph1_adj[1][1]` です．\n",
    "\n",
    "[^dense_matrix]: 次項に出てくる **疎** という概念と対比する場合は，**密(dense)** という形容詞を使って **Dense Adjacency Matrix** と呼ぶこともあります．"
   ]
  },
  {
   "cell_type": "code",
   "execution_count": 27,
   "id": "2acfbf29-4452-439c-a8ee-3b8c84751bde",
   "metadata": {},
   "outputs": [
    {
     "data": {
      "text/plain": [
       "[[0.0, 1.0, 0.0, 0.0, 0.0, 0.0],\n",
       " [0.0, 0.0, 1.0, 1.0, 0.0, 0.0],\n",
       " [0.0, 1.0, 0.0, 0.0, 0.0, 0.0],\n",
       " [0.0, 1.0, 0.0, 0.0, 1.0, 1.0],\n",
       " [0.0, 0.0, 0.0, 1.0, 0.0, 0.0],\n",
       " [0.0, 0.0, 0.0, 1.0, 0.0, 0.0]]"
      ]
     },
     "metadata": {},
     "output_type": "display_data"
    }
   ],
   "source": [
    "graph1_adj = [\n",
    "       #   0    1    2    3    4    5\n",
    "       # ---------------------------------------\n",
    "        [0.0, 1.0, 0.0, 0.0, 0.0, 0.0],  # 0 --> 1\n",
    "        [0.0, 0.0, 1.0, 1.0, 0.0, 0.0],  # 1 --> 2 or 3\n",
    "        [0.0, 1.0, 0.0, 0.0, 0.0, 0.0],  # 2 --> 1\n",
    "        [0.0, 1.0, 0.0, 0.0, 1.0, 1.0],  # 3 --> 1, 4 or 5\n",
    "        [0.0, 0.0, 0.0, 1.0, 0.0, 0.0],  # 4 --> 3\n",
    "        [0.0, 0.0, 0.0, 1.0, 0.0, 0.0]   # 5 --> 3\n",
    "    ]\n",
    "\n",
    "display(graph1_adj)"
   ]
  },
  {
   "cell_type": "markdown",
   "id": "cc2a2f17-c34a-40b1-8ab0-f5b491a6ed36",
   "metadata": {},
   "source": [
    "### b) Sparse Adajacency Matrix <small>_a.k.a. Edge list_</small>\n",
    "\n",
    "本課題が対象とする迷路を解くためのグラフでは，隣接行列が **疎な行列（[Sparse Matrix](https://en.wikipedia.org/wiki/Sparse_matrix)）** になることが多いです．\n",
    "\n",
    "そこで，値が存在する要素（非ゼロ要素）のみを保持しておけば，無駄なメモリを使わずに行列を表現できるかもしれません．"
   ]
  },
  {
   "cell_type": "code",
   "execution_count": 28,
   "id": "af016f78-fb1f-45b9-9150-94552150885a",
   "metadata": {},
   "outputs": [
    {
     "data": {
      "text/plain": [
       "[(0, 1, 1.0),\n",
       " (1, 2, 1.0),\n",
       " (1, 3, 1.0),\n",
       " (2, 1, 1.0),\n",
       " (3, 1, 1.0),\n",
       " (3, 4, 1.0),\n",
       " (3, 5, 1.0),\n",
       " (4, 3, 1.0),\n",
       " (5, 3, 1.0)]"
      ]
     },
     "metadata": {},
     "output_type": "display_data"
    }
   ],
   "source": [
    "graph1_edgelist = [\n",
    "    # 要素は，(src, dst, weight) の3つ組\n",
    "    (0, 1, 1.0),\n",
    "    (1, 2, 1.0), (1, 3, 1.0),\n",
    "    (2, 1, 1.0),\n",
    "    (3, 1, 1.0), (3, 4, 1.0), (3, 5, 1.0),\n",
    "    (4, 3, 1.0),\n",
    "    (5, 3, 1.0)\n",
    "]\n",
    "\n",
    "display(graph1_edgelist)"
   ]
  },
  {
   "cell_type": "markdown",
   "id": "614fe46f-d7ba-465b-a709-843e2c263852",
   "metadata": {
    "editable": true,
    "slideshow": {
     "slide_type": ""
    },
    "tags": []
   },
   "source": [
    "(tut2-adjacency_list_repr)=\n",
    "\n",
    "### c) Adjacency List <small>_a.k.a. Dict of edge list_</small>\n",
    "\n",
    "最後に．グラフ探索をする際には，**あるノード(SRC)から接続されている全ノード(DSTs) を参照する** という操作を頻繁に行います．  \n",
    "例えば，`get_neighbors(graph1, 1)` という関数呼び出しをして，`[2, 3]` のような解を得ることを頻繁に行います（この例はノード1からノード2と3につながっているという意味です）．\n",
    "\n",
    "そのためには，隣接行列から毎回探し出してもよいのですが，巨大なグラフになると探索回数も莫大になり，その計算コストを無視することはできなくなります [^database]．\n",
    "\n",
    "そこで，所望の情報を参照しやすい**隣接リスト** ([Adajacency List](https://en.wikipedia.org/wiki/Adjacency_list)) 表現はどうでしょうか．\n",
    "ここでは List といいながらpythonの `dict` 型を使っている点に注意してください．\n",
    "\n",
    "[^database]: データベースの講義は取っているでしょうか？  \n",
    "    データベースの考えであれば，b) の表現はテーブルデータそのものであり，c) が実現できるように 1列目を Index にすることでしょう．"
   ]
  },
  {
   "cell_type": "code",
   "execution_count": 29,
   "id": "159ecc00-e854-47f5-a55e-977c4399feba",
   "metadata": {},
   "outputs": [
    {
     "data": {
      "text/plain": [
       "{0: [(1, 1.0)],\n",
       " 1: [(2, 1.0), (3, 1.0)],\n",
       " 2: [(1, 1.0)],\n",
       " 3: [(1, 1.0), (4, 1.0), (5, 1.0)],\n",
       " 4: [(3, 1.0)],\n",
       " 5: [(3, 1.0)]}"
      ]
     },
     "metadata": {},
     "output_type": "display_data"
    }
   ],
   "source": [
    "graph1_edgedict = {\n",
    "    0: [(1, 1.0)],\n",
    "    1: [(2, 1.0), (3, 1.0)],\n",
    "    2: [(1, 1.0)],\n",
    "    3: [(1, 1.0), (4, 1.0), (5, 1.0)],\n",
    "    4: [(3, 1.0)],\n",
    "    5: [(3, 1.0)]\n",
    "}\n",
    "    # - 基本的にはdict型であるので Key-Value のペアとしてデータを保持している\n",
    "    # - Value には，全隣接ノードを list として保持している\n",
    "    # - 隣接ノードは，SRCはすでに確定しているので，(DST, weight) の2つ組で十分である\n",
    "\n",
    "display(graph1_edgedict)"
   ]
  },
  {
   "cell_type": "markdown",
   "id": "aa965d11-0f23-4ad9-8a14-dc39ba685f80",
   "metadata": {},
   "source": [
    "### 練習課題\n",
    "\n",
    "pythonのdict型やlist型の練習もかねて，以降の [](#impl-adj2edgelist) と [](#impl-adj2edgedict) を解いてみましょう．\n",
    "\n",
    "(impl-adj2edgelist)=\n",
    "```{exercise}\n",
    "`graph1_adj` のような (Dense) Adacency Matrix から，`graph1_edgelist` に変換する関数 `adj2edgelist()` を作ってください．\n",
    "```"
   ]
  },
  {
   "cell_type": "code",
   "execution_count": 30,
   "id": "6147f9f9-89e8-4268-b08a-1ee175168521",
   "metadata": {},
   "outputs": [],
   "source": [
    "# この関数は，関数実装の参考として使ってください．\n",
    "def display_matrix(adj_matrix):\n",
    "    \"\"\"参考関数\n",
    "    「a) Dense Adjacency Matrix」の全要素を走査する一例．\n",
    "    display(adj_matrix)と似たような表示をする．\n",
    "    \"\"\"\n",
    "    for _y in range(len(adj_matrix)):\n",
    "        for _x in range(len(adj_matrix[_y])):\n",
    "            print(adj_matrix[_y][_x], end=' ')  # endに' '(半角スペース)を指定．\n",
    "        print('')                               # endのdefaultは'\\n'．すなわち，ここで改行を出力．\n"
   ]
  },
  {
   "cell_type": "code",
   "execution_count": 31,
   "id": "039923e7-edc9-4559-8af7-a79675f82830",
   "metadata": {
    "editable": true,
    "slideshow": {
     "slide_type": ""
    },
    "tags": []
   },
   "outputs": [],
   "source": [
    "# この関数は，関数実装の参考として使ってください．\n",
    "# ※※ ***_STUB() 関数を修正してはいけません！！※※\n",
    "def adj2edgelist_STUB(adj_matrix):\n",
    "    \"\"\"参考関数\n",
    "    adj2edgelist関数をテストするためのスタブ関数．\n",
    "    cf. スタブ - https://ja.wikipedia.org/wiki/%E3%82%B9%E3%82%BF%E3%83%96\n",
    "    \"\"\"\n",
    "    from warnings import warn\n",
    "    warn('THIS IS STUB FUNCTION!! IMPLEMENT YOUR FUNCTION!!')\n",
    "\n",
    "    # Exampleのgraph1_adjであれば，次のような戻り値を期待する\n",
    "    result = []   # 空の list を準備\n",
    "\n",
    "    result.append((0, 1, 1.0))\n",
    "        # tuple を1要素として挿入するため，カッコが二重になっているように見える点に注意\n",
    "        # 外側のカッコはappend()のカッコで，内側のカッコは tuple のためのカッコである．\n",
    "\n",
    "    result.append((1, 2, 1.0))\n",
    "    result.append((1, 3, 1.0))\n",
    "\n",
    "    result.append((2, 1, 1.0))\n",
    "\n",
    "    result.extend([(3, 1, 1.0), (3, 4, 1.0), (3, 5, 1.0)])\n",
    "        # extend を使うと list で表現された複数要素を一気に代入することもできる．\n",
    "\n",
    "    result.append((4, 3, 1.0))\n",
    "    result.append((5, 3, 1.0))\n",
    "\n",
    "    return result"
   ]
  },
  {
   "cell_type": "code",
   "execution_count": 37,
   "id": "93aeb97f-6462-4f15-93ef-5020e3b5620d",
   "metadata": {
    "tags": [
     "exercise"
    ]
   },
   "outputs": [
    {
     "name": "stdout",
     "output_type": "stream",
     "text": [
      "---- DEBUG: display_matrix\n",
      "0.0 1.0 0.0 0.0 0.0 0.0 \n",
      "0.0 0.0 1.0 1.0 0.0 0.0 \n",
      "0.0 1.0 0.0 0.0 0.0 0.0 \n",
      "0.0 1.0 0.0 0.0 1.0 1.0 \n",
      "0.0 0.0 0.0 1.0 0.0 0.0 \n",
      "0.0 0.0 0.0 1.0 0.0 0.0 \n",
      "---- DEBUG: my_graph1_edgelist\n"
     ]
    },
    {
     "data": {
      "text/plain": [
       "[(0, 1, 1.0),\n",
       " (1, 2, 1.0),\n",
       " (1, 3, 1.0),\n",
       " (2, 1, 1.0),\n",
       " (3, 1, 1.0),\n",
       " (3, 4, 1.0),\n",
       " (3, 5, 1.0),\n",
       " (4, 3, 1.0),\n",
       " (5, 3, 1.0)]"
      ]
     },
     "metadata": {},
     "output_type": "display_data"
    },
    {
     "name": "stdout",
     "output_type": "stream",
     "text": [
      "---- DEBUG: graph1_edgelist\n"
     ]
    },
    {
     "data": {
      "text/plain": [
       "[(0, 1, 1.0),\n",
       " (1, 2, 1.0),\n",
       " (1, 3, 1.0),\n",
       " (2, 1, 1.0),\n",
       " (3, 1, 1.0),\n",
       " (3, 4, 1.0),\n",
       " (3, 5, 1.0),\n",
       " (4, 3, 1.0),\n",
       " (5, 3, 1.0)]"
      ]
     },
     "metadata": {},
     "output_type": "display_data"
    }
   ],
   "source": [
    "#\n",
    "# EXERCISE answer cell\n",
    "#\n",
    "def adj2edgelist(adj_matrix):\n",
    "    \"\"\"\n",
    "    Adjacency Matrixを Edge List (Sparse Matrix) に変換する関数\n",
    "\n",
    "    Parameters\n",
    "    ----------\n",
    "    adj_matrix : list[list[int]]\n",
    "        変換元の Adjacency Matrix\n",
    "\n",
    "    Returns\n",
    "    -------\n",
    "    edges_list : list[tuple(int, int, float)]\n",
    "        Edge list. \n",
    "        - list の要素として edge に関する情報が格納されている．\n",
    "        - tuple(int, int. float) は，(src_id, dst_id, weight) の3つ組である．\n",
    "    \"\"\"\n",
    "    edg_list = []\n",
    "    for i in range(len(adj_matrix)):\n",
    "        for j in range(len(adj_matrix[i])):\n",
    "            if adj_matrix[i][j] != 0.0:\n",
    "                edg_list.append((i, j, adj_matrix[i][j]))\n",
    "\n",
    "    return edg_list   # この行は消して，適切な戻り値を作ろう！\n",
    "\n",
    "my_graph1_edgelist = adj2edgelist(graph1_adj)\n",
    "\n",
    "print('---- DEBUG: display_matrix')\n",
    "display_matrix(graph1_adj)\n",
    "\n",
    "print('---- DEBUG: my_graph1_edgelist')\n",
    "display(my_graph1_edgelist)\n",
    "\n",
    "print('---- DEBUG: graph1_edgelist')\n",
    "display(graph1_edgelist)"
   ]
  },
  {
   "cell_type": "markdown",
   "id": "66085e9e-b949-4526-90b1-910f2c0804cc",
   "metadata": {},
   "source": [
    "(impl-adj2edgedict)=\n",
    "```{exercise}\n",
    "`graph1_adj` のような (Dense) Adacency Matrix から，`graph1_edgedict` に変換する関数 `adj2edgedict()` を作ってください．\n",
    "```"
   ]
  },
  {
   "cell_type": "code",
   "execution_count": 38,
   "id": "0a4296f8-1280-44e7-bf5a-adf518b18794",
   "metadata": {},
   "outputs": [],
   "source": [
    "# この関数は，関数実装の参考として使ってください．\n",
    "# ※※ ***_STUB() 関数を修正してはいけません！！※※\n",
    "def adj2edgedict_STUB(adj_matrix):\n",
    "    \"\"\"参考関数\n",
    "    adj2edgedict関数をテストするためのスタブ関数\n",
    "    cf. スタブ - https://ja.wikipedia.org/wiki/%E3%82%B9%E3%82%BF%E3%83%96\n",
    "    \"\"\"\n",
    "    from warnings import warn\n",
    "    warn('THIS IS STUB FUNCTION!! IMPLEMENT YOUR FUNCTION!!')\n",
    "\n",
    "    # Exampleのadj_GraphAであれば，次のような戻り値を期待する\n",
    "    result = {}   # 空の dict を準備\n",
    "\n",
    "    result[0] = [(1, 1.0)]\n",
    "        # - Keyに対するValueは常に list とする．\n",
    "        # - そのため，tupleを1つのみ持つ list を与えているのである．\n",
    "\n",
    "    result[1] = [(2, 1.0), (3, 1.0)]\n",
    "\n",
    "    result[2] = [(1, 1.0)]\n",
    "\n",
    "    result[3] = []\n",
    "    result[3].append((1, 1.0))\n",
    "    result[3].append((4, 1.0))\n",
    "    result[3].append((5, 1.0))\n",
    "        # 空配列で初期化してから append で一つずつ挿入する方策も考えられよう\n",
    "\n",
    "    result[4] = [(3, 1.0)]\n",
    "\n",
    "    result[5] = [(3, 1.0)]\n",
    "\n",
    "    return result"
   ]
  },
  {
   "cell_type": "code",
   "execution_count": 46,
   "id": "2fed8574-8cae-4ebf-b88c-51dae069ad65",
   "metadata": {
    "tags": [
     "exercise"
    ]
   },
   "outputs": [
    {
     "name": "stdout",
     "output_type": "stream",
     "text": [
      "---- DEBUG: display_matrix\n",
      "0.0 1.0 0.0 0.0 0.0 0.0 \n",
      "0.0 0.0 1.0 1.0 0.0 0.0 \n",
      "0.0 1.0 0.0 0.0 0.0 0.0 \n",
      "0.0 1.0 0.0 0.0 1.0 1.0 \n",
      "0.0 0.0 0.0 1.0 0.0 0.0 \n",
      "0.0 0.0 0.0 1.0 0.0 0.0 \n",
      "---- DEBUG: my_graph1_edgedict\n"
     ]
    },
    {
     "data": {
      "text/plain": [
       "{0: [(1, 1.0)],\n",
       " 1: [(2, 1.0), (3, 1.0)],\n",
       " 2: [(1, 1.0)],\n",
       " 3: [(1, 1.0), (4, 1.0), (5, 1.0)],\n",
       " 4: [(3, 1.0)],\n",
       " 5: [(3, 1.0)]}"
      ]
     },
     "metadata": {},
     "output_type": "display_data"
    },
    {
     "name": "stdout",
     "output_type": "stream",
     "text": [
      "---- DEBUG: graph1_edgedict\n"
     ]
    },
    {
     "data": {
      "text/plain": [
       "{0: [(1, 1.0)],\n",
       " 1: [(2, 1.0), (3, 1.0)],\n",
       " 2: [(1, 1.0)],\n",
       " 3: [(1, 1.0), (4, 1.0), (5, 1.0)],\n",
       " 4: [(3, 1.0)],\n",
       " 5: [(3, 1.0)]}"
      ]
     },
     "metadata": {},
     "output_type": "display_data"
    }
   ],
   "source": [
    "#\n",
    "# EXERCISE answer cell\n",
    "#\n",
    "def adj2edgedict(adj_matrix):\n",
    "    \"\"\"\n",
    "    Adjacency Matrixを Edge List (Sparse Matrix) に変換する関数\n",
    "\n",
    "    Parameters\n",
    "    ----------\n",
    "    adj_matrix : list[list[int]]\n",
    "        変換元の Adjacency Matrix\n",
    "\n",
    "    Returns\n",
    "    -------\n",
    "    edges_dict : dict[int, list[tuple(int, float)]]\n",
    "        Edge dict.\n",
    "        - 最も外の dict は：\n",
    "            - インデックス => src node id (int型)\n",
    "            - 要素        => dst node に関する情報が複数 (すなわちlist型)\n",
    "          格納されている．\n",
    "        - dictの要素たるlist型の中身は，tuple(int. float) であり，\n",
    "          (dst_id, weight) の2つ組となっている．\n",
    "\n",
    "    Note\n",
    "    ----\n",
    "    - 辞書の Key は，文字列str型ではなく，数値int型である\n",
    "    \"\"\"\n",
    "\n",
    "    edg_dict = {}\n",
    "    for i in range(len(adj_matrix)):\n",
    "        # appendはリストが存在していないときに追加できない\n",
    "        edg_dict[i] = []\n",
    "        for j in range(len(adj_matrix[i])):\n",
    "            if adj_matrix[i][j] != 0.0:\n",
    "                edg_dict[i].append((j, adj_matrix[i][j]))\n",
    "\n",
    "    return edg_dict   # この行は消して，適切な戻り値を作ろう！\n",
    "\n",
    "my_graph1_edgedict = adj2edgedict(graph1_adj)\n",
    "\n",
    "print('---- DEBUG: display_matrix')\n",
    "display_matrix(graph1_adj)\n",
    "\n",
    "print('---- DEBUG: my_graph1_edgedict')\n",
    "display(my_graph1_edgedict)\n",
    "\n",
    "print('---- DEBUG: graph1_edgedict')\n",
    "display(graph1_edgedict)"
   ]
  },
  {
   "cell_type": "markdown",
   "id": "901b8190-7d6e-44a4-b290-b53a6517e15b",
   "metadata": {},
   "source": [
    "### 練習課題の結果の確認"
   ]
  },
  {
   "cell_type": "code",
   "execution_count": null,
   "id": "71e50a56-af6e-466a-8fd9-ce1f9a3404b7",
   "metadata": {
    "editable": true,
    "slideshow": {
     "slide_type": ""
    },
    "tags": []
   },
   "outputs": [],
   "source": [
    "graph1_pos = {\n",
    "    0: [0, 0],\n",
    "    1: [1, 1],\n",
    "    2: [1, 2],\n",
    "    3: [2, 1],\n",
    "    4: [2, 2],\n",
    "    5: [3, 1]\n",
    "}\n",
    "\n",
    "# 確認\n",
    "import matplotlib.pyplot as plt\n",
    "\n",
    "# 正しければ，同じ構造のグラフが3つ表示される．\n",
    "# 今は，ここの処理の詳細を考えないで構いません．のちの Practice シートで理解を深めてください．\n",
    "fig, (ax1, ax2, ax3) = plt.subplots(1, 3, figsize=(16, 4))\n",
    "try:\n",
    "    ax1.set_title('(a) graph1_adj')\n",
    "    ebai.draw_graph_structure(graph1_adj, graph1_pos, ax=ax1, show_weight=True)\n",
    "except IndexError as e:\n",
    "    print('ERROR on (a): ', e)\n",
    "\n",
    "try:\n",
    "    ax2.set_title('(b) adj2edgelist(graph1_adj)')\n",
    "    ebai.draw_graph_structure(adj2edgelist(graph1_adj), graph1_pos, ax=ax2, show_weight=True)\n",
    "except IndexError as e:\n",
    "    print('ERROR on (b):', e)\n",
    "\n",
    "try:\n",
    "    ax3.set_title('(c) adj2edgedict(graph1_adj)')\n",
    "    ebai.draw_graph_structure(adj2edgedict(graph1_adj), graph1_pos, ax=ax3, show_weight=True)\n",
    "except IndexError as e:\n",
    "    print('ERROR on (c):', e)\n",
    "\n",
    "plt.show()\n"
   ]
  },
  {
   "cell_type": "markdown",
   "id": "788d77b5-5dab-4c64-a90c-6b12cda1eb4d",
   "metadata": {
    "editable": true,
    "slideshow": {
     "slide_type": ""
    },
    "tags": []
   },
   "source": [
    "## まとめ\n",
    "\n",
    "この資料における必須の内容は以上です．"
   ]
  },
  {
   "cell_type": "markdown",
   "id": "f991db36-ef89-4654-8286-2c30920e72df",
   "metadata": {},
   "source": [
    "(tut2-appendix)=\n",
    "\n",
    "## Appendix\n",
    "\n",
    "ここから下はおまけです．\n",
    "一通り課題を終えた後に，時間があれば確認してください．より深い考察ができるようになるかもしれません．\n",
    "\n",
    "なお，ここに書かれた内容や数値をそのまま書きうつしてもレポートにはなりません．"
   ]
  },
  {
   "cell_type": "markdown",
   "id": "c7dbeb7b-0876-422f-8c5b-b70d95c2df4c",
   "metadata": {},
   "source": [
    "(tut2-appendix1)=\n",
    "\n",
    "### Appendix 1: グラフの構造と典型的なデータ参照方法\n",
    "\n",
    "使いそうな参照方式として3種類を見てみましょう．\n",
    "\n",
    "- [](#access-pattern-1): src, dst を指定して，1つの重み (weight) を得る\n",
    "- [](#access-pattern-2): src を指定して，特定のノードから移動可能な全ノードを (dst, weight) のリストとして得る\n",
    "- [](#access-pattern-3): dst を指定して，特定のノードに到達可能な全ノードを (src, dst, weight) のリストとして得る\n",
    "\n",
    ":::{hint}\n",
    "ここの記述は初学者には難しいと思います．書き方そのものは，[コードスニペット](https://ja.wikipedia.org/wiki/%E3%82%B9%E3%83%8B%E3%83%9A%E3%83%83%E3%83%88)として使うようにしてください．  \n",
    "典型例をほぼ載せていますので，ググるよりは早いはずです．\n",
    ":::"
   ]
  },
  {
   "cell_type": "markdown",
   "id": "7707f481-f538-46af-b23d-663218c2d508",
   "metadata": {},
   "source": [
    "(access-pattern-1)=\n",
    "#### パターン 1\n",
    "\n",
    "一番簡単そうな，1要素へのアクセスを見てみましょう．いずれも1行で書けます．\n",
    "\n",
    "例えば，src = 1 番から dst = 3 番に遷移する際の重み(weight)を知りたい，というケースです．"
   ]
  },
  {
   "cell_type": "code",
   "execution_count": null,
   "id": "4d3f2cb9-02ec-40a4-8337-976af57588cf",
   "metadata": {},
   "outputs": [],
   "source": [
    "# Access Pattern 1\n",
    "\n",
    "SRC_ID, DST_ID = 1, 3\n",
    "\n",
    "# -----------------------------------------------------------------\n",
    "# a) Dense adjacency matrix\n",
    "print(graph1_adj[SRC_ID][DST_ID])\n",
    "\n",
    "# -----------------------------------------------------------------\n",
    "# b) Sparce adjacency matrix\n",
    "print([w for (s, d, w) in graph1_edgelist if s == SRC_ID and d == DST_ID][0])\n",
    "    # 最後の[0]は見つかった結果の配列から0番目を取り出すために入れてます．\n",
    "    # It is equivalant to:\n",
    "    # tmp = []\n",
    "    # for (s, d, w) in graph1_edgelist:\n",
    "    #   if s == SRC_ID and d == dst_id:\n",
    "    #     tmp.append(w)\n",
    "    # result = tmp[0]\n",
    "\n",
    "# -----------------------------------------------------------------\n",
    "# c) Adjacency List\n",
    "print([w for (d, w) in graph1_edgedict[SRC_ID] if d == DST_ID][0])\n",
    "    # It is equivalant to:\n",
    "    # tmp = []\n",
    "    # for (d, w) in graph1_edgedict[SRC_ID]:\n",
    "    #   if d == DST_ID:\n",
    "    #     tmp.append(w)\n",
    "    # result = tmp[0]\n",
    "\n",
    "# セルの後始末\n",
    "del SRC_ID, DST_ID"
   ]
  },
  {
   "cell_type": "markdown",
   "id": "699efeab-f5bf-45cf-9429-8e7ae5d399c0",
   "metadata": {},
   "source": [
    "皆さんにとって，どれが簡単（あるいは，直感的？）な記述に見えるでしょうか？\n",
    "\n",
    "あるいは，参照にかかる処理速度の観点からはどうなっているでしょうか．  \n",
    "Jupyter Lab では特定の1行を繰り返し実行して計算速度を図る機能 `%timeit` があります．やってみましょう [^unit]．\n",
    "\n",
    "[^unit]: 1 ns (nano second) = $10^{-9}$ sec  \n",
    "    1 µs (micro second) = $10^{-6}$ sec  \n",
    "    1 ms (milli second) = $10^{-3}$ sec\n"
   ]
  },
  {
   "cell_type": "code",
   "execution_count": null,
   "id": "c2a952b9-a8d6-4a07-bc76-3a64151a4bc9",
   "metadata": {},
   "outputs": [],
   "source": [
    "# Access Pattern 1\n",
    "SRC_ID, DST_ID = 1, 3\n",
    "\n",
    "%timeit graph1_adj[SRC_ID][DST_ID]\n",
    "%timeit [d for (s, d, w) in graph1_edgelist if s == SRC_ID and d == DST_ID][0]\n",
    "%timeit [d for (d, w) in graph1_edgedict[SRC_ID] if d == DST_ID][0]\n",
    "\n",
    "del SRC_ID, DST_ID  # 後始末"
   ]
  },
  {
   "cell_type": "markdown",
   "id": "5edd2ba7-d668-4e4b-91ed-64da5f0fc95b",
   "metadata": {},
   "source": [
    "(access-pattern-2)=\n",
    "#### パターン 2\n",
    "\n",
    "次は，例えば，`1` 番ノードから `2`, `3` 番ノードに向けて，いずれも重み `1.0` で接続されている，という情報を得てみます．  \n",
    "つまり，何らかのシステムに対して `1` を入力したとき，`[(2, 1.0), (3, 1.0)]` という出力を得るにはどうすればいいか，という話です．"
   ]
  },
  {
   "cell_type": "code",
   "execution_count": null,
   "id": "bac6ac15-cdb7-41e1-b0f3-7f20b5515c56",
   "metadata": {},
   "outputs": [],
   "source": [
    "# Access Pattern 2\n",
    "\n",
    "SRC_ID, DST_ID = 1, None\n",
    "\n",
    "# -----------------------------------------------------------------\n",
    "# a) Dense adjacency matrix\n",
    "display([(d, w) for d, w in enumerate(graph1_adj[SRC_ID]) if w > 0])\n",
    "    # It is equivalant to:\n",
    "    # result = []\n",
    "    # for d, w in enumerate(graph1_adj[SRC_ID]):\n",
    "    #   if w > 0:  # w == graph1_adj[SRC_ID][d]\n",
    "    #     result.append((d, w))\n",
    "\n",
    "# -----------------------------------------------------------------\n",
    "# b) Sparce adjacency matrix\n",
    "display([(d, w) for (s, d, w) in graph1_edgelist if s == SRC_ID])\n",
    "    # It is equivalant to:\n",
    "    # result = []\n",
    "    # for s, d, w in graph1_edgelist:\n",
    "    #   if s == SRC_ID:\n",
    "    #     result.append((d, w))\n",
    "\n",
    "# -----------------------------------------------------------------\n",
    "# c) Adjacency List\n",
    "display(graph1_edgedict[SRC_ID])\n",
    "\n",
    "\n",
    "# セルの後始末\n",
    "del SRC_ID, DST_ID"
   ]
  },
  {
   "cell_type": "markdown",
   "id": "ad766b8f-bdbb-4645-ad5a-dc333337303c",
   "metadata": {},
   "source": [
    "計算速度はどうでしょうか．"
   ]
  },
  {
   "cell_type": "code",
   "execution_count": null,
   "id": "8a862593-1901-4035-844a-58744bc68009",
   "metadata": {},
   "outputs": [],
   "source": [
    "# Access Pattern 2\n",
    "\n",
    "SRC_ID, DST_ID = 1, None\n",
    "\n",
    "%timeit [(d, ws[SRC_ID]) for d, ws in enumerate(graph1_adj) if ws[SRC_ID] > 0]\n",
    "%timeit [(d, w) for (s, d, w) in graph1_edgelist if s == SRC_ID]\n",
    "%timeit graph1_edgedict[SRC_ID]\n",
    "\n",
    "del SRC_ID, DST_ID  # 後始末"
   ]
  },
  {
   "cell_type": "markdown",
   "id": "2907433c-f2ae-4d36-916e-42898d2e7af1",
   "metadata": {},
   "source": [
    "(access-pattern-3)=\n",
    "#### パターン 3\n",
    "\n",
    "最後に，逆探索を考えてみましょう．DSTが決まっているときに，そのDSTにたどり着けるSRCおよびその際の重みをリストとして得たい，とします．  \n",
    "なお，graph1の例であれば，dst=1にたどり着けるのは，src=0, 2, 3 です．\n",
    "\n",
    "（0と1の間は一方通行になっていることに注意してください．デバッグのため，すべて (src, dst, weight) の3つ組 tuple を要素とするリストを得ることにします．）"
   ]
  },
  {
   "cell_type": "code",
   "execution_count": null,
   "id": "e90eff88-063a-4c04-92c6-079aad29e3cd",
   "metadata": {},
   "outputs": [],
   "source": [
    "# Access Pattern 3\n",
    "\n",
    "SRC_ID, DST_ID = None, 1\n",
    "\n",
    "# -----------------------------------------------------------------\n",
    "# a) Dense adjacency matrix\n",
    "display([(s, DST_ID, wd[DST_ID]) for s, wd in enumerate(graph1_adj) if wd[DST_ID] > 0])\n",
    "    # It is equivalant to:\n",
    "    # result = []\n",
    "    # for s, wd in enumerate(graph1_adj):\n",
    "    #   if wd[DST_ID] > 0:  # wd[DST_ID] == graph1_adj[SRC_ID][DST_ID]\n",
    "    #     result.append((s, DST_ID, wd[DST_ID]))\n",
    "\n",
    "# -----------------------------------------------------------------\n",
    "# b) Sparce adjacency matrix\n",
    "display([(s, d, w) for (s, d, w) in graph1_edgelist if d == DST_ID])\n",
    "    # It is equivalant to:\n",
    "    # result = []\n",
    "    # for (s, d, w) in graph1_edgelist:\n",
    "    #   if s == src_id and d == DST_ID:\n",
    "    #     result.append((s, d, w))\n",
    "\n",
    "# -----------------------------------------------------------------\n",
    "# c) Adjacency List\n",
    "display([(s, d, w) for (s, dw) in graph1_edgedict.items() for d, w in dw if d == DST_ID])\n",
    "    # It is equivalant to:\n",
    "    # result = []\n",
    "    # for s, dw in graph1_edgedict.items():\n",
    "    #     for d, w in dw:\n",
    "    #         if d == DST_ID:\n",
    "    #             result.append((s, d, w))\n",
    "    # print(result)\n",
    "\n",
    "# 後始末\n",
    "del SRC_ID, DST_ID"
   ]
  },
  {
   "cell_type": "markdown",
   "id": "54036611-0e92-42d7-bdf0-2e3644f81964",
   "metadata": {},
   "source": [
    "計算速度はどうでしょうか．"
   ]
  },
  {
   "cell_type": "code",
   "execution_count": null,
   "id": "c2f0c608-2996-4fdb-a29c-d60330e60ec7",
   "metadata": {},
   "outputs": [],
   "source": [
    "# Access Pattern 3\n",
    "\n",
    "SRC_ID, DST_ID = None, 1\n",
    "\n",
    "%timeit [(s, DST_ID, wd[DST_ID]) for s, wd in enumerate(graph1_adj) if wd[DST_ID] > 0]\n",
    "%timeit [(s, d, w) for (s, d, w) in graph1_edgelist if d == DST_ID]\n",
    "%timeit [(s, d, w) for (s, dw) in graph1_edgedict.items() for d, w in dw if d == DST_ID]\n",
    "\n",
    "del SRC_ID, DST_ID  # 後始末"
   ]
  },
  {
   "cell_type": "markdown",
   "id": "2d95f54a-f6dc-462e-af7f-8b001aaa50e6",
   "metadata": {},
   "source": [
    ":::{exercise}\n",
    "※これは Appendix 内の exercise です．\n",
    "\n",
    "グラフを表現するために，ここで示した3種のどの表現を利用すべきでしょうか？  \n",
    "今後の役に立つかもしれません．客観的な情報も含めて，改めて整理しておくとよいでしょう．\n",
    ":::"
   ]
  },
  {
   "cell_type": "markdown",
   "id": "1430f17b-1c0c-42dd-a2cc-627dddf90267",
   "metadata": {
    "editable": true,
    "slideshow": {
     "slide_type": ""
    },
    "tags": [
     "exercise"
    ]
   },
   "source": [
    "以下は，表でまとめるためのテンプレートです．ダブルクリックして直接編集してください．**何を記録するかは，各自にお任せします．**\n",
    "\n",
    ":::{table} Summary of data structure for Graph\n",
    ":label: table-graph-datastructure-summary\n",
    ":align: center\n",
    "| Access Pattern | a) Dense Adj. Matrix | b) Sparse Adj. Matrix | c) Adj. List   | Note   |\n",
    "|:--------------:|---------------------:|----------------------:|---------------:|:------:|\n",
    "| *1*:           |                      |                       |                | src,dst --> weight |\n",
    "| *2*:           |                      |                       |                | src --> dst,weight |\n",
    "| *3*:           |                      |                       |                | dst --> src,weight |\n",
    ":::"
   ]
  }
 ],
 "metadata": {
  "kernelspec": {
   "display_name": "Python 3 (ipykernel)",
   "language": "python",
   "name": "python3"
  },
  "language_info": {
   "codemirror_mode": {
    "name": "ipython",
    "version": 3
   },
   "file_extension": ".py",
   "mimetype": "text/x-python",
   "name": "python",
   "nbconvert_exporter": "python",
   "pygments_lexer": "ipython3",
   "version": "3.12.3"
  }
 },
 "nbformat": 4,
 "nbformat_minor": 5
}
