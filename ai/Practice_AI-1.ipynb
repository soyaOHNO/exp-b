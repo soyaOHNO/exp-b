{
 "cells": [
  {
   "cell_type": "raw",
   "id": "c7f28aba-d77a-4dd6-92a7-6ad5942b66fc",
   "metadata": {
    "editable": true,
    "raw_mimetype": "",
    "slideshow": {
     "slide_type": ""
    },
    "tags": []
   },
   "source": [
    "%\n",
    "% Please modify following contents to indicate this report and your information.\n",
    "% Note that, this cell should be written as LaTeX code.\n",
    "%\n",
    "\\title{情報工学実験B 日報 AI-1 \\\\\n",
    "       --- \\Large{基本的なグラフ探索処理} ---}\n",
    "\n",
    "\\author{氏名: 大野　颯也(OHNO, Soya) \\\\   % FAMILY NAME(姓), First name(名) の順としてください．\n",
    "        学生番号: 09B23523}\n",
    "\n",
    "\\date{実施日: {\\today} }   % 日報では，実施日だけわかるようにすれば十分．\n",
    "\n",
    "%\n",
    "% Output LaTeX/PDF title page and ToC.\n",
    "%\n",
    "\\maketitle\n",
    "\\setcounter{tocdepth}{3}\\tableofcontents\n",
    "\\clearpage"
   ]
  },
  {
   "cell_type": "markdown",
   "id": "835f7d50-aad2-42d8-b07b-3f8d9660fcad",
   "metadata": {
    "editable": true,
    "slideshow": {
     "slide_type": ""
    },
    "tags": []
   },
   "source": [
    "# Practice AI-1: 基本的なグラフ探索処理"
   ]
  },
  {
   "cell_type": "markdown",
   "id": "3c66f4f3-b359-44c6-ad06-a6259de2ad00",
   "metadata": {
    "editable": true,
    "slideshow": {
     "slide_type": ""
    },
    "tags": [
     "hidden"
    ]
   },
   "source": [
    "**目次**\n",
    "- [](Tutorial_1-python-basic.ipynb)\n",
    "- [](Tutorial_2-data-structure.ipynb)\n",
    "- [](#Step-A1)\n",
    "- [](#Step-A2)\n",
    "- [](#Step-A3)\n",
    "- [](#Step-A4)"
   ]
  },
  {
   "cell_type": "markdown",
   "id": "13bccd41-d143-4318-b871-018eccf1ce10",
   "metadata": {
    "editable": true,
    "slideshow": {
     "slide_type": ""
    },
    "tags": []
   },
   "source": [
    "**人工知能実験の目標** &mdash; _The aim of AI experiment_\n",
    "\n",
    "迷路探索問題は，古典的な人工知能における典型的な問題の一つである．  \n",
    "迷路探索に必要な探索処理は，適切な前提を置くことができれば，グラフ探索問題として解ける．\n",
    "\n",
    "本実験では，迷路探索問題を解くためのプログラムを作成する．  \n",
    "プログラムの実装を通して，**探索アルゴリズムの特徴を理解する**と同時に，**データ構造とアルゴリズムに対する理解を深める**ことを目指す．\n",
    "\n",
    "**AI-1 の概要** &mdash; _Abstract (AI-1)_\n",
    "\n",
    "第1回は，深さ優先探索と幅優先探索を実装し，探索アルゴリズム実装の基本形を理解する．  \n",
    "そのうえで，簡単な実験を通して，各探索アルゴリズムの特徴（長所と欠点｜Pros.&Cons.）に関する理解を深める．\n",
    "\n",
    "アルゴリズムの実装は，データ構造とアルゴリズムに対する理解を応用すれば，容易に実装可能である．"
   ]
  },
  {
   "cell_type": "markdown",
   "id": "ba86e322-4b52-4759-9edd-12baa12d4891",
   "metadata": {
    "editable": true,
    "slideshow": {
     "slide_type": ""
    },
    "tags": [
     "hidden"
    ]
   },
   "source": [
    ":::{hint}\n",
    "受講生によって進捗が様々だと思いますので，今回の課題は少し多めに提示しています．\n",
    "\n",
    "少なくとも日報段階では [解説A3] に相当する内容まで終わらせることを最優先としてください．  \n",
    "Done is better than perfect! です．\n",
    "\n",
    "そのうえで，宿題として[解説A4]まで終わらせ，できる限りの理解を深めておくことを，強くお勧めします．  \n",
    "人工知能実験は2回しかありませんので，遅れをリカバリする余裕は，それほどありません．\n",
    ":::"
   ]
  },
  {
   "cell_type": "markdown",
   "id": "c77fe35a-2be3-482b-8de4-54e4efc4669a",
   "metadata": {
    "editable": true,
    "slideshow": {
     "slide_type": ""
    },
    "tags": []
   },
   "source": [
    "## AI-1の課題\n",
    "\n",
    "別紙 `Report_AI-1_{student_id}.ipynb` を用いて，以下の考察課題に対するレポートを作成してください．  \n",
    "レポートの作成にあたっては，本紙の解説や練習問題等を参考にしながら，必要なプログラムの作成と考察をおこなってください．\n",
    "\n",
    ":::{important} 課題 AI-1\n",
    "迷路探索のためのグラフ探索として，「深さ優先探索」と「幅優先探索」をおこなうプログラムを作成し，その実装や実装方針について考察せよ．  \n",
    "このとき，実例として，①探索対象のグラフ，②探索過程や探索結果等，を明示したうえで，実装上の各処理に関する考察を述べること．\n",
    ":::"
   ]
  },
  {
   "cell_type": "markdown",
   "id": "b8db9087-9103-44ec-8fb4-017da9ac831c",
   "metadata": {
    "editable": true,
    "slideshow": {
     "slide_type": ""
    },
    "tags": [
     "hidden"
    ]
   },
   "source": [
    ":::{dropdown} 考察課題（★発展★）　※任意課題\n",
    "★発展 Level 1★  \n",
    "基本課題の考察において，『経路を見つけるという目的においては終了判定（処理(6)）は不要である』という\n",
    "命題([_cf. wikipedia_](https://ja.wikipedia.org/wiki/%E5%91%BD%E9%A1%8C))に基づいて，より深い考察を示してみよう．\n",
    "\n",
    "```{dropdown} 発展 Level 1についての注意．\n",
    "レポートで『ここで「・・・」という命題が与えられたので考えてみる』のような書き方はしないように．\n",
    "\n",
    "命題についての何らかの解が含まれるように，レポートの中で自ら導き出すように書いてください．  \n",
    "もう少し言い換えると，何らかの実験結果として，\n",
    "\n",
    "- ・・・このことから，経路を見つけるという目的においては終了判定（処理(6)）は不要である．ただし，・・・\n",
    "- ・・・このため，終了判定（処理(6)）をすることで，経路を見つけることができるのである．・・・\n",
    "\n",
    "のような一文が書かれていることを期待しています．（文面はこれらに限る必要は全くありません．）\n",
    "```\n",
    ":::\n"
   ]
  },
  {
   "cell_type": "markdown",
   "id": "d0c8b61d-53ca-4ecc-b2bb-d0860cd3731b",
   "metadata": {
    "editable": true,
    "slideshow": {
     "slide_type": ""
    },
    "tags": []
   },
   "source": [
    "## 準備\n",
    "\n",
    "次の3つのセルで，以降の処理に必要なライブラリを読み込みます．  \n",
    "必ず実行してから，以降の解説資料やその練習問題に取り組んでください．\n",
    "\n",
    "ヒント：左に目次を出しているなら，「準備」見出しを右クリックして「Select and Run cell(s) for this heading」でも実行できます．"
   ]
  },
  {
   "cell_type": "code",
   "execution_count": 2,
   "id": "5ed002a1-9230-4cac-8626-4b8ed5ce6d65",
   "metadata": {
    "editable": true,
    "slideshow": {
     "slide_type": ""
    },
    "tags": [
     "hide-input"
    ]
   },
   "outputs": [
    {
     "name": "stdout",
     "output_type": "stream",
     "text": [
      "*** System Information ***\n",
      "Python     : 3.12.3 (main, Aug 14 2025, 17:47:21) [GCC 13.3.0]\n",
      "NumPy      : 2.3.2\n",
      "Matplotlib : 3.10.5\n",
      "NetworkX   : 3.5\n"
     ]
    }
   ],
   "source": [
    "# 本実験でほぼ毎回利用するライブラリ\n",
    "import sys\n",
    "import numpy as np\n",
    "\n",
    "from IPython.display import display, Markdown\n",
    "\n",
    "import matplotlib\n",
    "from matplotlib import pyplot as plt\n",
    "matplotlib.rcParams[\"savefig.bbox\"] = 'tight'\n",
    "\n",
    "# データ構造の定義に利用する\n",
    "from collections import deque\n",
    "from dataclasses import dataclass\n",
    "\n",
    "# グラフ構造の描画に利用するライブラリ\n",
    "#   - ebai.py の中で利用しており，明示的に利用する必要は，ほぼない．\n",
    "import networkx as netx\n",
    "\n",
    "#\n",
    "# DEBUG\n",
    "#   ツールのバージョン依存の問題が起こることもあります．(Pythonでは特に顕著)\n",
    "#   重要なツールについては「動作確認の環境」として，ツール名だけでなくバージョン名も書く習慣をつけましょう．\n",
    "#\n",
    "print('*** System Information ***')\n",
    "print(f'Python     : {sys.version}')\n",
    "print(f'NumPy      : {np.__version__}')\n",
    "print(f'Matplotlib : {matplotlib.__version__}')\n",
    "print(f'NetworkX   : {netx.__version__}')"
   ]
  },
  {
   "cell_type": "code",
   "execution_count": 3,
   "id": "0c1af2f1-dac0-4b25-bd1e-14e6f073db89",
   "metadata": {
    "editable": true,
    "scrolled": true,
    "slideshow": {
     "slide_type": ""
    },
    "tags": [
     "hide-input"
    ]
   },
   "outputs": [
    {
     "name": "stdout",
     "output_type": "stream",
     "text": [
      "/home/users/ecs/09B23523/exp-b/ai/ebai.py\n",
      "> Revision 2025.1\n",
      "> 更新日時：2025-10-03 11:18:05.715802\n",
      ">\n",
      "> Python     : 3.12.3 (main, Aug 14 2025, 17:47:21) [GCC 13.3.0]\n",
      "> NumPy      : 2.3.2\n",
      "> Matplotlib : 3.10.5\n",
      "> NetworkX   : 3.5\n"
     ]
    },
    {
     "data": {
      "text/markdown": [
       "**要確認：Revision 2025.1 以上が必要です**"
      ],
      "text/plain": [
       "<IPython.core.display.Markdown object>"
      ]
     },
     "metadata": {},
     "output_type": "display_data"
    }
   ],
   "source": [
    "%reload_ext autoreload\n",
    "%autoreload 1\n",
    "%aimport ebai\n",
    "    # 上記の3行は，Jupyter Lab の特殊なコマンドです．\n",
    "    # - 本講義の範囲を超えるので，詳細を理解する必要はありません．\n",
    "    # - 通常は，一度 import すると，再度同じファイルを import することはできません，\n",
    "    #   - 正確には，実行しても，まったく効果がありません．\n",
    "    #   - importを実行してから，ebai.py を編集しても，再度 import する術がありません．\n",
    "    # - そこで，上記3行を書くことで，ebai.py に定義された関数は，毎回 ebai.py を\n",
    "    #   再読み込みしてから実行してくださいね，という動作に切り替えることができます．\n",
    "    #   （関数呼び出しのオーバーヘッドが増えるというデメリットはあります．なので，\n",
    "    #     開発用途の特殊コマンド，という位置づけで，理解しておきましょう．）\n",
    "    # 参考：https://ipython.org/ipython-doc/stable/config/extensions/autoreload.html\n",
    "\n",
    "# 人工知能実験用の補助関数を定義したサブライブラリ（改変不可）\n",
    "import ebai\n",
    "    # 以降，ebai.pyの中に書かれた関数は，\"ebai.\" のように名前空間を明示することで利用できます．\n",
    "    # 例えば，以下の記述は，ebai.py の中に書かれた，ebai_info()という関数を呼び出しています．\n",
    "\n",
    "ebai.ebai_info()\n",
    "display(Markdown(\"**要確認：Revision 2025.1 以上が必要です**\"))"
   ]
  },
  {
   "cell_type": "code",
   "execution_count": 4,
   "id": "b542805f-61bc-425e-a418-3170adacc41e",
   "metadata": {
    "editable": true,
    "raw_mimetype": "notebook",
    "slideshow": {
     "slide_type": ""
    },
    "tags": [
     "hide-input"
    ]
   },
   "outputs": [],
   "source": [
    "# PNGかPDFで画像を出力する\n",
    "# - 難解なのでこのセルの詳細は理解しなくても問題ありません．\n",
    "# - 以降，画像を描画する場所でエラーが出る場合は，以下を無効化して，\n",
    "#   Kernel->Restart Kernelしてください．\n",
    "# - レポートPDFを作るときに，どうしても画像サイズが10 MB超える！という場合は，\n",
    "#   ('png', 'pdf') を ('jpeg') のみに置き換えてから，試してみてください．\n",
    "from matplotlib_inline.backend_inline import set_matplotlib_formats\n",
    "set_matplotlib_formats('png', 'pdf')"
   ]
  },
  {
   "cell_type": "markdown",
   "id": "70ecc1ea-ca28-4260-9e97-2b54df594bf2",
   "metadata": {
    "editable": true,
    "slideshow": {
     "slide_type": ""
    },
    "tags": []
   },
   "source": [
    "(Step-A1)=\n",
    "\n",
    "## [解説A1] データ構造とアルゴリズム (2) -- Stack, Queue, Graph\n",
    "\n",
    "人工知能実験では，以下のデータ構造を活用していきます．必要に応じて，データ構造とアルゴリズムの教科書を参照して，復習してください．\n",
    "\n",
    "- Stack\n",
    "- Queue\n",
    "- Graph\n",
    "\n",
    "**途中のソースコードセルにテストコードを書き加えるなどして，少しずつ理解を深めることをお勧めします．**\n",
    "\n",
    "Exercise については，レポートへの記載はほぼ不要ですが，実施しておくべき練習問題です．  \n",
    "TAや教員は，別紙 Tutorial や Exercise を解いていることを前提に質問を受け付けます．"
   ]
  },
  {
   "cell_type": "markdown",
   "id": "0ec39c35-9ef8-4e0b-a91d-8c64089dfe40",
   "metadata": {
    "editable": true,
    "slideshow": {
     "slide_type": ""
    },
    "tags": []
   },
   "source": [
    "(stack_and_queue)=\n",
    "\n",
    "### (1) Stack and Queue\n",
    "\n",
    "StackもQueueも，より高度なリストの一種である，と捉えておけば，今のところ問題はないでしょう．（参照：スライド#22-23）\n",
    "\n",
    "本講義では，以下のポリシーで運用します．\n",
    "\n",
    "  - Stack も Queue も，`collections.deque` オブジェクトを利用する．（deque は「デック」と発音する．）\n",
    "    - https://docs.python.org/ja/3.12/library/collections.html#collections.deque\n",
    "    - 同じデータ構造オブジェクトにデータを格納するが，関数の使い分けにより，適切な意味を持たせることができる．\n",
    "  - Stack\n",
    "    - _PUSH_ => `append()` method\n",
    "    - _POP_  => `pop()` method\n",
    "  - Queue\n",
    "    - _ENQUEUE_ => `append()` method\n",
    "    - _DEQUEUE_ => `popleft()` method\n"
   ]
  },
  {
   "cell_type": "code",
   "execution_count": 5,
   "id": "8d9cf941-7844-4b1c-b6e1-b052b65a066e",
   "metadata": {
    "editable": true,
    "slideshow": {
     "slide_type": ""
    },
    "tags": []
   },
   "outputs": [],
   "source": [
    "from collections import deque\n",
    "    # ※※※※※※※※※※※※※※※※※※※※※※※※※※※※※※※※※※※※※※\n",
    "    # 　本欄のように，字下げして書かれたコメントの一切について，提出レポートに\n",
    "    #   含めることを許可しません．（日報段階での混入は，許容します．）\n",
    "    #   なお，\"\"\"と\"\"\"で囲われた DOCSTRING は，そのまま残して構いませんが，各自の\n",
    "    #   実際の処理と矛盾がないようにしてください．講義としての注意書きも不要．\n",
    "    #   レポートとして必要な内容，あるいは，自分自身の覚書として必要ならば，\n",
    "    #   「自分の言葉」で説明するようにしてください．\n",
    "    # ※※※※※※※※※※※※※※※※※※※※※※※※※※※※※※※※※※※※※※\n",
    "    #\n",
    "    # - 冒頭でもimportしているが，解説のため，ここにも書いている．\n",
    "    #   - 通常，import は一回だけすればよい．\n",
    "    # - from A import B という書き方をせず，import collections と書いた場合，\n",
    "    #   以降の deque 初期化において，\n",
    "    #       collections.deque([1, 2, ...\n",
    "    #   のように書く必要が出てくる．シンボル名の重複がないなら，この書き方で十分．"
   ]
  },
  {
   "cell_type": "markdown",
   "id": "2c4c86d9-19fb-47e4-ad19-3d3e6a6d3b6d",
   "metadata": {
    "editable": true,
    "slideshow": {
     "slide_type": ""
    },
    "tags": []
   },
   "source": [
    "#### 基本"
   ]
  },
  {
   "cell_type": "code",
   "execution_count": 6,
   "id": "d268b5e8-3ab6-4141-87f5-b3a4a8b03bd2",
   "metadata": {},
   "outputs": [
    {
     "name": "stdout",
     "output_type": "stream",
     "text": [
      "deque([1, 2, 3, 4])\n",
      "deque([1, 2, 3, 4, 10])\n",
      "10\n",
      "deque([1, 2, 3, 4])\n",
      "4\n",
      "deque([1, 2, 3])\n"
     ]
    }
   ],
   "source": [
    "##\n",
    "## Stack\n",
    "##\n",
    "\n",
    "# STACK.initialize\n",
    "data_stack = deque([1, 2, 3, 4])\n",
    "print(data_stack)\n",
    "\n",
    "# STACK.push\n",
    "data_stack.append(10)\n",
    "print(data_stack)\n",
    "    # 複数要素を入れたいなら，extendを使うこともできる．\n",
    "    # ただし，今回の作成では使わなくても実装できるはず．\n",
    "\n",
    "# STACK.pop\n",
    "## 1st time\n",
    "a = data_stack.pop()\n",
    "print(a)\n",
    "print(data_stack)\n",
    "\n",
    "## 2nd time\n",
    "a = data_stack.pop()\n",
    "print(a)\n",
    "print(data_stack)"
   ]
  },
  {
   "cell_type": "code",
   "execution_count": 7,
   "id": "8ee87766-b6bb-45ed-99f9-803d466d22a6",
   "metadata": {},
   "outputs": [
    {
     "name": "stdout",
     "output_type": "stream",
     "text": [
      "deque([1, 2, 3, 4])\n",
      "deque([1, 2, 3, 4, 10])\n",
      "1\n",
      "deque([2, 3, 4, 10])\n",
      "2\n",
      "deque([3, 4, 10])\n"
     ]
    }
   ],
   "source": [
    "##\n",
    "## Queue\n",
    "##\n",
    "\n",
    "# QUEUE.initialize\n",
    "data_queue = deque([1, 2, 3, 4])\n",
    "print(data_queue)\n",
    "\n",
    "# QUEUE.enqueue\n",
    "data_queue.append(10)\n",
    "print(data_queue)\n",
    "\n",
    "# QUEUE.dequeue\n",
    "## 1st time\n",
    "a = data_queue.popleft()\n",
    "print(a)\n",
    "print(data_queue)\n",
    "    # queueとして要素を取り出す場合，先頭から取り出します．\n",
    "    # 末尾 (printの表示では，\"右\"側) にデータが enqueue されていますので，\n",
    "    # 先頭から取り出す = dequeue なら，左から pop --> popleft() となります．\n",
    "\n",
    "## 2nd time\n",
    "a = data_queue.popleft()\n",
    "print(a)\n",
    "print(data_queue)"
   ]
  },
  {
   "cell_type": "markdown",
   "id": "26ec8448-196d-4c61-ae77-a7b7a888e8c8",
   "metadata": {
    "editable": true,
    "slideshow": {
     "slide_type": ""
    },
    "tags": []
   },
   "source": [
    "#### 迷路探索における状態を Stack/Queue に格納\n",
    "\n",
    "Stack や Queue には，1つの数字だけでなく，タプル・辞書型・データクラスなどを利用すれば，複数の項目を持つ1要素を格納することもできます，\n",
    "\n",
    "本実験では，迷路探索のためのグラフ探索をします．\n",
    "迷路探索過程における **状態** を表現するため， `State` というデータクラスを用意しましょう．"
   ]
  },
  {
   "cell_type": "code",
   "execution_count": 8,
   "id": "288abc40-40d7-475f-af31-121bb410d11d",
   "metadata": {},
   "outputs": [],
   "source": [
    "@dataclass\n",
    "class State:\n",
    "    \"\"\"\n",
    "    Parameters\n",
    "    ----------\n",
    "    id: int\n",
    "        ロボットが現在居る場所．探索したいグラフのノード番号で指定する．\n",
    "        Adjacency Matrix/List の番号と相互参照できるものとする．\n",
    "\n",
    "    cost: float\n",
    "        探索過程におけるノードのコスト g(n)\n",
    "\n",
    "    parent_id: int\n",
    "        現在位置に至る1つ前の時点で滞在していた場所．ノード番号で指定する．\n",
    "        値が負のとき，親ノードは存在しないこととする．\n",
    "\n",
    "    Note\n",
    "    ----\n",
    "    - AI-1の時点では，コストは使わない．次回の「知識のある探索」で利用する．\n",
    "      - ただし，発展として使っていても差し支えはない．\n",
    "    - AI-1の時点では，比較関数を実装していないためソートできない\n",
    "      (AI-2/Tutorial_3 で解決する)\n",
    "    \"\"\"\n",
    "    \n",
    "    id: int\n",
    "    cost: float\n",
    "    parent_id: int\n"
   ]
  },
  {
   "cell_type": "code",
   "execution_count": 9,
   "id": "9a4d80e1-2274-4fb3-8888-3d9c7d7d4570",
   "metadata": {},
   "outputs": [
    {
     "name": "stdout",
     "output_type": "stream",
     "text": [
      "---- _s1=State(id=0, cost=1.0, parent_id=-1)\n",
      "0 1.0 -1\n",
      "---- _s2=State(id=1, cost=2.0, parent_id=0)\n",
      "1 2.0 0\n"
     ]
    }
   ],
   "source": [
    "# Debug\n",
    "# 簡単に利用例を見ておきましょう．\n",
    "_s1 = State(0, 1.0, -1)\n",
    "_s2 = State(id=1, parent_id=0, cost=2.0)\n",
    "    # 仮引数名を明示して代入することもできる．\n",
    "    # 引数名を明示すれば，仮引数と順番を入れ替えて書いても問題はない．\n",
    "\n",
    "print(f'---- {_s1=}')\n",
    "print(_s1.id, _s1.cost, _s1.parent_id)\n",
    "\n",
    "print(f'---- {_s2=}')\n",
    "print(_s2.id, _s2.cost, _s2.parent_id)\n"
   ]
  },
  {
   "cell_type": "markdown",
   "id": "81171b20-63f0-485c-86aa-ecfc011c2e94",
   "metadata": {},
   "source": [
    "では，このデータを Stack に格納する例を見てみましょう．\n",
    "\n",
    "現段階では，リスト型＋辞書型（や，タプル型）と，ほぼ同じ感覚で利用できるはずです．  \n",
    "（稀に，`list` にあるメソッドが `deque` にはない，またはその逆，がありえますので注意してください．）"
   ]
  },
  {
   "cell_type": "code",
   "execution_count": 10,
   "id": "c0d2a517-70bc-4a04-8d8f-853ad21f44e8",
   "metadata": {},
   "outputs": [
    {
     "data": {
      "text/plain": [
       "deque([])"
      ]
     },
     "metadata": {},
     "output_type": "display_data"
    },
    {
     "name": "stdout",
     "output_type": "stream",
     "text": [
      "-----\n"
     ]
    },
    {
     "data": {
      "text/plain": [
       "deque([State(id=0, cost=10, parent_id=-1),\n",
       "       State(id=1, cost=8, parent_id=-1),\n",
       "       State(id=2, cost=99, parent_id=-1)])"
      ]
     },
     "metadata": {},
     "output_type": "display_data"
    },
    {
     "name": "stdout",
     "output_type": "stream",
     "text": [
      "-----\n",
      "POP: State(id=2, cost=99, parent_id=-1)\n"
     ]
    },
    {
     "data": {
      "text/plain": [
       "deque([State(id=0, cost=10, parent_id=-1), State(id=1, cost=8, parent_id=-1)])"
      ]
     },
     "metadata": {},
     "output_type": "display_data"
    },
    {
     "name": "stdout",
     "output_type": "stream",
     "text": [
      "-----\n",
      "POP: State(id=1, cost=8, parent_id=-1)\n"
     ]
    },
    {
     "data": {
      "text/plain": [
       "deque([State(id=0, cost=10, parent_id=-1)])"
      ]
     },
     "metadata": {},
     "output_type": "display_data"
    },
    {
     "name": "stdout",
     "output_type": "stream",
     "text": [
      "-----\n"
     ]
    }
   ],
   "source": [
    "#\n",
    "# States in Stack\n",
    "#\n",
    "# Initialize\n",
    "state_stack = deque([])\n",
    "display(state_stack)\n",
    "print('-----')\n",
    "\n",
    "# Push\n",
    "state_stack.append(State(0, cost=10, parent_id=-1))\n",
    "state_stack.append(State(1, cost=8, parent_id=-1))\n",
    "state_stack.append(State(2, cost=99, parent_id=-1))\n",
    "display(state_stack)  # 数が多い場合は display のほうが目で見て見やすくなる場合が多い\n",
    "print('-----')\n",
    "\n",
    "# Pop\n",
    "## 1st time\n",
    "_state = state_stack.pop()\n",
    "print('POP:', _state)\n",
    "display(state_stack)\n",
    "print('-----')\n",
    "\n",
    "## 2nd time\n",
    "_state = state_stack.pop()\n",
    "print('POP:', _state)\n",
    "display(state_stack)\n",
    "print('-----')"
   ]
  },
  {
   "cell_type": "markdown",
   "id": "8dd701b6-60cf-4913-b2e1-6cac133dce9d",
   "metadata": {
    "editable": true,
    "slideshow": {
     "slide_type": ""
    },
    "tags": []
   },
   "source": [
    "```{exercise}\n",
    "上記の stack としての操作の例を参考にして，queue としての動作例を作成してください．\n",
    "\n",
    "ヒント：必要な処理は，本節ですべて説明済みである．ググったりAIに聞く必要は全くない．\n",
    "```"
   ]
  },
  {
   "cell_type": "code",
   "execution_count": 11,
   "id": "bb045f21-aa4a-4f0e-8755-c08b25312c40",
   "metadata": {
    "editable": true,
    "slideshow": {
     "slide_type": ""
    },
    "tags": [
     "exercise",
     "hide-output"
    ]
   },
   "outputs": [
    {
     "name": "stdout",
     "output_type": "stream",
     "text": [
      "deque([])\n",
      "-----\n"
     ]
    },
    {
     "data": {
      "text/plain": [
       "deque([State(id=0, cost=10, parent_id=-1),\n",
       "       State(id=1, cost=8, parent_id=-1),\n",
       "       State(id=2, cost=99, parent_id=-1)])"
      ]
     },
     "metadata": {},
     "output_type": "display_data"
    },
    {
     "name": "stdout",
     "output_type": "stream",
     "text": [
      "-----\n",
      "Dequeue: State(id=0, cost=10, parent_id=-1)\n"
     ]
    },
    {
     "data": {
      "text/plain": [
       "deque([State(id=1, cost=8, parent_id=-1), State(id=2, cost=99, parent_id=-1)])"
      ]
     },
     "metadata": {},
     "output_type": "display_data"
    },
    {
     "name": "stdout",
     "output_type": "stream",
     "text": [
      "-----\n",
      "Dequeue: State(id=1, cost=8, parent_id=-1)\n"
     ]
    },
    {
     "data": {
      "text/plain": [
       "deque([State(id=2, cost=99, parent_id=-1)])"
      ]
     },
     "metadata": {},
     "output_type": "display_data"
    },
    {
     "name": "stdout",
     "output_type": "stream",
     "text": [
      "-----\n"
     ]
    }
   ],
   "source": [
    "#\n",
    "# States in Queue\n",
    "#\n",
    "# Initialize\n",
    "state_queue = deque([])\n",
    "print(state_queue)\n",
    "print('-----')\n",
    "\n",
    "# Enqueue\n",
    "state_queue.append(State(0, cost=10, parent_id=-1))\n",
    "state_queue.append(State(1, cost=8, parent_id=-1))\n",
    "state_queue.append(State(2, cost=99, parent_id=-1))\n",
    "display(state_queue)  # 数が多い場合は display のほうが目で見て見やすくなる場合が多い\n",
    "print('-----')\n",
    "\n",
    "# Dequeue\n",
    "_state = state_queue.popleft()\n",
    "print('Dequeue:', _state)\n",
    "display(state_queue)\n",
    "print('-----')\n",
    "# Dequeue\n",
    "_state = state_queue.popleft()\n",
    "print('Dequeue:', _state)\n",
    "display(state_queue)\n",
    "print('-----')"
   ]
  },
  {
   "cell_type": "markdown",
   "id": "26d4d5c1-9a6a-4d1d-a168-8cf244de787d",
   "metadata": {},
   "source": [
    "### (2) Graph"
   ]
  },
  {
   "cell_type": "markdown",
   "id": "39ff2e28-3506-42a4-a9bb-120e19bc24d0",
   "metadata": {
    "editable": true,
    "slideshow": {
     "slide_type": ""
    },
    "tags": []
   },
   "source": [
    "#### 迷路探索のためのグラフ構造の定義\n",
    "\n",
    "本講義では 以下の変数群をもって，迷路探索のためのグラフ構造を定義します．（参照：スライド#10および#24～25）  \n",
    "「迷路探索のためのグラフ構造」として必須の変数と，便宜上必要な変数が混在しています．注意して読み進めてください．\n",
    "\n",
    "ここでは，[Tutorial 2](Tutorial_2-data-structure.ipynb) で検討した中でも [c) Adjacency List 表現](Tutorial_2-data-structure.ipynb#tut2-adjacency_list_repr)（`graph?_edgedict`) を利用することにします．"
   ]
  },
  {
   "cell_type": "code",
   "execution_count": 12,
   "id": "4d5c9ced-968e-4440-b88b-4ec0b8f9df15",
   "metadata": {},
   "outputs": [
    {
     "name": "stdout",
     "output_type": "stream",
     "text": [
      "DEBUG: graph1_edgedict =\n"
     ]
    },
    {
     "data": {
      "text/plain": [
       "{0: [(1, 1.0)],\n",
       " 1: [(2, 1.0), (3, 1.0)],\n",
       " 2: [(1, 1.0)],\n",
       " 3: [(1, 1.0), (4, 1.0), (5, 1.0)],\n",
       " 4: [(3, 1.0)],\n",
       " 5: [(3, 1.0)]}"
      ]
     },
     "metadata": {},
     "output_type": "display_data"
    }
   ],
   "source": [
    "## Graph1: (Weighted) Adjacency List (Edge dict)\n",
    "#  - Note: Node no.0 is alwarys assumed as Source Node (= start of the maze) in this lecture.\n",
    "#          You can select \"entry point of the maze\" by destination of Node no.0\n",
    "graph1_edgedict = {\n",
    "    0: [(1, 1.0)],\n",
    "    1: [(2, 1.0), (3, 1.0)],\n",
    "    2: [(1, 1.0)],\n",
    "    3: [(1, 1.0), (4, 1.0), (5, 1.0)],\n",
    "    4: [(3, 1.0)],\n",
    "    5: [(3, 1.0)]\n",
    "}\n",
    "\n",
    "#\n",
    "# DEBUG\n",
    "#\n",
    "print(f'DEBUG: graph1_edgedict =')\n",
    "display(graph1_edgedict)\n",
    "    # 複雑な構造の場合，display関数で表示したほうが見栄えが良い場合が多いです\n"
   ]
  },
  {
   "cell_type": "code",
   "execution_count": 13,
   "id": "1a28ab2e-1e88-4e9b-9e3f-8754892fda8b",
   "metadata": {},
   "outputs": [
    {
     "name": "stdout",
     "output_type": "stream",
     "text": [
      "DEBUG: graph1_target=5\n"
     ]
    }
   ],
   "source": [
    "## Graph1: Target nodes: Node ID(s) of Target nodes (=goals)\n",
    "#graph1_source = 0\n",
    "graph1_target  = 5\n",
    "    # - Source node (スタート地点)から探索を開始し，Target node(ゴール地点)にたどり着くことが目的です．\n",
    "    #   - 定めた数字は，graph1_edgedict で定義したノード(Key)と対応させます．\n",
    "    # - Source nodeは，簡単のため，常に 0 番ノードとします．\n",
    "    #   - さらなる簡単のため，上記でコメント化している通り，graph1_source は，そもそも定義しないことにします．\n",
    "    # - Target node (ゴール) も，簡単のため，1つにしておきましょう．\n",
    "\n",
    "#\n",
    "# DEBUG\n",
    "#\n",
    "print(f'DEBUG: {graph1_target=}')"
   ]
  },
  {
   "cell_type": "code",
   "execution_count": 14,
   "id": "ce8da2f1-70b2-49cc-b658-6f5c2de2552a",
   "metadata": {},
   "outputs": [
    {
     "name": "stdout",
     "output_type": "stream",
     "text": [
      "DEBUG: graph1_pos={0: [0, 2], 1: [1, 1], 2: [1, 0], 3: [2, 1], 4: [2, 0], 5: [3, 1]}\n"
     ]
    }
   ],
   "source": [
    "## Graph1: Positions of nodes (for visualization)\n",
    "graph1_pos = {\n",
    "    0: [0, 2],\n",
    "    1: [1, 1],\n",
    "    2: [1, 0],\n",
    "    3: [2, 1],\n",
    "    4: [2, 0],\n",
    "    5: [3, 1]\n",
    "}\n",
    "    # - 後の描画で，ノードを描画平面のどの座標に置くか？を指定するための，辞書(dict)型変数です．\n",
    "    #   - \"{ key1: [x1, y1], key2: [x2, y2]\" の形で，key?はAdjacency Matrix のインデックス，\n",
    "    #   - x1, y1は描画平面の x, y座標．　【注意】(x,y)=(0,0) が左上となる「左上原点」です．\n",
    "    #   - 上記例なら，0番ノードは座標(0, 0)へ描画，1番ノードは座標(1, 1)へ描画，，，のような意味．\n",
    "    #   - 次セルのグラフ描画の結果を見ながら，照らし合わせつつ確認してみてください．\n",
    "    # - なお，graph?_pos変数は，描画に必要なのであり，グラフ構造として必須の要素ではありません．\n",
    "\n",
    "#\n",
    "# DEBUG\n",
    "#\n",
    "print(f'DEBUG: {graph1_pos=}')"
   ]
  },
  {
   "cell_type": "markdown",
   "id": "a9239d9c-666f-44c5-9e07-c15d858c156d",
   "metadata": {
    "editable": true,
    "slideshow": {
     "slide_type": ""
    },
    "tags": []
   },
   "source": [
    ":::{exercise}\n",
    "ここまでの説明は理解できたでしょうか？\n",
    "[Tutorial 2 -- Pythonの基本(2)](Tutorial_2-data-structure.ipynb#tut-python-basic2) の復習も兼ねて，念のため確認しておきましょう．\n",
    "\n",
    "次のような表示を実現してください．ここまでに出てきている変数を利用して `???` 部分を表示する必要があります．\n",
    "\n",
    "```\n",
    "ノード 1 からノード 3 へのエッジの重みは 1.0 である．  \n",
    "ノード 3 からノード 1, 4, 5 に移動することができる．  \n",
    "ノード 4 は，座標 (2, 0) に描画することが期待されている．\n",
    "```\n",
    "※注：2行目の出力において， `1, 4, 5` は `1, 4, 5, ` となっていても良い．  \n",
    "※注：2行目の出力において，起点を変えたプログラムを書く必要はない（`ノード 3 から` 以外を考えなくてよい）\n",
    ":::"
   ]
  },
  {
   "cell_type": "code",
   "execution_count": 15,
   "id": "aff5797a-f692-4a21-a673-42bd1d29076e",
   "metadata": {
    "editable": true,
    "slideshow": {
     "slide_type": ""
    },
    "tags": [
     "hide-output"
    ]
   },
   "outputs": [
    {
     "name": "stdout",
     "output_type": "stream",
     "text": [
      "ノード 1 からノード 3 へのエッジの重みは 1.0 である．\n",
      "ノード 3 からノード  1, 4, 5, に移動することができる．\n",
      "ノード 4 は，座標 ( 2 , 0 ) に描画することが期待されている．\n"
     ]
    }
   ],
   "source": [
    "###### WRITE YOUR ANSWER\n",
    "print(f'ノード 1 からノード 3 へのエッジの重みは {graph1_edgedict[1][1][1]} である．')\n",
    "print(f'ノード 3 からノード ', end=' ')\n",
    "for i in range(len(graph1_edgedict[3])):\n",
    "    print(graph1_edgedict[3][i][0], end=', ')\n",
    "print(f'に移動することができる．')\n",
    "print(f'ノード 4 は，座標 ( {graph1_pos[4][0]} , {graph1_pos[4][1]} ) に描画することが期待されている．')"
   ]
  },
  {
   "cell_type": "markdown",
   "id": "7d10f7dc-86a8-4a39-a368-6988af2c7a21",
   "metadata": {},
   "source": [
    "#### グラフの描画\n",
    "\n",
    "本講義では，`ebai.draw_graph_structure()` 関数を使って描画すればよい．  \n",
    "関数の説明は，セルの実行後，関数名の上に入力カーソルを当てて， Shift + Tab で表示される（はず）．\n",
    "\n",
    "コメントアウトしている行のように，[`savefig()`](https://matplotlib.org/3.8.4/api/_as_gen/matplotlib.pyplot.savefig.html) を利用することで，\n",
    "画像ファイルとして保存することができる．  \n",
    "\n",
    ":::{warning}\n",
    "- 講義時間の都合上，ebaiモジュールに含まれる関数の中身の詳細は，無理に理解しなくてよい．（レポートも不要）\n",
    "- 以下のコメントアウト部は，`output/` というディレクトリに画像ファイルを出力しようとしている．必要に応じて各自のディレクトリを準備することを忘れずに．\n",
    ":::\n"
   ]
  },
  {
   "cell_type": "code",
   "execution_count": 16,
   "id": "0be0ce21-83de-461f-ab62-6422701cabf4",
   "metadata": {},
   "outputs": [
    {
     "data": {
      "application/pdf": "[encoded data removed]",
      "image/png": "[encoded data removed]",
      "text/plain": [
       "<Figure size 640x480 with 1 Axes>"
      ]
     },
     "metadata": {},
     "output_type": "display_data"
    },
    {
     "data": {
      "application/pdf": "[encoded data removed]",
      "image/png": "[encoded data removed]",
      "text/plain": [
       "<Figure size 640x480 with 1 Axes>"
      ]
     },
     "metadata": {},
     "output_type": "display_data"
    }
   ],
   "source": [
    "# -----------------------------------------------------------------\n",
    "# Example 1: Draw the Graph\n",
    "fig1, ax1 = plt.subplots()\n",
    "ebai.draw_graph_structure(graph1_edgedict, graph1_pos, graph1_target,\n",
    "                          ax=ax1)\n",
    "# fig1.savefig('output/AI-1_graph1_example1.png', format='png')\n",
    "# fig1.savefig('output/AI-1_graph1_example1.pdf', format='pdf')\n",
    "\n",
    "# -----------------------------------------------------------------\n",
    "# Example 2: Draw the Graph w/ hightlight path\n",
    "fig2, ax2 = plt.subplots()\n",
    "ebai.draw_graph_structure(graph1_edgedict, graph1_pos, graph1_target,\n",
    "                          highlight_path=[0, 1, 3, 5],\n",
    "                          ax=ax2)\n",
    "# fig2.savefig('output/AI-1_graph1_example2.png', format='png')\n",
    "# fig2.savefig('output/AI-1_graph1_example2.pdf', format='pdf')\n"
   ]
  },
  {
   "cell_type": "markdown",
   "id": "72d1f252-7f89-4d9c-bee1-8b1ae8bba56a",
   "metadata": {},
   "source": [
    "### «PRACTICES»\n",
    "\n",
    ":::{important} PRACTICE &star;　※考察不要\n",
    "レポート（すなわち，別紙）でも，Graph1 の定義を行い，図示してください．（経路のハイライトは不要）\n",
    ":::\n",
    "\n",
    ":::{important} PRACTICE &star;　※考察不要\n",
    "下図のようなGraph2 (`graph2_edgedict`, `graph2_target`, `graph2_pos`) を定義し，描画し，レポートに掲載してください．  \n",
    "(`graph2_pos`は，描画後の位置関係がおおむね正しければ十分．細かいズレは気にしなくてもよい．)\n",
    "\n",
    "![](example/Example-AI-graph2.png)\n",
    "\n",
    "※注：↑に図が表示されていない人は，`~/jikkenB/example`ディレクトリ以下に `Example-AI-graph2.png` を置いてください．\n",
    ":::\n"
   ]
  },
  {
   "cell_type": "code",
   "execution_count": 17,
   "id": "331d3b5b-3618-4570-a572-84b0024c6471",
   "metadata": {
    "editable": true,
    "slideshow": {
     "slide_type": ""
    },
    "tags": [
     "exercise",
     "hide-output"
    ]
   },
   "outputs": [
    {
     "name": "stdout",
     "output_type": "stream",
     "text": [
      "DEBUG: graph2_edgedict=\n"
     ]
    },
    {
     "data": {
      "text/plain": [
       "{0: [(1, 1.0), (2, 1.0)],\n",
       " 1: [(2, 1.0), (3, 1.0)],\n",
       " 2: [(1, 1.0), (4, 1.0)],\n",
       " 3: [(1, 1.0), (4, 1.0), (5, 1.0)],\n",
       " 4: [(2, 1.0), (3, 1.0), (6, 1.0)],\n",
       " 5: [(3, 1.0)],\n",
       " 6: [(4, 1.0)]}"
      ]
     },
     "metadata": {},
     "output_type": "display_data"
    },
    {
     "name": "stdout",
     "output_type": "stream",
     "text": [
      "DEBUG: graph2_target=5\n",
      "DEBUG: graph2_pos={0: [0, 1], 1: [1, 2], 2: [1, 0], 3: [2, 1], 4: [2, 0], 5: [3, 1], 6: [3, 0]}\n"
     ]
    },
    {
     "data": {
      "application/pdf": "[encoded data removed]",
      "image/png": "[encoded data removed]",
      "text/plain": [
       "<Figure size 640x480 with 1 Axes>"
      ]
     },
     "metadata": {},
     "output_type": "display_data"
    }
   ],
   "source": [
    "## Graph2 Definition\n",
    "# Adjacency List (Edge dict)\n",
    "graph2_edgedict = {\n",
    "    0: [(1, 1.0), (2, 1.0)],\n",
    "    1: [(2, 1.0), (3, 1.0)],\n",
    "    2: [(1, 1.0), (4, 1.0)],\n",
    "    3: [(1, 1.0), (4, 1.0), (5, 1.0)],\n",
    "    4: [(2, 1.0), (3, 1.0), (6, 1.0)],\n",
    "    5: [(3, 1.0)],\n",
    "    6: [(4, 1.0)]\n",
    "}\n",
    "\n",
    "# Target node(s)\n",
    "graph2_target = 5\n",
    "\n",
    "# Positions of nodes\n",
    "graph2_pos = {0: [0, 1], 1: [1, 2], 2: [1, 0], 3: [2, 1], 4:[2, 0], 5:[3, 1], 6: [3, 0]}\n",
    "\n",
    "# Draw the Graph\n",
    "fig2, ax2 = plt.subplots()\n",
    "ebai.draw_graph_structure(graph2_edgedict, graph2_pos, graph2_target,\n",
    "                          ax=ax2)\n",
    "\n",
    "#\n",
    "# DEBUG\n",
    "#\n",
    "print(f'DEBUG: graph2_edgedict=')\n",
    "display(graph2_edgedict)\n",
    "print(f'DEBUG: {graph2_target=}')\n",
    "print(f'DEBUG: {graph2_pos=}')"
   ]
  },
  {
   "cell_type": "markdown",
   "id": "40530147-42a4-4c88-8a1d-e15fca529c23",
   "metadata": {},
   "source": [
    "(Step-A2)=\n",
    "\n",
    "## [解説A2] グラフ探索アルゴリズム\n",
    "\n",
    "以下の例では，基本となる探索アルゴリズムを **Stack** データ構造により，実装しています．\n",
    "\n",
    "\n",
    "基本的な流れはスライド資料#13～16で説明している通りです．（注：参考書「アルゴリズム論」とは，リストの扱い方が異なります．）"
   ]
  },
  {
   "cell_type": "markdown",
   "id": "e9eb420b-3090-4234-b8ee-c3fd7b2b5b27",
   "metadata": {},
   "source": [
    "### 探索対象のグラフ"
   ]
  },
  {
   "cell_type": "code",
   "execution_count": 18,
   "id": "c0dc96c6-31e1-4431-9379-3b7a5fb83560",
   "metadata": {},
   "outputs": [],
   "source": [
    "# Parameters\n",
    "graph_edgedict = graph1_edgedict\n",
    "graph_target = graph1_target\n",
    "graph_pos = graph1_pos\n",
    "    # - 変数代入と探索処理は別のセルに書いておくと，後で様々なグラフ構造の実験をする際に便利です．\n",
    "    # - 変数定義をして，任意のセルを実行するという作業は，グローバル変数だけを扱う関数を呼び出す\n",
    "    #   行為とほぼ等価であることに気づいてください．"
   ]
  },
  {
   "cell_type": "markdown",
   "id": "e01cf613-b837-49b9-91fc-a5ef1deec55a",
   "metadata": {},
   "source": [
    "### (1, 2) 探索の初期化処理（とループの開始）"
   ]
  },
  {
   "cell_type": "code",
   "execution_count": 19,
   "id": "ca69a9cc-713b-4fd8-8da6-cc05611826e4",
   "metadata": {},
   "outputs": [
    {
     "name": "stdout",
     "output_type": "stream",
     "text": [
      "(1) open_list=deque([State(id=0, cost=0, parent_id=-1)])\n",
      "(1) closed_list={}\n"
     ]
    }
   ],
   "source": [
    "# ---------------------------------------------------------------------------\n",
    "# (1) Initialization\n",
    "# (1-1) Prepare open_list as STACK, QUEUE, or XXXX(AI-2)\n",
    "open_list = deque([State(0, cost=0, parent_id=-1)])\n",
    "    # - open_list は \"List(deque) of State\" とする．\n",
    "    #   - [] の中に State() を1つだけ入れており，そのリストで deque を初期化している．\n",
    "    # - スタートは常に0番ノードにする．\n",
    "    #   - いったんはcost = 0, parent_id = -1 ということにしておく．\n",
    "    #   - 【重要】cost と parent_id は後で見直しが必要．\n",
    "\n",
    "# (1-2) Prepare closed_list as DICT\n",
    "closed_list = dict()\n",
    "    # - closed_list は \"Dict of State\" とする．\n",
    "    # - cf. This implementaion by dict might be easy and simple one.\n",
    "    #       However, an implementation by list (static table) might\n",
    "    #       be faster. As some algorithm contest, the dict implementation\n",
    "    #       will be caused TLE (Time Limit Exceed)...\n",
    "\n",
    "# DEBUG\n",
    "print(f'(1) {open_list=}')\n",
    "print(f'(1) {closed_list=}')\n",
    "\n",
    "\n",
    "# ---------------------------------------------------------------------------\n",
    "# (2) Loop until the open_list is empty\n",
    "#     (Loop while(if) the open_list is not empty)\n",
    "loop_count = 0\n",
    "while len(open_list) > 0 and loop_count < 100:\n",
    "    # - open_listに要素がある限り，ループし続ける\n",
    "    # - 安全のため，loop_count が増えすぎてるなら，タイムアウトとして止める．\n",
    "    #   **初期の100では，探索対象のグラフによっては少なすぎるかもしれないので，注意．**\n",
    "    # - なお，例年 while 文が苦手という人がいるようですが・・・\n",
    "    #   while文は，if文とほぼ同じです．条件が成立するなら内部を実行する，です．\n",
    "    #   ただし，if文は内部を実行終えたら，そこで終わるが，while文は条件判定に戻る．\n",
    "    #   cf. アセンブラで言えば，if でも while でも，beqによる条件分岐があるのは同じだが，\n",
    "    #       while は最後に j whie_loop を置くことでループ構造を実現する．\n",
    "    #       https://www.swlab.cs.okayama-u.ac.jp/~nom/lect/p3/dat/examples/ans-practice5-1.s \n",
    "\n",
    "    break\n",
    "        # 次セルで示したwhileループ内の処理が正しく実装できれば，この break は不要です．\n",
    "        # - 以降のセルの挙動を確かめて，一つのセルに実装する際は，この break は消して下さい．\n",
    "        # 無限ループについて\n",
    "        # - 無限ループに陥った場合は，Tab内の ■ ボタンで止めてください．\n",
    "        #   （セル横の実行が終われば数字が出るはずの個所が，いつまでも＊記号のままの場合）\n",
    "        # - 試してみたい人は，breakをpassかcontinueに変えてみましょう．無限ループになります．\n"
   ]
  },
  {
   "cell_type": "markdown",
   "id": "bb96af70-e5f1-4887-9c7e-6914dd428c22",
   "metadata": {},
   "source": [
    "### (3, 4, ..., 7) 探索処理\n",
    "\n",
    "※本セルを実行する前に，セル内で右クリック「Create New View for Output Cell」を実行し，\n",
    "その後，下に追加されるであろうタブ（パネル）を右側に持っていくと，見やすいです．"
   ]
  },
  {
   "cell_type": "code",
   "execution_count": 20,
   "id": "d342c35f-29cd-40a8-830b-3389e70cfa1b",
   "metadata": {},
   "outputs": [
    {
     "name": "stdout",
     "output_type": "stream",
     "text": [
      "\n",
      "----- LOOP = 1\n",
      "(3) cur_state=State(id=0, cost=0, parent_id=-1)\n",
      "(3) open_list=deque([])\n",
      "(4) closed_list={0: State(id=0, cost=0, parent_id=-1)}\n",
      "(6) candidate_state_nodes=[(1, 1.0)]\n",
      "(7) open_list=deque([State(id=1, cost=0, parent_id=-1)])\n"
     ]
    },
    {
     "data": {
      "application/pdf": "[encoded data removed]",
      "image/png": "[encoded data removed]",
      "text/plain": [
       "<Figure size 600x400 with 1 Axes>"
      ]
     },
     "metadata": {},
     "output_type": "display_data"
    }
   ],
   "source": [
    "for _ in [1]:\n",
    "    # - ↑のfor文は，whileループと結合する際には，不要． \n",
    "    #   - 後で上記セル内のwhile文とくっつけるときにインデントを保つために入れている．\n",
    "    # - 結合前のお試しの際は・・・\n",
    "    #   - 上のセルを実行することで，探索前の初期状態に戻る．\n",
    "    #   - このセルを実行するたびに，ループ１回分の処理がなされる\n",
    "    #   ということを利用して，動作の理解をしてほしい．\n",
    "\n",
    "    loop_count += 1;\n",
    "    print(f'\\n----- LOOP = {loop_count}')\n",
    "\n",
    "    # -----------------------------------------------------------------------\n",
    "    # (3) Set current state for search algorithm\n",
    "    cur_state = open_list.pop()   # POP as STACK\n",
    "\n",
    "    #     DEBUG\n",
    "    print(f'(3) {cur_state=}')\n",
    "    print(f'(3) {open_list=}')\n",
    "\n",
    "    # -----------------------------------------------------------------------\n",
    "    # (4) Update closed_list\n",
    "    assert cur_state.id not in closed_list, f'REVISITED: {cur_state.id=} should not in {closed_list=}'\n",
    "        # - assert は条件を満たしていないときに処理を止める関数です\n",
    "        #   - アルゴリズムとして必要なのではなく，検証 (validation) の一種です．\n",
    "        # - 後述の (7-1) や (7-2) で適切な処理をしていない場合は，\n",
    "        #   ここで \"再訪(revisit)\" してしまう場合があります．\n",
    "        #   - \"再訪\" になってしまう場合は，ここで処理を加えるよりは (7) を見直しましょう．\n",
    "        # - ただし・・・どうしても解決できない（か，独自に考えているアルゴリズムであり，\n",
    "        #   ここでの再訪相当を適切に処理することにした）なら，この assert を除いてください．\n",
    "        #   - それはそれで，考察できることは増えると思いますので．．．\n",
    "\n",
    "    closed_list[cur_state.id] = cur_state\n",
    "        # - closed_list に記録を残します．\n",
    "        # - 本講義で想定しているアルゴリズムであれば，ここでは上書きは起こりません．\n",
    "        #   - 上述の通り，アルゴリズムによっては，何らかの条件分岐が必要かもしれません．\n",
    "\n",
    "    #     DEBUG\n",
    "    print(f'(4) {closed_list=}')\n",
    "\n",
    "    # -----------------------------------------------------------------------\n",
    "    # (5) Check whether reaching the target (goal) or not\n",
    "    if graph_target in closed_list:\n",
    "        # Python の独特な条件式です．graph_target と一致する要素が，\n",
    "        # closed_list のキーに含まれているかどうかのチェックをしています．\n",
    "\n",
    "        print('\\n**** I have reached the target node!!\\n')\n",
    "        break\n",
    "            # この終了条件は，今後必要に応じて見直しが必要になるでしょう．\n",
    "            # 【発展】ここで終了しなくても，解説A3の経路探索は実現できる．\n",
    "            #         （終了すべきでない，とまでは言っていません．考察課題です．）\n",
    "\n",
    "    # -----------------------------------------------------------------------\n",
    "    # (6) Find adjacent nodes\n",
    "    candidate_state_nodes = graph_edgedict[cur_state.id]\n",
    "        # - cur_stateのノードの隣接ノードは，graph_edgedict を辞書引きすればよい\n",
    "        # - この時点では candidate_state_nodes は (dst_id, weight) のタプルである．\n",
    "\n",
    "    #     DEBUG\n",
    "    print(f'(6) {candidate_state_nodes=}')\n",
    "\n",
    "    # -----------------------------------------------------------------------\n",
    "    # (7) Update open_list\n",
    "    for _dst_id, _weight in candidate_state_nodes:\n",
    "        candidate_state = State(\n",
    "            id=_dst_id,\n",
    "            cost=0,       # TODO: 解説A5 & A6 (AI-2)\n",
    "            parent_id=-1  # TODO: 解説A3\n",
    "        )\n",
    "            # - for ループを使い，候補となるノードを追加したい．効率は無視．\n",
    "            #   - 候補となるノードは，[解説A2]時点では，id (ノードID)しか情報を持っていない．\n",
    "            #   - parent_id は，次の[解説A3]で考え直す必要がある．\n",
    "            #   - cost は，AI-2で考え直す必要がある．\n",
    "            # - 以降，_candidate_node を open_list に追加してよいかどうか，\n",
    "            #   を判定してから，最終的に，open_list へ追加する．\n",
    "\n",
    "        # (7-1) Ignore the candidate, if it existing in closed _list\n",
    "        #   Note: We should reconsider this process, if try to implement A* algorithm\n",
    "        if candidate_state.id in closed_list:\n",
    "            continue\n",
    "                # - closed_list は dict 型なので in 演算子で存在の判定ができる\n",
    "                # - _dst_id が探索済みのノード（closed_list内のノード）である\n",
    "                #    ==> open_listには追加しない．\n",
    "                #    ==> \"continue\" により，以降の処理は実行せず，forループを継続する\n",
    "\n",
    "        # (7-2) Ignore the candidate, if it existing in open_list\n",
    "        #   Note: We must reconsider this process at AI-2\n",
    "        _exist_state = [x for x in open_list if x.id == candidate_state.id]\n",
    "        _exist_state = _exist_state[0] if _exist_state else None\n",
    "        if _exist_state is None:\n",
    "                # - 本講義だけでは，この3行の条件判定の解説は難しいので，深入りしないで構いません．\n",
    "                # - この処理では，open_list 内の全探索状態に candidate_state.id と同じIDがあれば，\n",
    "                #   _exist_state として，open_list の1要素が得られます．無ければ None です．\n",
    "\n",
    "            open_list.append(candidate_state)\n",
    "                # - _dst_id は探索待ちのノード（open_list内のノード）ではない\n",
    "                #    ==> open_list に追加する\n",
    "\n",
    "        else:\n",
    "            pass\n",
    "                # - open_list に _dst_id と同じ id の状態データが存在する\n",
    "                #    ==> (AI-1では) open_listには追加しない．\n",
    "                #\n",
    "                # 【重要】AI-2で cost も踏まえた再検討をする．次回のTutorial 3 も注意深く確認しよう．\n",
    "\n",
    "    print(f'(7) {open_list=}')\n",
    "\n",
    "# -----------------------------------------------------------------------\n",
    "# DEBUG: draw the Graph\n",
    "ebai.draw_graph_structure(graph_edgedict, graph_pos, graph_target,\n",
    "                          open_list=open_list, closed_list=closed_list)\n",
    "    # - 先ほどの描画例に加えて，open_list, closed_list も追加している\n",
    "    #   - 適宜，引数を与えずに描画するなどして，描かれた図の各シンボルが\n",
    "    #     何を表しているのか，理解をしてください．\n",
    "    # - ループ込みの完成版であれば，ループ内で毎回描画するのは，無駄である．\n",
    "    #   必要な場所でのみ，描画すれば十分であろう．\n",
    "    # **********\n",
    "    # 【注意】\n",
    "    # fig?.savefig()を利用した画像保存をする際は，十分に注意を払ってください．\n",
    "    # ループ内での savefig() 呼び出しは，大量のネットワーク経由のデータ転送と，\n",
    "    # 共有ディスクの大量消費をする可能性があり，ほかの学生の受講の妨げになります．\n",
    "    # （あなたの端末だけでなく，演習室の全端末がハングアップする可能性があります．）\n",
    "    # **********\n"
   ]
  },
  {
   "cell_type": "markdown",
   "id": "284f22a7-f4e4-4cf4-827e-964229cc4649",
   "metadata": {
    "editable": true,
    "slideshow": {
     "slide_type": ""
    },
    "tags": []
   },
   "source": [
    "### «PRACTICES»\n",
    "\n",
    ":::{exercise}\n",
    ":label: understand_search_loop\n",
    "\n",
    "上記のセル群を使って，探索処理における，ループ内の挙動を理解してください．\n",
    "- graph1 だけでなく，graph2 も使って，まずは動作を確かめてください．\n",
    "- `ebai.draw_graph_structure` では，`open_list` と `closed_list` も与えて描画しています．新たに描画された各シンボルの意味を正しく読み取ってください．\n",
    "- セル内で多くの処理を実行していてわかりにくいなら，デバッガを使い，ブレークポイントで止めながら，変数を確認するなどしてください．\n",
    "- **【重要】ゴールとして理想的な状態を思い浮かべながら，ループ内（相当）の処理を１回ずつ実行してください．**\n",
    ":::\n",
    "\n",
    "以上により，挙動を理解できたら，\n",
    "\n",
    ":::{important} PRACTICE &star;\n",
    "\n",
    "stack データ構造によるグラフ探索処理を1つのセルで完結させ，レポートに記載してください．\n",
    "\n",
    "  - 2つのセルを結合し，whileループ内で，ループ内の処理を実行する形になります．\n",
    "    - ループを適切な個所で停止 (`break`) することも必要です．適切な個所は，前述の「理想的な状態」が理解できていれば容易です．\n",
    "  - 探索過程のグラフ描画は，探索終了後に1回だけ描いてください．\n",
    "    - プログラムの製作過程では，ループごとの描画も理解に役立つと思います．ですが，レポートとしては冗長です．(Moodleの10MB制限に引っかかる可能性も上がります・・・）\n",
    "  - 結果の図としては，「ゴールとして理想的な状態」の図になっているはずです．\n",
    "  - **【重要】繰り返しますが，いきなりループ実装を始めないように．まずは，[](#understand_search_loop) で，ループ相当の処理を自分で1回ずつ回し，どのような変化が起こるか観察してください．ループ実装はそのあとです．**\n",
    "\n",
    "```{hint}\n",
    "- 次の解説A3のPRACTICEを終えたら，本PRACTICEのプログラムは消しても構いません．ただし，考察は残す必要があるでしょう．\n",
    "```\n",
    "\n",
    "> ★発展★  \n",
    "> 探索時のノード情報が持つ `cost` として，source node からの「距離」を記録しておくと，後の考察に役立てることができる（かもしれない）．  \n",
    "> なお，ここでの「距離」とは「source node から自分自身（現ノード）にたどり着くまでに，経由した edge のコストの総和」である．\n",
    "\n",
    ":::\n"
   ]
  },
  {
   "cell_type": "code",
   "execution_count": 21,
   "id": "d7378dfe-a2be-4dbc-b5e1-5297af69eed8",
   "metadata": {
    "editable": true,
    "slideshow": {
     "slide_type": ""
    },
    "tags": [
     "exercise",
     "hide-output"
    ]
   },
   "outputs": [
    {
     "name": "stdout",
     "output_type": "stream",
     "text": [
      "(1) open_list=deque([State(id=0, cost=0, parent_id=-1)])\n",
      "(1) closed_list={}\n",
      "\n",
      "----- LOOP = 1\n",
      "(3) cur_state=State(id=0, cost=0, parent_id=-1)\n",
      "(3) open_list=deque([])\n",
      "(4) closed_list={0: State(id=0, cost=0, parent_id=-1)}\n",
      "(6) candidate_state_nodes=[(1, 1.0)]\n",
      "(7) open_list=deque([State(id=1, cost=0, parent_id=-1)])\n",
      "\n",
      "----- LOOP = 2\n",
      "(3) cur_state=State(id=1, cost=0, parent_id=-1)\n",
      "(3) open_list=deque([])\n",
      "(4) closed_list={0: State(id=0, cost=0, parent_id=-1), 1: State(id=1, cost=0, parent_id=-1)}\n",
      "(6) candidate_state_nodes=[(2, 1.0), (3, 1.0)]\n",
      "(7) open_list=deque([State(id=2, cost=0, parent_id=-1), State(id=3, cost=0, parent_id=-1)])\n",
      "\n",
      "----- LOOP = 3\n",
      "(3) cur_state=State(id=3, cost=0, parent_id=-1)\n",
      "(3) open_list=deque([State(id=2, cost=0, parent_id=-1)])\n",
      "(4) closed_list={0: State(id=0, cost=0, parent_id=-1), 1: State(id=1, cost=0, parent_id=-1), 3: State(id=3, cost=0, parent_id=-1)}\n",
      "(6) candidate_state_nodes=[(1, 1.0), (4, 1.0), (5, 1.0)]\n",
      "(7) open_list=deque([State(id=2, cost=0, parent_id=-1), State(id=4, cost=0, parent_id=-1), State(id=5, cost=0, parent_id=-1)])\n",
      "\n",
      "----- LOOP = 4\n",
      "(3) cur_state=State(id=5, cost=0, parent_id=-1)\n",
      "(3) open_list=deque([State(id=2, cost=0, parent_id=-1), State(id=4, cost=0, parent_id=-1)])\n",
      "(4) closed_list={0: State(id=0, cost=0, parent_id=-1), 1: State(id=1, cost=0, parent_id=-1), 3: State(id=3, cost=0, parent_id=-1), 5: State(id=5, cost=0, parent_id=-1)}\n",
      "\n",
      "**** I have reached the target node!!\n",
      "\n"
     ]
    },
    {
     "data": {
      "application/pdf": "[encoded data removed]",
      "image/png": "[encoded data removed]",
      "text/plain": [
       "<Figure size 600x400 with 1 Axes>"
      ]
     },
     "metadata": {},
     "output_type": "display_data"
    }
   ],
   "source": [
    "# Parameters\n",
    "graph_edgedict = graph1_edgedict\n",
    "graph_target = graph1_target\n",
    "graph_pos = graph1_pos\n",
    "\n",
    "# ---------------------------------------------------------------------------\n",
    "# (1) Initialization\n",
    "# (1-1) Prepare open_list as STACK, QUEUE, or XXXX(AI-2)\n",
    "open_list = deque([State(0, cost=0, parent_id=-1)])\n",
    "    # - open_list は \"List(deque) of State\" とする．\n",
    "    #   - [] の中に State() を1つだけ入れており，そのリストで deque を初期化している．\n",
    "    # - スタートは常に0番ノードにする．\n",
    "    #   - いったんはcost = 0, parent_id = -1 ということにしておく．\n",
    "    #   - 【重要】cost と parent_id は後で見直しが必要．\n",
    "\n",
    "# (1-2) Prepare closed_list as DICT\n",
    "closed_list = dict()\n",
    "    # - closed_list は \"Dict of State\" とする．\n",
    "    # - cf. This implementaion by dict might be easy and simple one.\n",
    "    #       However, an implementation by list (static table) might\n",
    "    #       be faster. As some algorithm contest, the dict implementation\n",
    "    #       will be caused TLE (Time Limit Exceed)...\n",
    "\n",
    "# DEBUG\n",
    "print(f'(1) {open_list=}')\n",
    "print(f'(1) {closed_list=}')\n",
    "\n",
    "\n",
    "# ---------------------------------------------------------------------------\n",
    "# (2) Loop until the open_list is empty\n",
    "#     (Loop while(if) the open_list is not empty)\n",
    "loop_count = 0\n",
    "while len(open_list) > 0 and loop_count < 100:\n",
    "    # - open_listに要素がある限り，ループし続ける\n",
    "    # - 安全のため，loop_count が増えすぎてるなら，タイムアウトとして止める．\n",
    "    #   **初期の100では，探索対象のグラフによっては少なすぎるかもしれないので，注意．**\n",
    "    # - なお，例年 while 文が苦手という人がいるようですが・・・\n",
    "    #   while文は，if文とほぼ同じです．条件が成立するなら内部を実行する，です．\n",
    "    #   ただし，if文は内部を実行終えたら，そこで終わるが，while文は条件判定に戻る．\n",
    "    #   cf. アセンブラで言えば，if でも while でも，beqによる条件分岐があるのは同じだが，\n",
    "    #       while は最後に j whie_loop を置くことでループ構造を実現する．\n",
    "    #       https://www.swlab.cs.okayama-u.ac.jp/~nom/lect/p3/dat/examples/ans-practice5-1.s \n",
    "\n",
    "    loop_count += 1;\n",
    "    print(f'\\n----- LOOP = {loop_count}')\n",
    "\n",
    "    # -----------------------------------------------------------------------\n",
    "    # (3) Set current state for search algorithm\n",
    "    cur_state = open_list.pop()   # POP as STACK\n",
    "\n",
    "    #     DEBUG\n",
    "    print(f'(3) {cur_state=}')\n",
    "    print(f'(3) {open_list=}')\n",
    "\n",
    "    # -----------------------------------------------------------------------\n",
    "    # (4) Update closed_list\n",
    "    assert cur_state.id not in closed_list, f'REVISITED: {cur_state.id=} should not in {closed_list=}'\n",
    "        # - assert は条件を満たしていないときに処理を止める関数です\n",
    "        #   - アルゴリズムとして必要なのではなく，検証 (validation) の一種です．\n",
    "        # - 後述の (7-1) や (7-2) で適切な処理をしていない場合は，\n",
    "        #   ここで \"再訪(revisit)\" してしまう場合があります．\n",
    "        #   - \"再訪\" になってしまう場合は，ここで処理を加えるよりは (7) を見直しましょう．\n",
    "        # - ただし・・・どうしても解決できない（か，独自に考えているアルゴリズムであり，\n",
    "        #   ここでの再訪相当を適切に処理することにした）なら，この assert を除いてください．\n",
    "        #   - それはそれで，考察できることは増えると思いますので．．．\n",
    "\n",
    "    closed_list[cur_state.id] = cur_state\n",
    "        # - closed_list に記録を残します．\n",
    "        # - 本講義で想定しているアルゴリズムであれば，ここでは上書きは起こりません．\n",
    "        #   - 上述の通り，アルゴリズムによっては，何らかの条件分岐が必要かもしれません．\n",
    "\n",
    "    #     DEBUG\n",
    "    print(f'(4) {closed_list=}')\n",
    "\n",
    "    # -----------------------------------------------------------------------\n",
    "    # (5) Check whether reaching the target (goal) or not\n",
    "    if graph_target in closed_list:\n",
    "        # Python の独特な条件式です．graph_target と一致する要素が，\n",
    "        # closed_list のキーに含まれているかどうかのチェックをしています．\n",
    "\n",
    "        print('\\n**** I have reached the target node!!\\n')\n",
    "        break\n",
    "            # この終了条件は，今後必要に応じて見直しが必要になるでしょう．\n",
    "            # 【発展】ここで終了しなくても，解説A3の経路探索は実現できる．\n",
    "            #         （終了すべきでない，とまでは言っていません．考察課題です．）\n",
    "\n",
    "    # -----------------------------------------------------------------------\n",
    "    # (6) Find adjacent nodes\n",
    "    candidate_state_nodes = graph_edgedict[cur_state.id]\n",
    "        # - cur_stateのノードの隣接ノードは，graph_edgedict を辞書引きすればよい\n",
    "        # - この時点では candidate_state_nodes は (dst_id, weight) のタプルである．\n",
    "\n",
    "    #     DEBUG\n",
    "    print(f'(6) {candidate_state_nodes=}')\n",
    "\n",
    "    # -----------------------------------------------------------------------\n",
    "    # (7) Update open_list\n",
    "    for _dst_id, _weight in candidate_state_nodes:\n",
    "        candidate_state = State(\n",
    "            id=_dst_id,\n",
    "            cost=0,       # TODO: 解説A5 & A6 (AI-2)\n",
    "            parent_id=-1  # TODO: 解説A3\n",
    "        )\n",
    "            # - for ループを使い，候補となるノードを追加したい．効率は無視．\n",
    "            #   - 候補となるノードは，[解説A2]時点では，id (ノードID)しか情報を持っていない．\n",
    "            #   - parent_id は，次の[解説A3]で考え直す必要がある．\n",
    "            #   - cost は，AI-2で考え直す必要がある．\n",
    "            # - 以降，_candidate_node を open_list に追加してよいかどうか，\n",
    "            #   を判定してから，最終的に，open_list へ追加する．\n",
    "\n",
    "        # (7-1) Ignore the candidate, if it existing in closed _list\n",
    "        #   Note: We should reconsider this process, if try to implement A* algorithm\n",
    "        if candidate_state.id in closed_list:\n",
    "            continue\n",
    "                # - closed_list は dict 型なので in 演算子で存在の判定ができる\n",
    "                # - _dst_id が探索済みのノード（closed_list内のノード）である\n",
    "                #    ==> open_listには追加しない．\n",
    "                #    ==> \"continue\" により，以降の処理は実行せず，forループを継続する\n",
    "\n",
    "        # (7-2) Ignore the candidate, if it existing in open_list\n",
    "        #   Note: We must reconsider this process at AI-2\n",
    "        _exist_state = [x for x in open_list if x.id == candidate_state.id]\n",
    "        _exist_state = _exist_state[0] if _exist_state else None\n",
    "        if _exist_state is None:\n",
    "                # - 本講義だけでは，この3行の条件判定の解説は難しいので，深入りしないで構いません．\n",
    "                # - この処理では，open_list 内の全探索状態に candidate_state.id と同じIDがあれば，\n",
    "                #   _exist_state として，open_list の1要素が得られます．無ければ None です．\n",
    "\n",
    "            open_list.append(candidate_state)\n",
    "                # - _dst_id は探索待ちのノード（open_list内のノード）ではない\n",
    "                #    ==> open_list に追加する\n",
    "\n",
    "        else:\n",
    "            pass\n",
    "                # - open_list に _dst_id と同じ id の状態データが存在する\n",
    "                #    ==> (AI-1では) open_listには追加しない．\n",
    "                #\n",
    "                # 【重要】AI-2で cost も踏まえた再検討をする．次回のTutorial 3 も注意深く確認しよう．\n",
    "\n",
    "    print(f'(7) {open_list=}')\n",
    "\n",
    "# -----------------------------------------------------------------------\n",
    "# DEBUG: draw the Graph\n",
    "ebai.draw_graph_structure(graph_edgedict, graph_pos, graph_target,\n",
    "                          open_list=open_list, closed_list=closed_list)\n",
    "    # - 先ほどの描画例に加えて，open_list, closed_list も追加している\n",
    "    #   - 適宜，引数を与えずに描画するなどして，描かれた図の各シンボルが\n",
    "    #     何を表しているのか，理解をしてください．\n",
    "    # - ループ込みの完成版であれば，ループ内で毎回描画するのは，無駄である．\n",
    "    #   必要な場所でのみ，描画すれば十分であろう．\n",
    "    # **********\n",
    "    # 【注意】\n",
    "    # fig?.savefig()を利用した画像保存をする際は，十分に注意を払ってください．\n",
    "    # ループ内での savefig() 呼び出しは，大量のネットワーク経由のデータ転送と，\n",
    "    # 共有ディスクの大量消費をする可能性があり，ほかの学生の受講の妨げになります．\n",
    "    # （あなたの端末だけでなく，演習室の全端末がハングアップする可能性があります．）\n",
    "    # **********\n"
   ]
  },
  {
   "cell_type": "markdown",
   "id": "5bd45d4c-ef01-4d1e-92d1-69b1a9bbbb1a",
   "metadata": {
    "editable": true,
    "slideshow": {
     "slide_type": ""
    },
    "tags": []
   },
   "source": [
    "(Step-A3)=\n",
    "\n",
    "## [解説A3] 経路探索\n",
    "\n",
    "迷路問題として考えるなら，どのノードを通って，ゴールにたどり着いたか，調べておきたいところです．\n",
    "\n",
    "`closed_list` には，そのすべての過程を記録しておくことにしましょう．  \n",
    "あとは，`closed_list` から，Backtrackingにより，最短の経路を得ることを考えてみましょう．\n"
   ]
  },
  {
   "cell_type": "markdown",
   "id": "469153a7-a597-490c-9bf5-9248d9852ea0",
   "metadata": {},
   "source": [
    "### (1) Parent node の導入\n",
    "\n",
    "これまで，利用してこなかったノードのメンバ `parent_id` を有効利用します．\n",
    "\n",
    "例えば，`cur_state` が 1番ノードで，隣接行列を参照した結果，`candidate_state` が 2, 3番ノードだったとしましょう．  \n",
    "探索過程では，その2, 3番ノードの情報を，`State` データクラスのデータとして，オープンリスト（や，クローズドリスト）に格納するタイミングがありました．  \n",
    "ですから，そのタイミングにて，2, 3番ノードの付加情報として，parent_id = 1 と覚えさせればいい，ということです．（参照：スライド#19）\n",
    "\n",
    ":::{exercise}\n",
    "\n",
    "whileループ版のプログラムができていて，正しく理解できていれば，簡単なはずです．（解説コメントとしても，後で書き換えが必要な旨は述べています．）\n",
    "\n",
    "[解説A2]で作成したプログラムを以下にコピーし，必要な個所を書き換えてみましょう．\n",
    ":::"
   ]
  },
  {
   "cell_type": "code",
   "execution_count": 22,
   "id": "2e6d2282-dc6d-4b39-bab9-65118d432c71",
   "metadata": {
    "editable": true,
    "slideshow": {
     "slide_type": ""
    },
    "tags": [
     "exercise",
     "hide-output"
    ]
   },
   "outputs": [
    {
     "name": "stdout",
     "output_type": "stream",
     "text": [
      "(1) open_list=deque([State(id=0, cost=0, parent_id=-1)])\n",
      "(1) closed_list={}\n",
      "\n",
      "----- LOOP = 1\n",
      "(3) cur_state=State(id=0, cost=0, parent_id=-1)\n",
      "(3) open_list=deque([])\n",
      "(4) closed_list={0: State(id=0, cost=0, parent_id=-1)}\n",
      "(6) candidate_state_nodes=[(1, 1.0)]\n",
      "(7) open_list=deque([State(id=1, cost=0, parent_id=0)])\n",
      "\n",
      "----- LOOP = 2\n",
      "(3) cur_state=State(id=1, cost=0, parent_id=0)\n",
      "(3) open_list=deque([])\n",
      "(4) closed_list={0: State(id=0, cost=0, parent_id=-1), 1: State(id=1, cost=0, parent_id=0)}\n",
      "(6) candidate_state_nodes=[(2, 1.0), (3, 1.0)]\n",
      "(7) open_list=deque([State(id=2, cost=0, parent_id=1), State(id=3, cost=0, parent_id=1)])\n",
      "\n",
      "----- LOOP = 3\n",
      "(3) cur_state=State(id=3, cost=0, parent_id=1)\n",
      "(3) open_list=deque([State(id=2, cost=0, parent_id=1)])\n",
      "(4) closed_list={0: State(id=0, cost=0, parent_id=-1), 1: State(id=1, cost=0, parent_id=0), 3: State(id=3, cost=0, parent_id=1)}\n",
      "(6) candidate_state_nodes=[(1, 1.0), (4, 1.0), (5, 1.0)]\n",
      "(7) open_list=deque([State(id=2, cost=0, parent_id=1), State(id=4, cost=0, parent_id=3), State(id=5, cost=0, parent_id=3)])\n",
      "\n",
      "----- LOOP = 4\n",
      "(3) cur_state=State(id=5, cost=0, parent_id=3)\n",
      "(3) open_list=deque([State(id=2, cost=0, parent_id=1), State(id=4, cost=0, parent_id=3)])\n",
      "(4) closed_list={0: State(id=0, cost=0, parent_id=-1), 1: State(id=1, cost=0, parent_id=0), 3: State(id=3, cost=0, parent_id=1), 5: State(id=5, cost=0, parent_id=3)}\n",
      "\n",
      "**** I have reached the target node!!\n",
      "\n"
     ]
    },
    {
     "data": {
      "application/pdf": "[encoded data removed]",
      "image/png": "[encoded data removed]",
      "text/plain": [
       "<Figure size 600x400 with 1 Axes>"
      ]
     },
     "metadata": {},
     "output_type": "display_data"
    }
   ],
   "source": [
    "# GRAPH SEARCH ALGORITHM using STACK (w/ parent_node)\n",
    "# --> Write your code\n",
    "# Parameters\n",
    "graph_edgedict = graph1_edgedict\n",
    "graph_target = graph1_target\n",
    "graph_pos = graph1_pos\n",
    "\n",
    "# ---------------------------------------------------------------------------\n",
    "# (1) Initialization\n",
    "# (1-1) Prepare open_list as STACK, QUEUE, or XXXX(AI-2)\n",
    "open_list = deque([State(0, cost=0, parent_id=-1)])\n",
    "    # - open_list は \"List(deque) of State\" とする．\n",
    "    #   - [] の中に State() を1つだけ入れており，そのリストで deque を初期化している．\n",
    "    # - スタートは常に0番ノードにする．\n",
    "    #   - いったんはcost = 0, parent_id = -1 ということにしておく．\n",
    "    #   - 【重要】cost と parent_id は後で見直しが必要．\n",
    "\n",
    "# (1-2) Prepare closed_list as DICT\n",
    "closed_list = dict()\n",
    "    # - closed_list は \"Dict of State\" とする．\n",
    "    # - cf. This implementaion by dict might be easy and simple one.\n",
    "    #       However, an implementation by list (static table) might\n",
    "    #       be faster. As some algorithm contest, the dict implementation\n",
    "    #       will be caused TLE (Time Limit Exceed)...\n",
    "\n",
    "# DEBUG\n",
    "print(f'(1) {open_list=}')\n",
    "print(f'(1) {closed_list=}')\n",
    "\n",
    "\n",
    "# ---------------------------------------------------------------------------\n",
    "# (2) Loop until the open_list is empty\n",
    "#     (Loop while(if) the open_list is not empty)\n",
    "loop_count = 0\n",
    "while len(open_list) > 0 and loop_count < 100:\n",
    "    # - open_listに要素がある限り，ループし続ける\n",
    "    # - 安全のため，loop_count が増えすぎてるなら，タイムアウトとして止める．\n",
    "    #   **初期の100では，探索対象のグラフによっては少なすぎるかもしれないので，注意．**\n",
    "    # - なお，例年 while 文が苦手という人がいるようですが・・・\n",
    "    #   while文は，if文とほぼ同じです．条件が成立するなら内部を実行する，です．\n",
    "    #   ただし，if文は内部を実行終えたら，そこで終わるが，while文は条件判定に戻る．\n",
    "    #   cf. アセンブラで言えば，if でも while でも，beqによる条件分岐があるのは同じだが，\n",
    "    #       while は最後に j whie_loop を置くことでループ構造を実現する．\n",
    "    #       https://www.swlab.cs.okayama-u.ac.jp/~nom/lect/p3/dat/examples/ans-practice5-1.s \n",
    "\n",
    "    loop_count += 1;\n",
    "    print(f'\\n----- LOOP = {loop_count}')\n",
    "\n",
    "    # -----------------------------------------------------------------------\n",
    "    # (3) Set current state for search algorithm\n",
    "    cur_state = open_list.pop()   # POP as STACK\n",
    "\n",
    "    #     DEBUG\n",
    "    print(f'(3) {cur_state=}')\n",
    "    print(f'(3) {open_list=}')\n",
    "\n",
    "    # -----------------------------------------------------------------------\n",
    "    # (4) Update closed_list\n",
    "    assert cur_state.id not in closed_list, f'REVISITED: {cur_state.id=} should not in {closed_list=}'\n",
    "        # - assert は条件を満たしていないときに処理を止める関数です\n",
    "        #   - アルゴリズムとして必要なのではなく，検証 (validation) の一種です．\n",
    "        # - 後述の (7-1) や (7-2) で適切な処理をしていない場合は，\n",
    "        #   ここで \"再訪(revisit)\" してしまう場合があります．\n",
    "        #   - \"再訪\" になってしまう場合は，ここで処理を加えるよりは (7) を見直しましょう．\n",
    "        # - ただし・・・どうしても解決できない（か，独自に考えているアルゴリズムであり，\n",
    "        #   ここでの再訪相当を適切に処理することにした）なら，この assert を除いてください．\n",
    "        #   - それはそれで，考察できることは増えると思いますので．．．\n",
    "\n",
    "    closed_list[cur_state.id] = cur_state\n",
    "        # - closed_list に記録を残します．\n",
    "        # - 本講義で想定しているアルゴリズムであれば，ここでは上書きは起こりません．\n",
    "        #   - 上述の通り，アルゴリズムによっては，何らかの条件分岐が必要かもしれません．\n",
    "\n",
    "    #     DEBUG\n",
    "    print(f'(4) {closed_list=}')\n",
    "\n",
    "    # -----------------------------------------------------------------------\n",
    "    # (5) Check whether reaching the target (goal) or not\n",
    "    if graph_target in closed_list:\n",
    "        # Python の独特な条件式です．graph_target と一致する要素が，\n",
    "        # closed_list のキーに含まれているかどうかのチェックをしています．\n",
    "\n",
    "        print('\\n**** I have reached the target node!!\\n')\n",
    "        break\n",
    "            # この終了条件は，今後必要に応じて見直しが必要になるでしょう．\n",
    "            # 【発展】ここで終了しなくても，解説A3の経路探索は実現できる．\n",
    "            #         （終了すべきでない，とまでは言っていません．考察課題です．）\n",
    "\n",
    "    # -----------------------------------------------------------------------\n",
    "    # (6) Find adjacent nodes\n",
    "    candidate_state_nodes = graph_edgedict[cur_state.id]\n",
    "        # - cur_stateのノードの隣接ノードは，graph_edgedict を辞書引きすればよい\n",
    "        # - この時点では candidate_state_nodes は (dst_id, weight) のタプルである．\n",
    "\n",
    "    #     DEBUG\n",
    "    print(f'(6) {candidate_state_nodes=}')\n",
    "\n",
    "    # -----------------------------------------------------------------------\n",
    "    # (7) Update open_list\n",
    "    for _dst_id, _weight in candidate_state_nodes:\n",
    "        candidate_state = State(\n",
    "            id=_dst_id,\n",
    "            cost=0,       # TODO: 解説A5 & A6 (AI-2)\n",
    "            parent_id=cur_state.id  # TODO: 解説A3\n",
    "        )\n",
    "            # - for ループを使い，候補となるノードを追加したい．効率は無視．\n",
    "            #   - 候補となるノードは，[解説A2]時点では，id (ノードID)しか情報を持っていない．\n",
    "            #   - parent_id は，次の[解説A3]で考え直す必要がある．\n",
    "            #   - cost は，AI-2で考え直す必要がある．\n",
    "            # - 以降，_candidate_node を open_list に追加してよいかどうか，\n",
    "            #   を判定してから，最終的に，open_list へ追加する．\n",
    "\n",
    "        # (7-1) Ignore the candidate, if it existing in closed _list\n",
    "        #   Note: We should reconsider this process, if try to implement A* algorithm\n",
    "        if candidate_state.id in closed_list:\n",
    "            continue\n",
    "                # - closed_list は dict 型なので in 演算子で存在の判定ができる\n",
    "                # - _dst_id が探索済みのノード（closed_list内のノード）である\n",
    "                #    ==> open_listには追加しない．\n",
    "                #    ==> \"continue\" により，以降の処理は実行せず，forループを継続する\n",
    "\n",
    "        # (7-2) Ignore the candidate, if it existing in open_list\n",
    "        #   Note: We must reconsider this process at AI-2\n",
    "        _exist_state = [x for x in open_list if x.id == candidate_state.id]\n",
    "        _exist_state = _exist_state[0] if _exist_state else None\n",
    "        if _exist_state is None:\n",
    "                # - 本講義だけでは，この3行の条件判定の解説は難しいので，深入りしないで構いません．\n",
    "                # - この処理では，open_list 内の全探索状態に candidate_state.id と同じIDがあれば，\n",
    "                #   _exist_state として，open_list の1要素が得られます．無ければ None です．\n",
    "\n",
    "            open_list.append(candidate_state)\n",
    "                # - _dst_id は探索待ちのノード（open_list内のノード）ではない\n",
    "                #    ==> open_list に追加する\n",
    "\n",
    "        else:\n",
    "            pass\n",
    "                # - open_list に _dst_id と同じ id の状態データが存在する\n",
    "                #    ==> (AI-1では) open_listには追加しない．\n",
    "                #\n",
    "                # 【重要】AI-2で cost も踏まえた再検討をする．次回のTutorial 3 も注意深く確認しよう．\n",
    "\n",
    "    print(f'(7) {open_list=}')\n",
    "\n",
    "# -----------------------------------------------------------------------\n",
    "# DEBUG: draw the Graph\n",
    "ebai.draw_graph_structure(graph_edgedict, graph_pos, graph_target,\n",
    "                          open_list=open_list, closed_list=closed_list)\n",
    "    # - 先ほどの描画例に加えて，open_list, closed_list も追加している\n",
    "    #   - 適宜，引数を与えずに描画するなどして，描かれた図の各シンボルが\n",
    "    #     何を表しているのか，理解をしてください．\n",
    "    # - ループ込みの完成版であれば，ループ内で毎回描画するのは，無駄である．\n",
    "    #   必要な場所でのみ，描画すれば十分であろう．\n",
    "    # **********\n",
    "    # 【注意】\n",
    "    # fig?.savefig()を利用した画像保存をする際は，十分に注意を払ってください．\n",
    "    # ループ内での savefig() 呼び出しは，大量のネットワーク経由のデータ転送と，\n",
    "    # 共有ディスクの大量消費をする可能性があり，ほかの学生の受講の妨げになります．\n",
    "    # （あなたの端末だけでなく，演習室の全端末がハングアップする可能性があります．）\n",
    "    # **********\n"
   ]
  },
  {
   "cell_type": "markdown",
   "id": "d55d337c-da66-4239-ad1c-31e1bd9b2a98",
   "metadata": {},
   "source": [
    "### (2) Backtracking\n",
    "\n",
    "探索途中で親ノードを覚えておくようにすれば， backtracking によって，ゴールからスタートに戻ることができます．  \n",
    "このことを利用すれば，スタートからゴールの経路も容易に得られます．（参照：講義スライド#18-19）\n",
    "\n",
    "Backtracking の基本形は，以下のようなプログラムとなるでしょう．\n",
    "\n",
    ":::{exercise}\n",
    ":label: impl-backtracking\n",
    "\n",
    "以下の `backtrack()` の実装は未完成です．  \n",
    "講義資料やこれまでの実装の考えを振り返りながら，「成功の条件」や「後で必要になるbacktrackの結果」などを自分でよく考えて，実装として書き加えてください．\n",
    "\n",
    "a) 「Backtracking 成功」にかかる条件分岐は未完成です．  \n",
    "b) 戻り値は現在は空の tuple ですが，何らかの戻り値を得れば，後で使いまわせるかもしれません．（bは次回以降に考えても構いません）\n",
    "\n",
    ":::"
   ]
  },
  {
   "cell_type": "code",
   "execution_count": 23,
   "id": "8d1f1d23-c0a0-44cc-bbe5-1337a1fcf798",
   "metadata": {
    "editable": true,
    "slideshow": {
     "slide_type": ""
    },
    "tags": [
     "exercise",
     "hide-output"
    ]
   },
   "outputs": [
    {
     "name": "stdout",
     "output_type": "stream",
     "text": [
      "DEBUG: graph_target=5\n"
     ]
    },
    {
     "data": {
      "text/plain": [
       "{0: State(id=0, cost=0, parent_id=-1),\n",
       " 1: State(id=1, cost=0, parent_id=0),\n",
       " 3: State(id=3, cost=0, parent_id=1),\n",
       " 5: State(id=5, cost=0, parent_id=3)}"
      ]
     },
     "metadata": {},
     "output_type": "display_data"
    },
    {
     "name": "stdout",
     "output_type": "stream",
     "text": [
      "TEST BACKTRACKING --------\n",
      "DEBUG: bt_node_id=5\n",
      "DEBUG: route=deque([5])\n",
      "DEBUG: bt_node_id=3\n",
      "DEBUG: route=deque([3, 5])\n",
      "DEBUG: bt_node_id=1\n",
      "DEBUG: route=deque([1, 3, 5])\n",
      "DEBUG: bt_node_id=0\n",
      "DEBUG: route=deque([0, 1, 3, 5])\n",
      "DEBUG: bt_node_id=-1\n",
      "Backtracking: Success: Route = [0, 1, 3, 5]\n",
      "\n",
      "-----\n"
     ]
    },
    {
     "data": {
      "text/plain": [
       "[0, 1, 3, 5]"
      ]
     },
     "execution_count": 23,
     "metadata": {},
     "output_type": "execute_result"
    }
   ],
   "source": [
    "#\n",
    "# Backtracking\n",
    "#\n",
    "def backtrack(closed_list, graph_target, graph_start):\n",
    "    \"\"\" BACKTRACK\n",
    "    PARAMETERS\n",
    "    ----------\n",
    "    closed_list\n",
    "        グラフ探索で得られたクローズドリスト\n",
    "    graph_target\n",
    "        グラフ探索におけるゴールとなるノードのID\n",
    "    graph_start (default: 0)\n",
    "        グラフ探索におけるスタートとなるノードのID\n",
    "\n",
    "    RETURNS\n",
    "    -------\n",
    "    ????\n",
    "        ????\n",
    "    ????\n",
    "        ????\n",
    "\n",
    "    NOTE\n",
    "    ----\n",
    "    - return は各自で考えよう．\n",
    "      - 何も戻さない方針なら return 文をなくして，上記 RETURNS については，None とでも書いておけばよい\n",
    "    \"\"\"\n",
    "    # parameters\n",
    "    route = deque([])\n",
    "        # - route にノード情報を追加していく．\n",
    "        # - 追加と利用の考え方は，システムプログラミングの関数呼び出しにおけるスタックと同じ考え方．\n",
    "    \n",
    "    bt_node_id = graph_target\n",
    "        # - ゴールから逆にたどるので，ゴールのノード番号を入れておく\n",
    "        # - bt は backtracking の略です．\n",
    "    \n",
    "    # Debug\n",
    "    print(f'DEBUG: {bt_node_id=}')\n",
    "    while bt_node_id >= 0:\n",
    "        # - 本資料では，ソースノードは，常に0番ノードと仮定していることを思い出そう．\n",
    "        #   - ソースノードは，Backtracking 処理におけるゴールに相当する．\n",
    "        # - != 0 でも問題はないが・・・もう少し考えてみよう\n",
    "        #   - 実際のところ，（正常な）ノードID としては，正の値しか使っていない．\n",
    "        #   - そこで，先を見越して，広く設定しておこう．この条件ならば「正常でない」の意味で，\n",
    "        #     マイナス番号のノードIDをプログラマが意図的に利用することもできる．\n",
    "    \n",
    "        route.appendleft(bt_node_id)\n",
    "            # - 先頭に追加していく．\n",
    "    \n",
    "        # Debug\n",
    "        print(f'DEBUG: {route=}')\n",
    "    \n",
    "        bt_node_id = closed_list.get(bt_node_id, State(id=-1, cost=-1, parent_id=-9)).parent_id\n",
    "            # - dict.getは，辞書引きをする際にkeyが見つからなければ，第2引数をdefault値としてを返す\n",
    "    \n",
    "        # Debug\n",
    "        print(f'DEBUG: {bt_node_id=}')\n",
    "    \n",
    "    if bt_node_id <= graph_start:\n",
    "            # ⇒ a) Backtracking 成功は，どんな条件になるでしょうか？\n",
    "            #   自分でif文を書き換えてください．\n",
    "        # Backtracking 成功\n",
    "        print(f'Backtracking: Success: Route = {list(route)}')\n",
    "    else:\n",
    "        # Backtracking失敗\n",
    "        print(f'Backtracking: Failed: Route = {list(route)}?')\n",
    "\n",
    "    # Debug\n",
    "    print('\\n-----')\n",
    "\n",
    "    return list(route)\n",
    "            # ⇒ b) 何を返すのがよいか，は自分でよく考えてください．\n",
    "            #       （何も返さないという方針も当然あり得ますが，考えを示す必要があります．）\n",
    "\n",
    "#\n",
    "# Test your function\n",
    "#\n",
    "print(f'DEBUG: {graph_target=}')\n",
    "display(closed_list)\n",
    "    # - 探索\"成功\"時の closed_list を使います．セルの中でも，簡単に中身を確認しておくといいでしょう．\n",
    "    # - なお，\"成功\"していないときの動作は，未定義です．所望のBacktrackingの結果は得られないでしょう．\n",
    "\n",
    "print('TEST BACKTRACKING --------')\n",
    "backtrack(closed_list, graph_target, 0)\n",
    "    # - 関数のデバッグをしたいなら，右サイドバーの虫アイコンを押して，デバッガを起動し，\n",
    "    #   ブレークポイント設置とステップ実行をするとよいでしょう．\n"
   ]
  },
  {
   "cell_type": "markdown",
   "id": "ee5d8c43-459a-489c-8aa1-d4d96376ae65",
   "metadata": {},
   "source": [
    "### «PRACTICES»\n",
    "\n",
    ":::{important} PRACTICE &star;\n",
    "`backtrack()` 関数を完成させてください．\n",
    "\n",
    "> &starf;発展&starf;  \n",
    "> backtracking はある種の探索と等価といえそうです．このことについて考察してください．\n",
    ":::\n",
    "\n",
    ":::{important} PRACTICE &star;\n",
    "1つのセル内で，グラフ探索を行い，さらに `backtrack()` 関数の結果を得てください．  \n",
    "それらの処理の結果として，「探索対象のグラフの描画」と「スタートからゴールまでの経路の表示」を実現してください．  \n",
    "\n",
    "  - 経路の表示として，少なくとも「経路を保持する変数名」と「変数の中身」が分かるような print (or display) をしてください．\n",
    "\n",
    "> &starf;発展&starf;  \n",
    "> `ebai.ebai.draw_graph_structure()` を適切に利用すれば，探索された経路のハイライト表示も加えることができる．  \n",
    ">\n",
    ">  （ハイライトの追加に固執して，本来成すべき，経路情報をprintで表示する，ということを忘れないように．．．）\n",
    ":::"
   ]
  },
  {
   "cell_type": "code",
   "execution_count": 24,
   "id": "7d47f5bc-9c04-417e-a7fe-86d07960661b",
   "metadata": {
    "editable": true,
    "slideshow": {
     "slide_type": ""
    },
    "tags": [
     "exercise",
     "hide-output"
    ]
   },
   "outputs": [
    {
     "name": "stdout",
     "output_type": "stream",
     "text": [
      "(1) open_list=deque([State(id=0, cost=0, parent_id=-1)])\n",
      "(1) closed_list={}\n",
      "\n",
      "----- LOOP = 1\n",
      "(3) cur_state=State(id=0, cost=0, parent_id=-1)\n",
      "(3) open_list=deque([])\n",
      "(4) closed_list={0: State(id=0, cost=0, parent_id=-1)}\n",
      "(6) candidate_state_nodes=[(1, 1.0)]\n",
      "(7) open_list=deque([State(id=1, cost=0, parent_id=0)])\n",
      "\n",
      "----- LOOP = 2\n",
      "(3) cur_state=State(id=1, cost=0, parent_id=0)\n",
      "(3) open_list=deque([])\n",
      "(4) closed_list={0: State(id=0, cost=0, parent_id=-1), 1: State(id=1, cost=0, parent_id=0)}\n",
      "(6) candidate_state_nodes=[(2, 1.0), (3, 1.0)]\n",
      "(7) open_list=deque([State(id=2, cost=0, parent_id=1), State(id=3, cost=0, parent_id=1)])\n",
      "\n",
      "----- LOOP = 3\n",
      "(3) cur_state=State(id=3, cost=0, parent_id=1)\n",
      "(3) open_list=deque([State(id=2, cost=0, parent_id=1)])\n",
      "(4) closed_list={0: State(id=0, cost=0, parent_id=-1), 1: State(id=1, cost=0, parent_id=0), 3: State(id=3, cost=0, parent_id=1)}\n",
      "(6) candidate_state_nodes=[(1, 1.0), (4, 1.0), (5, 1.0)]\n",
      "(7) open_list=deque([State(id=2, cost=0, parent_id=1), State(id=4, cost=0, parent_id=3), State(id=5, cost=0, parent_id=3)])\n",
      "\n",
      "----- LOOP = 4\n",
      "(3) cur_state=State(id=5, cost=0, parent_id=3)\n",
      "(3) open_list=deque([State(id=2, cost=0, parent_id=1), State(id=4, cost=0, parent_id=3)])\n",
      "(4) closed_list={0: State(id=0, cost=0, parent_id=-1), 1: State(id=1, cost=0, parent_id=0), 3: State(id=3, cost=0, parent_id=1), 5: State(id=5, cost=0, parent_id=3)}\n",
      "\n",
      "**** I have reached the target node!!\n",
      "\n",
      "DEBUG: graph_target=5\n"
     ]
    },
    {
     "data": {
      "text/plain": [
       "{0: State(id=0, cost=0, parent_id=-1),\n",
       " 1: State(id=1, cost=0, parent_id=0),\n",
       " 3: State(id=3, cost=0, parent_id=1),\n",
       " 5: State(id=5, cost=0, parent_id=3)}"
      ]
     },
     "metadata": {},
     "output_type": "display_data"
    },
    {
     "name": "stdout",
     "output_type": "stream",
     "text": [
      "TEST BACKTRACKING --------\n",
      "DEBUG: bt_node_id=5\n",
      "DEBUG: route=deque([5])\n",
      "DEBUG: bt_node_id=3\n",
      "DEBUG: route=deque([3, 5])\n",
      "DEBUG: bt_node_id=1\n",
      "DEBUG: route=deque([1, 3, 5])\n",
      "DEBUG: bt_node_id=0\n",
      "DEBUG: route=deque([0, 1, 3, 5])\n",
      "DEBUG: bt_node_id=-1\n",
      "Backtracking: Success: Route = [0, 1, 3, 5]\n",
      "\n",
      "-----\n"
     ]
    },
    {
     "data": {
      "text/plain": [
       "[0, 1, 3, 5]"
      ]
     },
     "execution_count": 24,
     "metadata": {},
     "output_type": "execute_result"
    },
    {
     "data": {
      "application/pdf": "[encoded data removed]",
      "image/png": "[encoded data removed]",
      "text/plain": [
       "<Figure size 600x400 with 1 Axes>"
      ]
     },
     "metadata": {},
     "output_type": "display_data"
    }
   ],
   "source": [
    "# Show the Graph\n",
    "# GRAPH SEARCH ALGORITHM using STACK (w/ parent_node)\n",
    "# --> Write your code\n",
    "# Parameters\n",
    "graph_edgedict = graph1_edgedict\n",
    "graph_target = graph1_target\n",
    "graph_pos = graph1_pos\n",
    "\n",
    "# ---------------------------------------------------------------------------\n",
    "# (1) Initialization\n",
    "# (1-1) Prepare open_list as STACK, QUEUE, or XXXX(AI-2)\n",
    "open_list = deque([State(0, cost=0, parent_id=-1)])\n",
    "    # - open_list は \"List(deque) of State\" とする．\n",
    "    #   - [] の中に State() を1つだけ入れており，そのリストで deque を初期化している．\n",
    "    # - スタートは常に0番ノードにする．\n",
    "    #   - いったんはcost = 0, parent_id = -1 ということにしておく．\n",
    "    #   - 【重要】cost と parent_id は後で見直しが必要．\n",
    "\n",
    "# (1-2) Prepare closed_list as DICT\n",
    "closed_list = dict()\n",
    "    # - closed_list は \"Dict of State\" とする．\n",
    "    # - cf. This implementaion by dict might be easy and simple one.\n",
    "    #       However, an implementation by list (static table) might\n",
    "    #       be faster. As some algorithm contest, the dict implementation\n",
    "    #       will be caused TLE (Time Limit Exceed)...\n",
    "\n",
    "# DEBUG\n",
    "print(f'(1) {open_list=}')\n",
    "print(f'(1) {closed_list=}')\n",
    "\n",
    "\n",
    "# ---------------------------------------------------------------------------\n",
    "# (2) Loop until the open_list is empty\n",
    "#     (Loop while(if) the open_list is not empty)\n",
    "loop_count = 0\n",
    "while len(open_list) > 0 and loop_count < 100:\n",
    "    # - open_listに要素がある限り，ループし続ける\n",
    "    # - 安全のため，loop_count が増えすぎてるなら，タイムアウトとして止める．\n",
    "    #   **初期の100では，探索対象のグラフによっては少なすぎるかもしれないので，注意．**\n",
    "    # - なお，例年 while 文が苦手という人がいるようですが・・・\n",
    "    #   while文は，if文とほぼ同じです．条件が成立するなら内部を実行する，です．\n",
    "    #   ただし，if文は内部を実行終えたら，そこで終わるが，while文は条件判定に戻る．\n",
    "    #   cf. アセンブラで言えば，if でも while でも，beqによる条件分岐があるのは同じだが，\n",
    "    #       while は最後に j whie_loop を置くことでループ構造を実現する．\n",
    "    #       https://www.swlab.cs.okayama-u.ac.jp/~nom/lect/p3/dat/examples/ans-practice5-1.s \n",
    "\n",
    "    loop_count += 1;\n",
    "    print(f'\\n----- LOOP = {loop_count}')\n",
    "\n",
    "    # -----------------------------------------------------------------------\n",
    "    # (3) Set current state for search algorithm\n",
    "    cur_state = open_list.pop()   # POP as STACK\n",
    "\n",
    "    #     DEBUG\n",
    "    print(f'(3) {cur_state=}')\n",
    "    print(f'(3) {open_list=}')\n",
    "\n",
    "    # -----------------------------------------------------------------------\n",
    "    # (4) Update closed_list\n",
    "    assert cur_state.id not in closed_list, f'REVISITED: {cur_state.id=} should not in {closed_list=}'\n",
    "        # - assert は条件を満たしていないときに処理を止める関数です\n",
    "        #   - アルゴリズムとして必要なのではなく，検証 (validation) の一種です．\n",
    "        # - 後述の (7-1) や (7-2) で適切な処理をしていない場合は，\n",
    "        #   ここで \"再訪(revisit)\" してしまう場合があります．\n",
    "        #   - \"再訪\" になってしまう場合は，ここで処理を加えるよりは (7) を見直しましょう．\n",
    "        # - ただし・・・どうしても解決できない（か，独自に考えているアルゴリズムであり，\n",
    "        #   ここでの再訪相当を適切に処理することにした）なら，この assert を除いてください．\n",
    "        #   - それはそれで，考察できることは増えると思いますので．．．\n",
    "\n",
    "    closed_list[cur_state.id] = cur_state\n",
    "        # - closed_list に記録を残します．\n",
    "        # - 本講義で想定しているアルゴリズムであれば，ここでは上書きは起こりません．\n",
    "        #   - 上述の通り，アルゴリズムによっては，何らかの条件分岐が必要かもしれません．\n",
    "\n",
    "    #     DEBUG\n",
    "    print(f'(4) {closed_list=}')\n",
    "\n",
    "    # -----------------------------------------------------------------------\n",
    "    # (5) Check whether reaching the target (goal) or not\n",
    "    if graph_target in closed_list:\n",
    "        # Python の独特な条件式です．graph_target と一致する要素が，\n",
    "        # closed_list のキーに含まれているかどうかのチェックをしています．\n",
    "\n",
    "        print('\\n**** I have reached the target node!!\\n')\n",
    "        break\n",
    "            # この終了条件は，今後必要に応じて見直しが必要になるでしょう．\n",
    "            # 【発展】ここで終了しなくても，解説A3の経路探索は実現できる．\n",
    "            #         （終了すべきでない，とまでは言っていません．考察課題です．）\n",
    "\n",
    "    # -----------------------------------------------------------------------\n",
    "    # (6) Find adjacent nodes\n",
    "    candidate_state_nodes = graph_edgedict[cur_state.id]\n",
    "        # - cur_stateのノードの隣接ノードは，graph_edgedict を辞書引きすればよい\n",
    "        # - この時点では candidate_state_nodes は (dst_id, weight) のタプルである．\n",
    "\n",
    "    #     DEBUG\n",
    "    print(f'(6) {candidate_state_nodes=}')\n",
    "\n",
    "    # -----------------------------------------------------------------------\n",
    "    # (7) Update open_list\n",
    "    for _dst_id, _weight in candidate_state_nodes:\n",
    "        candidate_state = State(\n",
    "            id=_dst_id,\n",
    "            cost=0,       # TODO: 解説A5 & A6 (AI-2)\n",
    "            parent_id=cur_state.id  # TODO: 解説A3\n",
    "        )\n",
    "            # - for ループを使い，候補となるノードを追加したい．効率は無視．\n",
    "            #   - 候補となるノードは，[解説A2]時点では，id (ノードID)しか情報を持っていない．\n",
    "            #   - parent_id は，次の[解説A3]で考え直す必要がある．\n",
    "            #   - cost は，AI-2で考え直す必要がある．\n",
    "            # - 以降，_candidate_node を open_list に追加してよいかどうか，\n",
    "            #   を判定してから，最終的に，open_list へ追加する．\n",
    "\n",
    "        # (7-1) Ignore the candidate, if it existing in closed _list\n",
    "        #   Note: We should reconsider this process, if try to implement A* algorithm\n",
    "        if candidate_state.id in closed_list:\n",
    "            continue\n",
    "                # - closed_list は dict 型なので in 演算子で存在の判定ができる\n",
    "                # - _dst_id が探索済みのノード（closed_list内のノード）である\n",
    "                #    ==> open_listには追加しない．\n",
    "                #    ==> \"continue\" により，以降の処理は実行せず，forループを継続する\n",
    "\n",
    "        # (7-2) Ignore the candidate, if it existing in open_list\n",
    "        #   Note: We must reconsider this process at AI-2\n",
    "        _exist_state = [x for x in open_list if x.id == candidate_state.id]\n",
    "        _exist_state = _exist_state[0] if _exist_state else None\n",
    "        if _exist_state is None:\n",
    "                # - 本講義だけでは，この3行の条件判定の解説は難しいので，深入りしないで構いません．\n",
    "                # - この処理では，open_list 内の全探索状態に candidate_state.id と同じIDがあれば，\n",
    "                #   _exist_state として，open_list の1要素が得られます．無ければ None です．\n",
    "\n",
    "            open_list.append(candidate_state)\n",
    "                # - _dst_id は探索待ちのノード（open_list内のノード）ではない\n",
    "                #    ==> open_list に追加する\n",
    "\n",
    "        else:\n",
    "            pass\n",
    "                # - open_list に _dst_id と同じ id の状態データが存在する\n",
    "                #    ==> (AI-1では) open_listには追加しない．\n",
    "                #\n",
    "                # 【重要】AI-2で cost も踏まえた再検討をする．次回のTutorial 3 も注意深く確認しよう．\n",
    "\n",
    "    print(f'(7) {open_list=}')\n",
    "\n",
    "# -----------------------------------------------------------------------\n",
    "# DEBUG: draw the Graph\n",
    "ebai.draw_graph_structure(graph_edgedict, graph_pos, graph_target,\n",
    "                          open_list=open_list, closed_list=closed_list)\n",
    "    # - 先ほどの描画例に加えて，open_list, closed_list も追加している\n",
    "    #   - 適宜，引数を与えずに描画するなどして，描かれた図の各シンボルが\n",
    "    #     何を表しているのか，理解をしてください．\n",
    "    # - ループ込みの完成版であれば，ループ内で毎回描画するのは，無駄である．\n",
    "    #   必要な場所でのみ，描画すれば十分であろう．\n",
    "    # **********\n",
    "    # 【注意】\n",
    "    # fig?.savefig()を利用した画像保存をする際は，十分に注意を払ってください．\n",
    "    # ループ内での savefig() 呼び出しは，大量のネットワーク経由のデータ転送と，\n",
    "    # 共有ディスクの大量消費をする可能性があり，ほかの学生の受講の妨げになります．\n",
    "    # （あなたの端末だけでなく，演習室の全端末がハングアップする可能性があります．）\n",
    "    # **********\n",
    "\n",
    "# Show the Result of Backtracking\n",
    "\n",
    "#\n",
    "# Backtracking\n",
    "#\n",
    "def backtrack(closed_list, graph_target, graph_start):\n",
    "    \"\"\" BACKTRACK\n",
    "    PARAMETERS\n",
    "    ----------\n",
    "    closed_list\n",
    "        グラフ探索で得られたクローズドリスト\n",
    "    graph_target\n",
    "        グラフ探索におけるゴールとなるノードのID\n",
    "    graph_start (default: 0)\n",
    "        グラフ探索におけるスタートとなるノードのID\n",
    "\n",
    "    RETURNS\n",
    "    -------\n",
    "    ????\n",
    "        ????\n",
    "    ????\n",
    "        ????\n",
    "\n",
    "    NOTE\n",
    "    ----\n",
    "    - return は各自で考えよう．\n",
    "      - 何も戻さない方針なら return 文をなくして，上記 RETURNS については，None とでも書いておけばよい\n",
    "    \"\"\"\n",
    "    # parameters\n",
    "    route = deque([])\n",
    "        # - route にノード情報を追加していく．\n",
    "        # - 追加と利用の考え方は，システムプログラミングの関数呼び出しにおけるスタックと同じ考え方．\n",
    "    \n",
    "    bt_node_id = graph_target\n",
    "        # - ゴールから逆にたどるので，ゴールのノード番号を入れておく\n",
    "        # - bt は backtracking の略です．\n",
    "    \n",
    "    # Debug\n",
    "    print(f'DEBUG: {bt_node_id=}')\n",
    "    while bt_node_id >= 0:\n",
    "        # - 本資料では，ソースノードは，常に0番ノードと仮定していることを思い出そう．\n",
    "        #   - ソースノードは，Backtracking 処理におけるゴールに相当する．\n",
    "        # - != 0 でも問題はないが・・・もう少し考えてみよう\n",
    "        #   - 実際のところ，（正常な）ノードID としては，正の値しか使っていない．\n",
    "        #   - そこで，先を見越して，広く設定しておこう．この条件ならば「正常でない」の意味で，\n",
    "        #     マイナス番号のノードIDをプログラマが意図的に利用することもできる．\n",
    "    \n",
    "        route.appendleft(bt_node_id)\n",
    "            # - 先頭に追加していく．\n",
    "    \n",
    "        # Debug\n",
    "        print(f'DEBUG: {route=}')\n",
    "    \n",
    "        bt_node_id = closed_list.get(bt_node_id, State(id=-1, cost=-1, parent_id=-9)).parent_id\n",
    "            # - dict.getは，辞書引きをする際にkeyが見つからなければ，第2引数をdefault値としてを返す\n",
    "    \n",
    "        # Debug\n",
    "        print(f'DEBUG: {bt_node_id=}')\n",
    "    \n",
    "    if bt_node_id <= graph_start:\n",
    "            # ⇒ a) Backtracking 成功は，どんな条件になるでしょうか？\n",
    "            #   自分でif文を書き換えてください．\n",
    "        # Backtracking 成功\n",
    "        print(f'Backtracking: Success: Route = {list(route)}')\n",
    "    else:\n",
    "        # Backtracking失敗\n",
    "        print(f'Backtracking: Failed: Route = {list(route)}?')\n",
    "\n",
    "    # Debug\n",
    "    print('\\n-----')\n",
    "\n",
    "    return list(route)\n",
    "            # ⇒ b) 何を返すのがよいか，は自分でよく考えてください．\n",
    "            #       （何も返さないという方針も当然あり得ますが，考えを示す必要があります．）\n",
    "\n",
    "#\n",
    "# Test your function\n",
    "#\n",
    "print(f'DEBUG: {graph_target=}')\n",
    "display(closed_list)\n",
    "    # - 探索\"成功\"時の closed_list を使います．セルの中でも，簡単に中身を確認しておくといいでしょう．\n",
    "    # - なお，\"成功\"していないときの動作は，未定義です．所望のBacktrackingの結果は得られないでしょう．\n",
    "\n",
    "print('TEST BACKTRACKING --------')\n",
    "backtrack(closed_list, graph_target, 0)\n",
    "    # - 関数のデバッグをしたいなら，右サイドバーの虫アイコンを押して，デバッガを起動し，\n",
    "    #   ブレークポイント設置とステップ実行をするとよいでしょう．\n"
   ]
  },
  {
   "cell_type": "markdown",
   "id": "80766e33-3b01-41ba-ac31-8872b7c94f98",
   "metadata": {},
   "source": [
    ":::{attention}\n",
    "日報の段階で，↑ までは必ず終わらせる・・・というつもりで進めてください．\n",
    "\n",
    "また，次回以降の時間の余裕を得るため，解説A4も次回講義前までに，できる限り終わらせておくことを，強く推奨します．\n",
    ":::"
   ]
  },
  {
   "cell_type": "markdown",
   "id": "a8b0a483-5372-4c73-bb3c-1a871f4d9901",
   "metadata": {
    "editable": true,
    "slideshow": {
     "slide_type": ""
    },
    "tags": []
   },
   "source": [
    "(Step-A4)=\n",
    "\n",
    "## [解説A4] 幅優先探索（横探索）と深さ優先探索（縦探索）\n",
    "\n",
    "ここまでの例では，オープンリストとして，Stack データ構造を用いた実装例を示しました．  \n",
    "オープンリストとして，Queue データ構造を利用すると，どのような探索アルゴリズムになるでしょうか？\n",
    "\n",
    "利用したデータ構造により「幅優先探索（横探索）」と「深さ優先探索（縦探索）」のいずれかに相当するはずです．（参照：スライド#12）"
   ]
  },
  {
   "cell_type": "markdown",
   "id": "4ee777d7-81d2-45db-a5b0-690c7c2ae092",
   "metadata": {
    "tags": []
   },
   "source": [
    "### «PRACTICES»\n",
    "\n",
    ":::{important} PRACTICE &star;\n",
    "オープンリストとして Queue データ構造を採用した場合のグラフ探索処理を1つのセルで完結させ，レポートに記載してください．\n",
    "  - Backtracking の結果も忘れずに示してください．\n",
    "\n",
    "> ★発展★  \n",
    "> 適切な粒度で関数を設計すれば，様々な条件での実験が行いやすくなる．\n",
    "\n",
    ":::\n",
    "\n",
    ":::{important} PRACTICE &star;\n",
    "Queue と Stack の使い分けにより，それぞれどのような探索アルゴリズムが実現されているか，説明してください．\n",
    "\n",
    "> ★発展★  \n",
    "> Graph1以外のグラフ構造で実験を行うことで，実装の信頼性は増す．もちろん，説明や考察の信頼性も増す．  \n",
    "> ただし，むやみに変えればいいというものではない．意味のあるグラフの変更，あるいは追加を考えよう．  \n",
    "\n",
    "> &starf;発展&starf;  \n",
    "> オープンリストへの追加にかかる処理，例えば，(7-1) や (7-2) はなぜ必要なのだろうか？\n",
    "> StackとQueueでその必要性に違いは出ないだろうか？\n",
    ">\n",
    "> 実験結果も踏まえて考察してみるとよい．\n",
    "> （レポートでは，プログラムを示すとややこしいので，ｘｘの場合はｙｙのようになる，のように結果相当のみを示しても良い．）\n",
    "\n",
    ":::"
   ]
  },
  {
   "cell_type": "code",
   "execution_count": 25,
   "id": "701944ce-3896-4e2d-921b-fc4c6c9d29c7",
   "metadata": {
    "editable": true,
    "slideshow": {
     "slide_type": ""
    },
    "tags": [
     "exercise",
     "hide-output"
    ]
   },
   "outputs": [],
   "source": [
    "# Parameters\n",
    "graph_edgedict = graph1_edgedict\n",
    "graph_target = graph1_target\n",
    "graph_pos = graph1_pos"
   ]
  },
  {
   "cell_type": "code",
   "execution_count": 26,
   "id": "2ecc7aa0-52f1-41fd-9dac-1c1b0f7724b0",
   "metadata": {
    "editable": true,
    "slideshow": {
     "slide_type": ""
    },
    "tags": [
     "exercise",
     "hide-output"
    ]
   },
   "outputs": [
    {
     "name": "stdout",
     "output_type": "stream",
     "text": [
      "(1) open_list=deque([State(id=0, cost=0, parent_id=-1)])\n",
      "(1) closed_list={}\n",
      "\n",
      "----- LOOP = 1\n",
      "(3) cur_state=State(id=0, cost=0, parent_id=-1)\n",
      "(3) open_list=deque([])\n",
      "(4) closed_list={0: State(id=0, cost=0, parent_id=-1)}\n",
      "(6) candidate_state_nodes=[(1, 1.0)]\n",
      "(7) open_list=deque([State(id=1, cost=0, parent_id=0)])\n",
      "\n",
      "----- LOOP = 2\n",
      "(3) cur_state=State(id=1, cost=0, parent_id=0)\n",
      "(3) open_list=deque([])\n",
      "(4) closed_list={0: State(id=0, cost=0, parent_id=-1), 1: State(id=1, cost=0, parent_id=0)}\n",
      "(6) candidate_state_nodes=[(2, 1.0), (3, 1.0)]\n",
      "(7) open_list=deque([State(id=2, cost=0, parent_id=1), State(id=3, cost=0, parent_id=1)])\n",
      "\n",
      "----- LOOP = 3\n",
      "(3) cur_state=State(id=2, cost=0, parent_id=1)\n",
      "(3) open_list=deque([State(id=3, cost=0, parent_id=1)])\n",
      "(4) closed_list={0: State(id=0, cost=0, parent_id=-1), 1: State(id=1, cost=0, parent_id=0), 2: State(id=2, cost=0, parent_id=1)}\n",
      "(6) candidate_state_nodes=[(1, 1.0)]\n",
      "(7) open_list=deque([State(id=3, cost=0, parent_id=1)])\n",
      "\n",
      "----- LOOP = 4\n",
      "(3) cur_state=State(id=3, cost=0, parent_id=1)\n",
      "(3) open_list=deque([])\n",
      "(4) closed_list={0: State(id=0, cost=0, parent_id=-1), 1: State(id=1, cost=0, parent_id=0), 2: State(id=2, cost=0, parent_id=1), 3: State(id=3, cost=0, parent_id=1)}\n",
      "(6) candidate_state_nodes=[(1, 1.0), (4, 1.0), (5, 1.0)]\n",
      "(7) open_list=deque([State(id=4, cost=0, parent_id=3), State(id=5, cost=0, parent_id=3)])\n",
      "\n",
      "----- LOOP = 5\n",
      "(3) cur_state=State(id=4, cost=0, parent_id=3)\n",
      "(3) open_list=deque([State(id=5, cost=0, parent_id=3)])\n",
      "(4) closed_list={0: State(id=0, cost=0, parent_id=-1), 1: State(id=1, cost=0, parent_id=0), 2: State(id=2, cost=0, parent_id=1), 3: State(id=3, cost=0, parent_id=1), 4: State(id=4, cost=0, parent_id=3)}\n",
      "(6) candidate_state_nodes=[(3, 1.0)]\n",
      "(7) open_list=deque([State(id=5, cost=0, parent_id=3)])\n",
      "\n",
      "----- LOOP = 6\n",
      "(3) cur_state=State(id=5, cost=0, parent_id=3)\n",
      "(3) open_list=deque([])\n",
      "(4) closed_list={0: State(id=0, cost=0, parent_id=-1), 1: State(id=1, cost=0, parent_id=0), 2: State(id=2, cost=0, parent_id=1), 3: State(id=3, cost=0, parent_id=1), 4: State(id=4, cost=0, parent_id=3), 5: State(id=5, cost=0, parent_id=3)}\n",
      "\n",
      "**** I have reached the target node!!\n",
      "\n",
      "DEBUG: graph_target=5\n"
     ]
    },
    {
     "data": {
      "text/plain": [
       "{0: State(id=0, cost=0, parent_id=-1),\n",
       " 1: State(id=1, cost=0, parent_id=0),\n",
       " 2: State(id=2, cost=0, parent_id=1),\n",
       " 3: State(id=3, cost=0, parent_id=1),\n",
       " 4: State(id=4, cost=0, parent_id=3),\n",
       " 5: State(id=5, cost=0, parent_id=3)}"
      ]
     },
     "metadata": {},
     "output_type": "display_data"
    },
    {
     "name": "stdout",
     "output_type": "stream",
     "text": [
      "TEST BACKTRACKING --------\n",
      "DEBUG: bt_node_id=5\n",
      "DEBUG: route=deque([5])\n",
      "DEBUG: bt_node_id=3\n",
      "DEBUG: route=deque([3, 5])\n",
      "DEBUG: bt_node_id=1\n",
      "DEBUG: route=deque([1, 3, 5])\n",
      "DEBUG: bt_node_id=0\n",
      "DEBUG: route=deque([0, 1, 3, 5])\n",
      "DEBUG: bt_node_id=-1\n",
      "Backtracking: Success: Route = [0, 1, 3, 5]\n",
      "\n",
      "-----\n"
     ]
    },
    {
     "data": {
      "text/plain": [
       "[0, 1, 3, 5]"
      ]
     },
     "execution_count": 26,
     "metadata": {},
     "output_type": "execute_result"
    },
    {
     "data": {
      "application/pdf": "[encoded data removed]",
      "image/png": "[encoded data removed]",
      "text/plain": [
       "<Figure size 600x400 with 1 Axes>"
      ]
     },
     "metadata": {},
     "output_type": "display_data"
    }
   ],
   "source": [
    "# ---------------------------------------------------------------------------\n",
    "# (1) Initialization\n",
    "# (1-1) Prepare open_list as STACK, QUEUE, or XXXX(AI-2)\n",
    "open_list = deque([State(0, cost=0, parent_id=-1)])\n",
    "    # - open_list は \"List(deque) of State\" とする．\n",
    "    #   - [] の中に State() を1つだけ入れており，そのリストで deque を初期化している．\n",
    "    # - スタートは常に0番ノードにする．\n",
    "    #   - いったんはcost = 0, parent_id = -1 ということにしておく．\n",
    "    #   - 【重要】cost と parent_id は後で見直しが必要．\n",
    "\n",
    "# (1-2) Prepare closed_list as DICT\n",
    "closed_list = dict()\n",
    "    # - closed_list は \"Dict of State\" とする．\n",
    "    # - cf. This implementaion by dict might be easy and simple one.\n",
    "    #       However, an implementation by list (static table) might\n",
    "    #       be faster. As some algorithm contest, the dict implementation\n",
    "    #       will be caused TLE (Time Limit Exceed)...\n",
    "\n",
    "# DEBUG\n",
    "print(f'(1) {open_list=}')\n",
    "print(f'(1) {closed_list=}')\n",
    "\n",
    "\n",
    "# ---------------------------------------------------------------------------\n",
    "# (2) Loop until the open_list is empty\n",
    "#     (Loop while(if) the open_list is not empty)\n",
    "loop_count = 0\n",
    "while len(open_list) > 0 and loop_count < 100:\n",
    "    # - open_listに要素がある限り，ループし続ける\n",
    "    # - 安全のため，loop_count が増えすぎてるなら，タイムアウトとして止める．\n",
    "    #   **初期の100では，探索対象のグラフによっては少なすぎるかもしれないので，注意．**\n",
    "    # - なお，例年 while 文が苦手という人がいるようですが・・・\n",
    "    #   while文は，if文とほぼ同じです．条件が成立するなら内部を実行する，です．\n",
    "    #   ただし，if文は内部を実行終えたら，そこで終わるが，while文は条件判定に戻る．\n",
    "    #   cf. アセンブラで言えば，if でも while でも，beqによる条件分岐があるのは同じだが，\n",
    "    #       while は最後に j whie_loop を置くことでループ構造を実現する．\n",
    "    #       https://www.swlab.cs.okayama-u.ac.jp/~nom/lect/p3/dat/examples/ans-practice5-1.s \n",
    "\n",
    "    loop_count += 1;\n",
    "    print(f'\\n----- LOOP = {loop_count}')\n",
    "\n",
    "    # -----------------------------------------------------------------------\n",
    "    # (3) Set current state for search algorithm\n",
    "    cur_state = open_list.popleft()   # POP as STACK\n",
    "\n",
    "    #     DEBUG\n",
    "    print(f'(3) {cur_state=}')\n",
    "    print(f'(3) {open_list=}')\n",
    "\n",
    "    # -----------------------------------------------------------------------\n",
    "    # (4) Update closed_list\n",
    "    assert cur_state.id not in closed_list, f'REVISITED: {cur_state.id=} should not in {closed_list=}'\n",
    "        # - assert は条件を満たしていないときに処理を止める関数です\n",
    "        #   - アルゴリズムとして必要なのではなく，検証 (validation) の一種です．\n",
    "        # - 後述の (7-1) や (7-2) で適切な処理をしていない場合は，\n",
    "        #   ここで \"再訪(revisit)\" してしまう場合があります．\n",
    "        #   - \"再訪\" になってしまう場合は，ここで処理を加えるよりは (7) を見直しましょう．\n",
    "        # - ただし・・・どうしても解決できない（か，独自に考えているアルゴリズムであり，\n",
    "        #   ここでの再訪相当を適切に処理することにした）なら，この assert を除いてください．\n",
    "        #   - それはそれで，考察できることは増えると思いますので．．．\n",
    "\n",
    "    closed_list[cur_state.id] = cur_state\n",
    "        # - closed_list に記録を残します．\n",
    "        # - 本講義で想定しているアルゴリズムであれば，ここでは上書きは起こりません．\n",
    "        #   - 上述の通り，アルゴリズムによっては，何らかの条件分岐が必要かもしれません．\n",
    "\n",
    "    #     DEBUG\n",
    "    print(f'(4) {closed_list=}')\n",
    "\n",
    "    # -----------------------------------------------------------------------\n",
    "    # (5) Check whether reaching the target (goal) or not\n",
    "    if graph_target in closed_list:\n",
    "        # Python の独特な条件式です．graph_target と一致する要素が，\n",
    "        # closed_list のキーに含まれているかどうかのチェックをしています．\n",
    "\n",
    "        print('\\n**** I have reached the target node!!\\n')\n",
    "        break\n",
    "            # この終了条件は，今後必要に応じて見直しが必要になるでしょう．\n",
    "            # 【発展】ここで終了しなくても，解説A3の経路探索は実現できる．\n",
    "            #         （終了すべきでない，とまでは言っていません．考察課題です．）\n",
    "\n",
    "    # -----------------------------------------------------------------------\n",
    "    # (6) Find adjacent nodes\n",
    "    candidate_state_nodes = graph_edgedict[cur_state.id]\n",
    "        # - cur_stateのノードの隣接ノードは，graph_edgedict を辞書引きすればよい\n",
    "        # - この時点では candidate_state_nodes は (dst_id, weight) のタプルである．\n",
    "\n",
    "    #     DEBUG\n",
    "    print(f'(6) {candidate_state_nodes=}')\n",
    "\n",
    "    # -----------------------------------------------------------------------\n",
    "    # (7) Update open_list\n",
    "    for _dst_id, _weight in candidate_state_nodes:\n",
    "        candidate_state = State(\n",
    "            id=_dst_id,\n",
    "            cost=0,       # TODO: 解説A5 & A6 (AI-2)\n",
    "            parent_id=cur_state.id  # TODO: 解説A3\n",
    "        )\n",
    "            # - for ループを使い，候補となるノードを追加したい．効率は無視．\n",
    "            #   - 候補となるノードは，[解説A2]時点では，id (ノードID)しか情報を持っていない．\n",
    "            #   - parent_id は，次の[解説A3]で考え直す必要がある．\n",
    "            #   - cost は，AI-2で考え直す必要がある．\n",
    "            # - 以降，_candidate_node を open_list に追加してよいかどうか，\n",
    "            #   を判定してから，最終的に，open_list へ追加する．\n",
    "\n",
    "        # (7-1) Ignore the candidate, if it existing in closed _list\n",
    "        #   Note: We should reconsider this process, if try to implement A* algorithm\n",
    "        if candidate_state.id in closed_list:\n",
    "            continue\n",
    "                # - closed_list は dict 型なので in 演算子で存在の判定ができる\n",
    "                # - _dst_id が探索済みのノード（closed_list内のノード）である\n",
    "                #    ==> open_listには追加しない．\n",
    "                #    ==> \"continue\" により，以降の処理は実行せず，forループを継続する\n",
    "\n",
    "        # (7-2) Ignore the candidate, if it existing in open_list\n",
    "        #   Note: We must reconsider this process at AI-2\n",
    "        _exist_state = [x for x in open_list if x.id == candidate_state.id]\n",
    "        _exist_state = _exist_state[0] if _exist_state else None\n",
    "        if _exist_state is None:\n",
    "                # - 本講義だけでは，この3行の条件判定の解説は難しいので，深入りしないで構いません．\n",
    "                # - この処理では，open_list 内の全探索状態に candidate_state.id と同じIDがあれば，\n",
    "                #   _exist_state として，open_list の1要素が得られます．無ければ None です．\n",
    "\n",
    "            open_list.append(candidate_state)\n",
    "                # - _dst_id は探索待ちのノード（open_list内のノード）ではない\n",
    "                #    ==> open_list に追加する\n",
    "\n",
    "        else:\n",
    "            pass\n",
    "                # - open_list に _dst_id と同じ id の状態データが存在する\n",
    "                #    ==> (AI-1では) open_listには追加しない．\n",
    "                #\n",
    "                # 【重要】AI-2で cost も踏まえた再検討をする．次回のTutorial 3 も注意深く確認しよう．\n",
    "\n",
    "    print(f'(7) {open_list=}')\n",
    "\n",
    "# -----------------------------------------------------------------------\n",
    "# DEBUG: draw the Graph\n",
    "ebai.draw_graph_structure(graph_edgedict, graph_pos, graph_target,\n",
    "                          open_list=open_list, closed_list=closed_list)\n",
    "    # - 先ほどの描画例に加えて，open_list, closed_list も追加している\n",
    "    #   - 適宜，引数を与えずに描画するなどして，描かれた図の各シンボルが\n",
    "    #     何を表しているのか，理解をしてください．\n",
    "    # - ループ込みの完成版であれば，ループ内で毎回描画するのは，無駄である．\n",
    "    #   必要な場所でのみ，描画すれば十分であろう．\n",
    "    # **********\n",
    "    # 【注意】\n",
    "    # fig?.savefig()を利用した画像保存をする際は，十分に注意を払ってください．\n",
    "    # ループ内での savefig() 呼び出しは，大量のネットワーク経由のデータ転送と，\n",
    "    # 共有ディスクの大量消費をする可能性があり，ほかの学生の受講の妨げになります．\n",
    "    # （あなたの端末だけでなく，演習室の全端末がハングアップする可能性があります．）\n",
    "    # **********\n",
    "\n",
    "# Show the Result of Backtracking\n",
    "\n",
    "#\n",
    "# Backtracking\n",
    "#\n",
    "def backtrack(closed_list, graph_target, graph_start):\n",
    "    \"\"\" BACKTRACK\n",
    "    PARAMETERS\n",
    "    ----------\n",
    "    closed_list\n",
    "        グラフ探索で得られたクローズドリスト\n",
    "    graph_target\n",
    "        グラフ探索におけるゴールとなるノードのID\n",
    "    graph_start (default: 0)\n",
    "        グラフ探索におけるスタートとなるノードのID\n",
    "\n",
    "    RETURNS\n",
    "    -------\n",
    "    ????\n",
    "        ????\n",
    "    ????\n",
    "        ????\n",
    "\n",
    "    NOTE\n",
    "    ----\n",
    "    - return は各自で考えよう．\n",
    "      - 何も戻さない方針なら return 文をなくして，上記 RETURNS については，None とでも書いておけばよい\n",
    "    \"\"\"\n",
    "    # parameters\n",
    "    route = deque([])\n",
    "        # - route にノード情報を追加していく．\n",
    "        # - 追加と利用の考え方は，システムプログラミングの関数呼び出しにおけるスタックと同じ考え方．\n",
    "    \n",
    "    bt_node_id = graph_target\n",
    "        # - ゴールから逆にたどるので，ゴールのノード番号を入れておく\n",
    "        # - bt は backtracking の略です．\n",
    "    \n",
    "    # Debug\n",
    "    print(f'DEBUG: {bt_node_id=}')\n",
    "    while bt_node_id >= 0:\n",
    "        # - 本資料では，ソースノードは，常に0番ノードと仮定していることを思い出そう．\n",
    "        #   - ソースノードは，Backtracking 処理におけるゴールに相当する．\n",
    "        # - != 0 でも問題はないが・・・もう少し考えてみよう\n",
    "        #   - 実際のところ，（正常な）ノードID としては，正の値しか使っていない．\n",
    "        #   - そこで，先を見越して，広く設定しておこう．この条件ならば「正常でない」の意味で，\n",
    "        #     マイナス番号のノードIDをプログラマが意図的に利用することもできる．\n",
    "    \n",
    "        route.appendleft(bt_node_id)\n",
    "            # - 先頭に追加していく．\n",
    "    \n",
    "        # Debug\n",
    "        print(f'DEBUG: {route=}')\n",
    "    \n",
    "        bt_node_id = closed_list.get(bt_node_id, State(id=-1, cost=-1, parent_id=-9)).parent_id\n",
    "            # - dict.getは，辞書引きをする際にkeyが見つからなければ，第2引数をdefault値としてを返す\n",
    "    \n",
    "        # Debug\n",
    "        print(f'DEBUG: {bt_node_id=}')\n",
    "    \n",
    "    if bt_node_id <= graph_start:\n",
    "            # ⇒ a) Backtracking 成功は，どんな条件になるでしょうか？\n",
    "            #   自分でif文を書き換えてください．\n",
    "        # Backtracking 成功\n",
    "        print(f'Backtracking: Success: Route = {list(route)}')\n",
    "    else:\n",
    "        # Backtracking失敗\n",
    "        print(f'Backtracking: Failed: Route = {list(route)}?')\n",
    "\n",
    "    # Debug\n",
    "    print('\\n-----')\n",
    "\n",
    "    return list(route)\n",
    "            # ⇒ b) 何を返すのがよいか，は自分でよく考えてください．\n",
    "            #       （何も返さないという方針も当然あり得ますが，考えを示す必要があります．）\n",
    "\n",
    "#\n",
    "# Test your function\n",
    "#\n",
    "print(f'DEBUG: {graph_target=}')\n",
    "display(closed_list)\n",
    "    # - 探索\"成功\"時の closed_list を使います．セルの中でも，簡単に中身を確認しておくといいでしょう．\n",
    "    # - なお，\"成功\"していないときの動作は，未定義です．所望のBacktrackingの結果は得られないでしょう．\n",
    "\n",
    "print('TEST BACKTRACKING --------')\n",
    "backtrack(closed_list, graph_target, 0)\n",
    "    # - 関数のデバッグをしたいなら，右サイドバーの虫アイコンを押して，デバッガを起動し，\n",
    "    #   ブレークポイント設置とステップ実行をするとよいでしょう．\n"
   ]
  },
  {
   "cell_type": "markdown",
   "id": "6d710930-baf6-4820-b82d-a0b510d9fa02",
   "metadata": {
    "editable": true,
    "slideshow": {
     "slide_type": ""
    },
    "tags": []
   },
   "source": [
    ":::{attention}\n",
    "AI-1はここまでです．\n",
    ":::"
   ]
  }
 ],
 "metadata": {
  "kernelspec": {
   "display_name": "Python 3 (ipykernel)",
   "language": "python",
   "name": "python3"
  },
  "language_info": {
   "codemirror_mode": {
    "name": "ipython",
    "version": 3
   },
   "file_extension": ".py",
   "mimetype": "text/x-python",
   "name": "python",
   "nbconvert_exporter": "python",
   "pygments_lexer": "ipython3",
   "version": "3.12.3"
  }
 },
 "nbformat": 4,
 "nbformat_minor": 5
}
