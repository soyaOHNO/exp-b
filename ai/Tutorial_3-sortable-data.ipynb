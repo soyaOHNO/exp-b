{
 "cells": [
  {
   "cell_type": "markdown",
   "id": "bdc69134-0b4d-4214-bb73-b20791bb2864",
   "metadata": {
    "editable": true,
    "slideshow": {
     "slide_type": ""
    },
    "tags": []
   },
   "source": [
    "# Tutorial 3: データ構造とアルゴリズム\n",
    "\n",
    "8. [](#sortable-dataclass)\n",
    "9. [](#heap)\n",
    "\n",
    "アルゴリズム論の3.7節「ヒープ」も適宜参照してください [^note1]．\n",
    "\n",
    "[^note1]: ただし，本講義ではヒープの実装そのものは扱わない．\n",
    "    一方で，ヒープがどういう構造と特徴を持っているか，ということは理解していることを望んでいる．\n"
   ]
  },
  {
   "cell_type": "code",
   "execution_count": 1,
   "id": "b9ad5d78-9728-4b44-99f4-2c6e8f276858",
   "metadata": {
    "editable": true,
    "slideshow": {
     "slide_type": ""
    },
    "tags": [
     "hide-input"
    ]
   },
   "outputs": [
    {
     "data": {
      "text/html": [
       "<style>\n",
       "    div.jp-CodeMirrorEditor span.ͼ11 { font-style: normal; } /* Comment (Jupyter 4.x) */\n",
       "    div.jp-MarkdownCell h2 { border-bottom: solid 2px #aaf; padding-bottom: 2px; }\n",
       "</style>\n"
      ],
      "text/plain": [
       "<IPython.core.display.HTML object>"
      ]
     },
     "metadata": {},
     "output_type": "display_data"
    }
   ],
   "source": [
    "%%html\n",
    "<style>\n",
    "    div.jp-CodeMirrorEditor span.ͼ11 { font-style: normal; } /* Comment (Jupyter 4.x) */\n",
    "    div.jp-MarkdownCell h2 { border-bottom: solid 2px #aaf; padding-bottom: 2px; }\n",
    "</style>"
   ]
  },
  {
   "cell_type": "code",
   "execution_count": 2,
   "id": "f0921989-2bca-4381-bcbb-da9e62593f5c",
   "metadata": {},
   "outputs": [],
   "source": [
    "from IPython.display import display"
   ]
  },
  {
   "cell_type": "markdown",
   "id": "8994f19d-c79a-4c4b-922b-7e1e017ada27",
   "metadata": {},
   "source": [
    "(sortable-dataclass)=\n",
    "## ソート可能なデータクラス\n",
    "\n",
    "前回利用した dataclass，つまりある種の構造体は，直接その大小を比較することはできません．  \n",
    "この事実自体は，C言語の構造体で <u>[同じ問題に直面](https://edu2024.sp.cs.okayama-u.ac.jp/eop/p2/p/practice08-hint.html#id13)</u> したことがあるはず．  \n",
    "そして，「対象となるデータの大小関係を定められるならば，任意のデータの並べ替えが可能」という事実を学んだはずです [^ext3]．\n",
    "\n",
    "[^ext3]: 3年次編入の人は，すでに同等の概念を学んでいることを期待します・・・\n",
    "\n",
    "Pythonのデータ構造の大半はクラスとして定義されており，\n",
    "その中でも大小比較が可能なクラスは，`__lt__()`を実装することになっています．  \n",
    "例えば，年月日を意味する `Date` クラスであれば，以下に示すような `__lt__(a, b)` 関数によって，\n",
    "`a > b` か否かを判定できるはずです．"
   ]
  },
  {
   "cell_type": "code",
   "execution_count": 3,
   "id": "3802d57e-1430-4c79-9a4d-de8d6073b729",
   "metadata": {},
   "outputs": [],
   "source": [
    "from dataclasses import dataclass\n",
    "\n",
    "@dataclass    # <-- class定義の前にアットマーク付きのデコレータが必要です．やや特殊．．．\n",
    "class Date:\n",
    "    y: int\n",
    "    m: int\n",
    "    d: int\n",
    "\n",
    "    def __lt__(a, b):  # Less than function: \"A is less than B\".\n",
    "        if a.y != b.y:\n",
    "            return a.y < b.y\n",
    "        if a.m != b.m:\n",
    "            return a.m < b.m\n",
    "        return a.d < b.d\n"
   ]
  },
  {
   "cell_type": "markdown",
   "id": "e14c36ca-1a71-4d8d-ac71-912f095e20c5",
   "metadata": {},
   "source": [
    "実は上記のような `Date` クラスを定義しておくと，`Date` を複数持つリストに対してソートが可能になります[^ltgt]．  \n",
    "内部でどういう動作をしているかは，プログラミング演習2でソートを実装した当時のことを思い出してください．\n",
    "\n",
    "[^ltgt]: やや繰り返しになるのですが，ソートできることはさほど重要ではないです．大小関係を与えられるという点が，とっっっっっても重要です．"
   ]
  },
  {
   "cell_type": "code",
   "execution_count": 4,
   "id": "6e775028-c7b4-42d9-978e-1931aec888b6",
   "metadata": {},
   "outputs": [
    {
     "data": {
      "text/plain": [
       "'Before sort: [Date(y=2012, m=5, d=1), Date(y=2011, m=5, d=2), Date(y=2018, m=3, d=23)]'"
      ]
     },
     "metadata": {},
     "output_type": "display_data"
    },
    {
     "data": {
      "text/plain": [
       "'After sort1: [Date(y=2011, m=5, d=2), Date(y=2012, m=5, d=1), Date(y=2018, m=3, d=23)]'"
      ]
     },
     "metadata": {},
     "output_type": "display_data"
    },
    {
     "data": {
      "text/plain": [
       "'After sort2: [Date(y=2018, m=3, d=23), Date(y=2012, m=5, d=1), Date(y=2011, m=5, d=2)]'"
      ]
     },
     "metadata": {},
     "output_type": "display_data"
    }
   ],
   "source": [
    "d1 = Date(2012, 5, 1)\n",
    "d2 = Date(2011, 5, 2)\n",
    "d3 = Date(2018, 3, 23)\n",
    "\n",
    "dates = [d1, d2, d3]\n",
    "display(f'Before sort: {dates}')\n",
    "\n",
    "dates = sorted(dates)  # default は昇順 (Ascendant)\n",
    "display(f'After sort1: {dates}')\n",
    "\n",
    "dates = sorted(dates, reverse=True)  # reverse=True は降順 (Descendant)\n",
    "display(f'After sort2: {dates}')\n"
   ]
  },
  {
   "cell_type": "markdown",
   "id": "733bb057-9467-497f-a82e-298c546d7d19",
   "metadata": {},
   "source": [
    "```{exercise}\n",
    "AI-1では State データクラスを作りました．cost に基づいて大小比較ができるように拡張してみましょう．\n",
    "\n",
    "以下のセルを利用して書いてください．\n",
    "```"
   ]
  },
  {
   "cell_type": "code",
   "execution_count": 18,
   "id": "9b0573a9-991e-452d-bf92-bc7cace3e8fa",
   "metadata": {},
   "outputs": [],
   "source": [
    "@dataclass\n",
    "class State:\n",
    "    \"\"\"\n",
    "    Parameters\n",
    "    ----------\n",
    "    id: int\n",
    "        ロボットが存在する場所．探索したいグラフのノード番号で指定する．\n",
    "        つまり，Adjacency Matrix 等のグラフ表現における番号と相互参照できるものとする．\n",
    "\n",
    "    cost: float\n",
    "        探索過程におけるノードのコスト g(n)\n",
    "\n",
    "    parent_id: int\n",
    "        現在位置に至る1つ前の時点で滞在していた場所．ノード番号で指定する．\n",
    "        値が負のとき，親ノードは存在しない（すなわち，root note）とする．\n",
    "\n",
    "    Note\n",
    "    ----\n",
    "    - cost に基づいてソート可能である\n",
    "    \"\"\"\n",
    "    \n",
    "    id: int\n",
    "    cost: float\n",
    "    parent_id: int\n",
    "\n",
    "    def __lt__(a, b):\n",
    "        if a.cost != b.cost:\n",
    "            return a.cost < b.cost"
   ]
  },
  {
   "cell_type": "code",
   "execution_count": 19,
   "id": "72e702a8-82b3-483e-acdd-2e3d3094fd27",
   "metadata": {},
   "outputs": [
    {
     "name": "stdout",
     "output_type": "stream",
     "text": [
      "[State(id=0, cost=10, parent_id=-1), State(id=1, cost=4, parent_id=-1), State(id=2, cost=11, parent_id=-1), State(id=3, cost=7, parent_id=-1)]\n",
      "[State(id=1, cost=4, parent_id=-1), State(id=3, cost=7, parent_id=-1), State(id=0, cost=10, parent_id=-1), State(id=2, cost=11, parent_id=-1)]\n",
      "[State(id=2, cost=11, parent_id=-1), State(id=0, cost=10, parent_id=-1), State(id=3, cost=7, parent_id=-1), State(id=1, cost=4, parent_id=-1)]\n"
     ]
    }
   ],
   "source": [
    "# Test cell\n",
    "x1 = State(0, cost=10, parent_id=-1)\n",
    "x2 = State(1, cost=4, parent_id=-1)\n",
    "x3 = State(2, cost=11, parent_id=-1)\n",
    "x4 = State(3, cost=7, parent_id=-1)\n",
    "\n",
    "l = [x1, x2, x3, x4]\n",
    "\n",
    "print(l)\n",
    "print(sorted(l, reverse=False))\n",
    "print(sorted(l, reverse=True))\n",
    "    # 昇順ソート，降順ソートがそれぞれ実現できていることを確かめてください．"
   ]
  },
  {
   "cell_type": "markdown",
   "id": "807a16b6-148c-44d2-918b-a2abfdf99f1e",
   "metadata": {},
   "source": [
    "(heap)=\n",
    "## ヒープ (データ構造)\n",
    "\n",
    "AI-2では，より高度な探索を実現するため，ヒープ構造を使います [^heapsort]．  \n",
    "ヒープ構造とは「最小値のデータを取り出しやすい構造」です [^general_heap]．\n",
    "\n",
    "[^heapsort]: ヒープソートではありません．ヒープ構造はソートすることが主目的ではありません．\n",
    "[^general_heap]: 参考書アルゴリズム論（ならびに，一般的な同分野の教科書）では，「最大値のデータを取り出しやすい構造」として紹介されます．\n",
    "    ここでは，Pythonの `heapq` 実装に合わせ，「最大」ではなく「最小」として理解を進めてください．\n",
    "\n",
    "様々なアルゴリズムを実装する中で，「リストの最もｘｘなデータ」を取り出すことはよくあります．  \n",
    "実際，Stackとは「ｘｘな＝最後に入れられた」ですし，Queueとは「ｘｘな＝最初に入れられた」です．\n",
    "\n",
    "今回は，「ｘｘな＝Stateのcostが小さい」を考えます．  \n",
    "このようなデータ構造は cost を priority (優先度) とみなしたとき， 優先度付きキュー (Priority Queue) とも呼びます．  \n",
    "このPriority Queue を実現するには，ヒープ構造がうってつけ，ということです．"
   ]
  },
  {
   "cell_type": "markdown",
   "id": "3d1b5cb7-6e5b-4a78-a76b-368bd568ece6",
   "metadata": {},
   "source": [
    "pythonでは `heapq` モジュールにヒープデータ構造として扱うための各種関数が定義されています．\n",
    "\n",
    "- 参考：heapq --- ヒープキューアルゴリズム https://docs.python.org/ja/3.12/library/heapq.html\n",
    "\n",
    "以下に，deque を使った Queue との対比を載せます．少し癖のある関数群ですので注意して読み進めてください．"
   ]
  },
  {
   "cell_type": "code",
   "execution_count": 32,
   "id": "40ec3380-07f0-47ec-b1b2-821e9b3c2a21",
   "metadata": {},
   "outputs": [],
   "source": [
    "# 以下の state1, ..., state4 を states_queue に入れることを考えてみよう．\n",
    "state1 = State(0, cost=10, parent_id=-1)\n",
    "state2 = State(1, cost= 8, parent_id=-1)\n",
    "state3 = State(5, cost=12, parent_id=-1)\n",
    "state4 = State(5, cost= 9, parent_id=-1)  # <-- state3と同じIDだが，costがstate3より低い\n",
    "state5 = State(1, cost=11, parent_id=-1)  # <-- state2と同じIDだが，costがstate2より高い\n",
    "state6 = State(1, cost= 7, parent_id=-1)\n",
    "state7 = State(1, cost= 6, parent_id=-1)"
   ]
  },
  {
   "cell_type": "markdown",
   "id": "9037e711-3205-4625-9fab-5cb22dd6159e",
   "metadata": {},
   "source": [
    "### Simple Queue\n",
    "\n",
    "まずは基本を思い出してもらうために，Tutoral 2 と同じ Queue を示します．simple queue はヒープではありません．念のため．．．"
   ]
  },
  {
   "cell_type": "code",
   "execution_count": 33,
   "id": "8e70227e-f201-4b4d-9474-f56853a413eb",
   "metadata": {
    "editable": true,
    "slideshow": {
     "slide_type": ""
    },
    "tags": [
     "hide-output"
    ]
   },
   "outputs": [
    {
     "name": "stdout",
     "output_type": "stream",
     "text": [
      "----- initialize\n",
      "deque([])\n"
     ]
    }
   ],
   "source": [
    "from collections import deque\n",
    "##\n",
    "## (Simple) Queue\n",
    "##\n",
    "\n",
    "# ---------------------------------------------------------\n",
    "# initialize\n",
    "print('----- initialize')\n",
    "state_queue = deque()\n",
    "print(state_queue)"
   ]
  },
  {
   "cell_type": "code",
   "execution_count": 34,
   "id": "ccdf2e86-a451-44ff-b97a-b3fe1ad24809",
   "metadata": {
    "editable": true,
    "slideshow": {
     "slide_type": ""
    },
    "tags": [
     "hide-output"
    ]
   },
   "outputs": [
    {
     "name": "stdout",
     "output_type": "stream",
     "text": [
      "\n",
      "----- enqueue\n",
      "deque([State(id=0, cost=10, parent_id=-1)])\n",
      "deque([State(id=0, cost=10, parent_id=-1), State(id=1, cost=8, parent_id=-1)])\n",
      "deque([State(id=0, cost=10, parent_id=-1), State(id=1, cost=8, parent_id=-1), State(id=5, cost=12, parent_id=-1)])\n",
      "deque([State(id=0, cost=10, parent_id=-1), State(id=1, cost=8, parent_id=-1), State(id=5, cost=12, parent_id=-1), State(id=5, cost=9, parent_id=-1)])\n",
      "deque([State(id=0, cost=10, parent_id=-1), State(id=1, cost=8, parent_id=-1), State(id=5, cost=12, parent_id=-1), State(id=5, cost=9, parent_id=-1), State(id=1, cost=11, parent_id=-1)])\n",
      "deque([State(id=0, cost=10, parent_id=-1), State(id=1, cost=8, parent_id=-1), State(id=5, cost=12, parent_id=-1), State(id=5, cost=9, parent_id=-1), State(id=1, cost=11, parent_id=-1), State(id=1, cost=7, parent_id=-1)])\n",
      "deque([State(id=0, cost=10, parent_id=-1), State(id=1, cost=8, parent_id=-1), State(id=5, cost=12, parent_id=-1), State(id=5, cost=9, parent_id=-1), State(id=1, cost=11, parent_id=-1), State(id=1, cost=7, parent_id=-1), State(id=1, cost=6, parent_id=-1)])\n",
      "STATE_QUEUE:\n"
     ]
    },
    {
     "data": {
      "text/plain": [
       "deque([State(id=0, cost=10, parent_id=-1),\n",
       "       State(id=1, cost=8, parent_id=-1),\n",
       "       State(id=5, cost=12, parent_id=-1),\n",
       "       State(id=5, cost=9, parent_id=-1),\n",
       "       State(id=1, cost=11, parent_id=-1),\n",
       "       State(id=1, cost=7, parent_id=-1),\n",
       "       State(id=1, cost=6, parent_id=-1)])"
      ]
     },
     "metadata": {},
     "output_type": "display_data"
    }
   ],
   "source": [
    "# ---------------------------------------------------------\n",
    "# enqueue\n",
    "#   - forループの中で，1要素ずつ enqueue しています\n",
    "print('\\n----- enqueue')\n",
    "for n in [state1, state2, state3, state4, state5, state6, state7]:\n",
    "    state_queue.append(n)\n",
    "    print(state_queue)\n",
    "\n",
    "#DEBUG\n",
    "print('STATE_QUEUE:')\n",
    "display(state_queue)"
   ]
  },
  {
   "cell_type": "code",
   "execution_count": 35,
   "id": "97e88982-278e-45de-aac1-3d074a3b47cb",
   "metadata": {
    "editable": true,
    "slideshow": {
     "slide_type": ""
    },
    "tags": [
     "hide-output"
    ]
   },
   "outputs": [
    {
     "name": "stdout",
     "output_type": "stream",
     "text": [
      "\n",
      "----- dequeue (1)\n",
      "State(id=0, cost=10, parent_id=-1)\n",
      "\n",
      "----- dequeue (2)\n",
      "State(id=1, cost=8, parent_id=-1)\n",
      "STATE_QUEUE:\n"
     ]
    },
    {
     "data": {
      "text/plain": [
       "deque([State(id=5, cost=12, parent_id=-1),\n",
       "       State(id=5, cost=9, parent_id=-1),\n",
       "       State(id=1, cost=11, parent_id=-1),\n",
       "       State(id=1, cost=7, parent_id=-1),\n",
       "       State(id=1, cost=6, parent_id=-1)])"
      ]
     },
     "metadata": {},
     "output_type": "display_data"
    }
   ],
   "source": [
    "# ---------------------------------------------------------\n",
    "# dequeue\n",
    "print('\\n----- dequeue (1)')\n",
    "a = state_queue.popleft()\n",
    "print(a)\n",
    "\n",
    "print('\\n----- dequeue (2)')\n",
    "a = state_queue.popleft()\n",
    "print(a)\n",
    "\n",
    "# DEBUG\n",
    "print('STATE_QUEUE:')\n",
    "display(state_queue)"
   ]
  },
  {
   "cell_type": "markdown",
   "id": "23692731-bcf5-493f-9cb2-16f19486cf0f",
   "metadata": {},
   "source": [
    "### Priority Queue (heap)\n",
    "\n",
    "道中で `state_queue` を表示しています．これは heap のコンテナとなるリストです．\n",
    "\n",
    "以下の質問に答えられるように，読み解いてください．\n",
    "\n",
    "(pq-question)=\n",
    "- `state_queue[0]` はどういう性質のデータか？（例えば，「最初に挿入されたデータである」のように，データ構造として，先頭(`[0]`)に求められる性質を考えよ，という意味）\n",
    "- `state_queue` そのものは，大小関係に基づくソート順に並んで配置されているか？（つまり，`sorted(state_queue)` と同じ並びになるか？という意味）\n",
    "\n",
    "> WWWページとして閲覧中の方への注意：以下の例は，上の方の State の実装にかかる Exercise が完成していないと，想定した表示にはなりません．\n",
    "\n",
    "繰り返しますが，ヒープソートとヒープ構造を混同しないようにしてください．\n",
    "必要に応じて，[公式リファレンス](https://docs.python.org/ja/3.12/library/heapq.html) も参考にしましょう．"
   ]
  },
  {
   "cell_type": "code",
   "execution_count": 41,
   "id": "0c5ddb99-243d-49fb-9219-2dd27e2de9c9",
   "metadata": {
    "editable": true,
    "slideshow": {
     "slide_type": ""
    },
    "tags": [
     "hide-output"
    ]
   },
   "outputs": [
    {
     "name": "stdout",
     "output_type": "stream",
     "text": [
      "----- initialize\n",
      "[]\n"
     ]
    }
   ],
   "source": [
    "import heapq\n",
    "##\n",
    "## Priority Queue (Heap data structure)\n",
    "##\n",
    "\n",
    "# ---------------------------------------------------------\n",
    "# initialize\n",
    "print('----- initialize')\n",
    "state_queue = []\n",
    "heapq.heapify(state_queue)\n",
    "print(state_queue)\n",
    "    # - heqpq.heap**** は deque が使えません．通常の list を使います．\n",
    "    # - 任意のリストは heapify を経ることで heap として扱えるようになります．\n",
    "    #   - ただし，ヒープ構造の特徴からして，1つ以下の要素しかないなら heapify は不要です．\n",
    "    #     （あくまで，初期化の例として，heapify() の利用例を示しています．）"
   ]
  },
  {
   "cell_type": "code",
   "execution_count": 42,
   "id": "e3354577-4d9c-465c-a1eb-e42d7476db47",
   "metadata": {
    "editable": true,
    "slideshow": {
     "slide_type": ""
    },
    "tags": [
     "hide-output"
    ]
   },
   "outputs": [
    {
     "name": "stdout",
     "output_type": "stream",
     "text": [
      "\n",
      "----- enqueue\n",
      "[State(id=0, cost=10, parent_id=-1)]\n",
      "[State(id=1, cost=8, parent_id=-1), State(id=0, cost=10, parent_id=-1)]\n",
      "[State(id=1, cost=8, parent_id=-1), State(id=0, cost=10, parent_id=-1), State(id=5, cost=12, parent_id=-1)]\n",
      "[State(id=1, cost=8, parent_id=-1), State(id=5, cost=9, parent_id=-1), State(id=5, cost=12, parent_id=-1), State(id=0, cost=10, parent_id=-1)]\n",
      "[State(id=1, cost=8, parent_id=-1), State(id=5, cost=9, parent_id=-1), State(id=5, cost=12, parent_id=-1), State(id=0, cost=10, parent_id=-1), State(id=1, cost=11, parent_id=-1)]\n",
      "[State(id=1, cost=7, parent_id=-1), State(id=5, cost=9, parent_id=-1), State(id=1, cost=8, parent_id=-1), State(id=0, cost=10, parent_id=-1), State(id=1, cost=11, parent_id=-1), State(id=5, cost=12, parent_id=-1)]\n",
      "[State(id=1, cost=6, parent_id=-1), State(id=5, cost=9, parent_id=-1), State(id=1, cost=7, parent_id=-1), State(id=0, cost=10, parent_id=-1), State(id=1, cost=11, parent_id=-1), State(id=5, cost=12, parent_id=-1), State(id=1, cost=8, parent_id=-1)]\n",
      "STATE_QUEUE:\n"
     ]
    },
    {
     "data": {
      "text/plain": [
       "[State(id=1, cost=6, parent_id=-1),\n",
       " State(id=5, cost=9, parent_id=-1),\n",
       " State(id=1, cost=7, parent_id=-1),\n",
       " State(id=0, cost=10, parent_id=-1),\n",
       " State(id=1, cost=11, parent_id=-1),\n",
       " State(id=5, cost=12, parent_id=-1),\n",
       " State(id=1, cost=8, parent_id=-1)]"
      ]
     },
     "metadata": {},
     "output_type": "display_data"
    }
   ],
   "source": [
    "# ---------------------------------------------------------\n",
    "# enqueue\n",
    "#   - forループの中で，1要素ずつ enqueue しています\n",
    "print('\\n----- enqueue')\n",
    "for n in [state1, state2, state3, state4, state5, state6, state7]:\n",
    "    heapq.heappush(state_queue, n)\n",
    "    print(state_queue)\n",
    "        # - heqpq.heappush(_list_, _elem_) を使って，データを挿入します．\n",
    "        #   - ここで，state_queue.append(n) をしてしまうと，\n",
    "        #     ヒープ構造が崩れてしまうので，絶対にやってはいけません．\n",
    "        # - 関数の使い方が今までのポリシーと異なるので注意してください．\n",
    "        #   - state_queue.heappush(n) ではなく，\n",
    "        #     heapq.heappush(state_queue, n) です．\n",
    "\n",
    "#DEBUG\n",
    "print('STATE_QUEUE:')\n",
    "display(state_queue)"
   ]
  },
  {
   "cell_type": "code",
   "execution_count": 43,
   "id": "b1a092b7-bf9f-4611-b95a-ee61271177d6",
   "metadata": {
    "editable": true,
    "slideshow": {
     "slide_type": ""
    },
    "tags": [
     "hide-output"
    ]
   },
   "outputs": [
    {
     "name": "stdout",
     "output_type": "stream",
     "text": [
      "\n",
      "----- dequeue (1)\n",
      "State(id=1, cost=6, parent_id=-1)\n",
      "\n",
      "----- dequeue (2)\n",
      "State(id=1, cost=7, parent_id=-1)\n",
      "STATE_QUEUE:\n"
     ]
    },
    {
     "data": {
      "text/plain": [
       "[State(id=1, cost=8, parent_id=-1),\n",
       " State(id=5, cost=9, parent_id=-1),\n",
       " State(id=5, cost=12, parent_id=-1),\n",
       " State(id=0, cost=10, parent_id=-1),\n",
       " State(id=1, cost=11, parent_id=-1)]"
      ]
     },
     "metadata": {},
     "output_type": "display_data"
    }
   ],
   "source": [
    "# ---------------------------------------------------------\n",
    "# dequeue\n",
    "print('\\n----- dequeue (1)')\n",
    "a = heapq.heappop(state_queue)\n",
    "print(a)\n",
    "    # - heqpq.heappop(_list_) を使って，データを取り出します．\n",
    "    #   - push と同じ注意ですが，state_queue.pop() はおそらく\n",
    "    #     取り出したい要素にはなりえません．\n",
    "    #   - deque でもないので，state_queue.popleft() もありません．\n",
    "    # - 取り出される要素は，リストのある条件を満たした要素です．\n",
    "    #   - ヒープ構造では，該当要素の配列中の場所は確定しています．\n",
    "    #   - つまり，state_queue[?] のようにアクセスする意味のある\n",
    "    #      要素が1つだけあります．（参考：ヒープ構造の性質）\n",
    "\n",
    "print('\\n----- dequeue (2)')\n",
    "a = heapq.heappop(state_queue)\n",
    "print(a)\n",
    "\n",
    "# DEBUG\n",
    "print('STATE_QUEUE:')\n",
    "display(state_queue)"
   ]
  },
  {
   "cell_type": "markdown",
   "id": "612ffb0f-e0e0-436d-94cd-7b543b09e5b0",
   "metadata": {},
   "source": [
    "```{exercise}\n",
    "[質問](#pq-question)の答えは考えられましたか？答えをどうぞ．講義中に口頭で答えてもらうかもしれません．\n",
    "```"
   ]
  },
  {
   "cell_type": "markdown",
   "id": "dff3dd36-6e42-4ded-a8cd-ec977f823d6a",
   "metadata": {},
   "source": [
    "> WRITE YOUR ANSWER. This is Markdown cell.\n",
    "\n",
    "state_queue[0]は配列の中で最小のデータ．ヒープの根である．最小になる根拠はすべての親ノードと子ノードの関係で（親＜子）が成り立つこと．\n",
    "\n",
    "state_queueそのものは，配列として見てみると大小関係に基づいていない．ヒープの上から幅優先のような形で配列の順序が定まっているから，{0 < 1,2}, {1 < 3,4}, {2 < 5,6},...のような関係．"
   ]
  },
  {
   "cell_type": "markdown",
   "id": "c00d905b-91f9-43bf-8679-83fae021f457",
   "metadata": {},
   "source": [
    "## 経路探索に適した Prioirty Queue の検討\n",
    "\n",
    "### Unique-constrained Priority Queue -- ユニーク制約付きの優先度付きキュー\n",
    "\n",
    "AI-1で見たように，経路探索においては，open_list に様々なデータ構造を適用します．\n",
    "\n",
    "ただし，open_list に追加する前に (7-1) や (7-2) のような，同一IDの重複を避ける制約[^unique]があります．\n",
    "\n",
    "[^unique]: [ユニーク制約](https://e-words.jp/w/%E4%B8%80%E6%84%8F%E5%88%B6%E7%B4%84.html)とも呼びます．\n",
    "\n",
    "最適経路の探索という意義を考えると，\n",
    "\n",
    "    Priority Queue をベースとしつつ，同一IDが挿入されそうなときはコストが低い状態を優先する（上書きする）\n",
    "\n",
    "というデータ構造がよさそうです．どうすればよいのでしょうか？例えば，以下のような実装方針が思い浮かびます．\n",
    "\n",
    "```{mermaid}\n",
    "flowchart LR\n",
    "  A(New Datum) --> B{{Exist ID?}}\n",
    "  B -->|True| C{{\"new.cost < exist.cost?\"}}\n",
    "  B -->|False| D[[APPEND]]\n",
    "  C -->|True| F[[REPLACE]]\n",
    "  C -->|False| G[[DROP]]\n",
    "```\n",
    "\n",
    "- 追加の前に，同一IDがあるかどうか確認する\n",
    "  - 同一IDがなければ，そのまま追加する (APPEND)\n",
    "  - 同一IDがあるなら，コストを比較し，低ければ入れ替え (REPLACE)，高ければ捨てる (DROP)\n",
    "    - ただし，途中のデータを安直に入れ替えたり削除したりすると，heap構造が破壊される\n",
    "    - そこで，REPLACEとしては，いったん remove と append をしてから，`heapify()` でヒープ木を再構築する\n",
    "\n",
    "> WWWページとして閲覧中の方への注意：以下の例は，上の方の State の実装にかかる Exercise が完成していないと，想定した表示にはなりません．"
   ]
  },
  {
   "cell_type": "code",
   "execution_count": 44,
   "id": "26a50d39-a7c8-40f4-a4ff-bec684a4be2d",
   "metadata": {
    "editable": true,
    "slideshow": {
     "slide_type": ""
    },
    "tags": [
     "hide-output"
    ]
   },
   "outputs": [
    {
     "name": "stdout",
     "output_type": "stream",
     "text": [
      "----- initialize\n",
      "[]\n"
     ]
    }
   ],
   "source": [
    "import heapq\n",
    "##\n",
    "## Unique-constrained Priority Queue (Heap data structure)\n",
    "##\n",
    "\n",
    "# ---------------------------------------------------------\n",
    "# initialize\n",
    "print('----- initialize')\n",
    "state_queue = list()\n",
    "print(state_queue)\n",
    "    # heqpq は deque が使えません．list()を使いましょう．"
   ]
  },
  {
   "cell_type": "code",
   "execution_count": 45,
   "id": "d8e30b0c-7a84-4c14-8767-b2fc74ddd27b",
   "metadata": {
    "editable": true,
    "slideshow": {
     "slide_type": ""
    },
    "tags": [
     "hide-output"
    ]
   },
   "outputs": [
    {
     "name": "stdout",
     "output_type": "stream",
     "text": [
      "\n",
      "----- enqueue\n",
      "  DEBUG: APPEND: State(id=0, cost=10, parent_id=-1)\n",
      "[State(id=0, cost=10, parent_id=-1)]\n",
      "  DEBUG: APPEND: State(id=1, cost=8, parent_id=-1)\n",
      "[State(id=1, cost=8, parent_id=-1), State(id=0, cost=10, parent_id=-1)]\n",
      "  DEBUG: APPEND: State(id=5, cost=12, parent_id=-1)\n",
      "[State(id=1, cost=8, parent_id=-1), State(id=0, cost=10, parent_id=-1), State(id=5, cost=12, parent_id=-1)]\n",
      "  DEBUG: REPLACE: State(id=5, cost=12, parent_id=-1) --> State(id=5, cost=9, parent_id=-1)\n",
      "[State(id=1, cost=8, parent_id=-1), State(id=0, cost=10, parent_id=-1), State(id=5, cost=9, parent_id=-1)]\n",
      "  DEBUG: DROP: State(id=1, cost=11, parent_id=-1)\n",
      "[State(id=1, cost=8, parent_id=-1), State(id=0, cost=10, parent_id=-1), State(id=5, cost=9, parent_id=-1)]\n",
      "STATE_QUEUE:\n"
     ]
    },
    {
     "data": {
      "text/plain": [
       "[State(id=1, cost=8, parent_id=-1),\n",
       " State(id=0, cost=10, parent_id=-1),\n",
       " State(id=5, cost=9, parent_id=-1)]"
      ]
     },
     "metadata": {},
     "output_type": "display_data"
    }
   ],
   "source": [
    "# ---------------------------------------------------------\n",
    "# enqueue\n",
    "#   - forループの中で，1要素ずつ enqueue しています\n",
    "print('\\n----- enqueue')\n",
    "for new_state in [state1, state2, state3, state4, state5]:\n",
    "    _exist_state = [x for x in state_queue if new_state.id == x.id]\n",
    "    _exist_state = _exist_state[0] if _exist_state else None\n",
    "    if _exist_state is None:\n",
    "        # APPEND\n",
    "        print(f\"  DEBUG: APPEND: {new_state}\")\n",
    "        heapq.heappush(state_queue, new_state)\n",
    "    elif new_state.cost < _exist_state.cost:\n",
    "        # REPLACE\n",
    "        print(f\"  DEBUG: REPLACE: {_exist_state} --> {new_state}\")\n",
    "        state_queue.remove(_exist_state)\n",
    "        state_queue.append(new_state)    # heapify した後に heappush しても良い\n",
    "        heapq.heapify(state_queue)  # Rebalance of heap tree\n",
    "    else:\n",
    "        # DROP\n",
    "        print(f\"  DEBUG: DROP: {new_state}\")\n",
    "        \n",
    "    print(state_queue)\n",
    "\n",
    "#DEBUG\n",
    "print('STATE_QUEUE:')\n",
    "display(state_queue)"
   ]
  },
  {
   "cell_type": "code",
   "execution_count": 46,
   "id": "8b7acb64-744f-400d-b699-5aa8412ca6e8",
   "metadata": {
    "editable": true,
    "slideshow": {
     "slide_type": ""
    },
    "tags": [
     "hide-output"
    ]
   },
   "outputs": [
    {
     "name": "stdout",
     "output_type": "stream",
     "text": [
      "\n",
      "----- dequeue (1)\n",
      "State(id=1, cost=8, parent_id=-1)\n",
      "\n",
      "----- dequeue (2)\n",
      "State(id=5, cost=9, parent_id=-1)\n",
      "STATE_QUEUE:\n"
     ]
    },
    {
     "data": {
      "text/plain": [
       "[State(id=0, cost=10, parent_id=-1)]"
      ]
     },
     "metadata": {},
     "output_type": "display_data"
    }
   ],
   "source": [
    "# ---------------------------------------------------------\n",
    "# dequeue\n",
    "print('\\n----- dequeue (1)')\n",
    "a = heapq.heappop(state_queue)\n",
    "print(a)\n",
    "\n",
    "print('\\n----- dequeue (2)')\n",
    "a = heapq.heappop(state_queue)\n",
    "print(a)\n",
    "\n",
    "# DEBUG\n",
    "print('STATE_QUEUE:')\n",
    "display(state_queue)"
   ]
  },
  {
   "cell_type": "markdown",
   "id": "0d736c41-daf1-4ea5-b9ac-8f2d9ccf2958",
   "metadata": {},
   "source": [
    "## まとめ\n",
    "\n",
    "本資料は以上です．"
   ]
  },
  {
   "cell_type": "markdown",
   "id": "8a4566bd-0e29-4205-bfb1-1d0ccbbb5d73",
   "metadata": {},
   "source": [
    "(tut3-appendix)=\n",
    "\n",
    "## Appendix\n",
    "\n",
    "ここから下はおまけです．\n",
    "一通り課題を終えた後に，時間があれば確認してください．より深い考察ができるようになるかもしれません．\n",
    "\n",
    "なお，ここに書かれた内容や数値をそのまま書きうつしてもレポートにはなりません．"
   ]
  },
  {
   "cell_type": "markdown",
   "id": "a4b8d36d-3ec2-4f02-a714-3353fa3fce76",
   "metadata": {},
   "source": [
    "(tut3-appendix2)=\n",
    "\n",
    "### Appendix2: ヒープ構造は必要か？ &mdash; 実装方針についてのちょっとした考察\n",
    "\n",
    "せっかくなので，「[Tutorial 2 の Appendix 1](Tutorial_2-data-structure.ipynb#tut2-appendix1)」と同じように，\n",
    "簡単に速度も確認しておきましょう．\n",
    "\n",
    "ヒープ構造は，アルゴリズムとデータ構造の講義でも難関の一つかなと思います．  \n",
    "初見では，やたらとややこしい処理をしてるな・・・と思いませんでしたか？  \n",
    "そしてその思いから『そんなややこしいものは使いたくない』という思いにつながってしまった人もいるでしょう．\n",
    "\n",
    "実際のところ，普通の Queue の実装の中でも enqueue のたびにソートしておけば，「最小値を $O(1)$ で取り出す」という機能は実現できそうです．  \n",
    "ソートさえ知っていれば誰でも書けますし，同レベルの同僚や後輩らにも意図が伝わりやすいでしょうから，いいことづくめのようにも見えます．\n",
    "\n",
    "さて，どれぐらい違うのでしょうか？  \n",
    "本節に取り組んでみれば，特定の処理をする際にヒープを使いたくなる・・・はず（？）"
   ]
  },
  {
   "cell_type": "markdown",
   "id": "6be655e7-30ae-4897-b9b4-a912b8ea45fc",
   "metadata": {},
   "source": [
    "試しに，5回enqueue，3回dequeue を 100 回ぐらい繰り返して計測してみましょう（最終的には200個のデータが残ります）．\n",
    "\n",
    "`%%timeit` を使うと，セル全体を何回も繰り返して，平均速度を計測してくれます．結果の単位を読み間違えないように．"
   ]
  },
  {
   "cell_type": "code",
   "execution_count": 47,
   "id": "10a5b4b7-f003-41bc-b41f-70bf1c6328b4",
   "metadata": {},
   "outputs": [
    {
     "name": "stdout",
     "output_type": "stream",
     "text": [
      "2.82 ms ± 75.2 μs per loop (mean ± std. dev. of 7 runs, 100 loops each)\n"
     ]
    }
   ],
   "source": [
    "%%timeit\n",
    "# Stupid Priority Queue\n",
    "state_queue = deque()\n",
    "\n",
    "for _ in range(100):\n",
    "    ## ENQUEUE 5 elements\n",
    "    for n in [state1, state2, state3, state4, state5]:\n",
    "        state_queue.append(n)\n",
    "        state_queue = deque(sorted(state_queue))  # <-- NEW 挿入後にソートする\n",
    "\n",
    "    ## DEQUEUE 3 elements\n",
    "    a = state_queue.popleft()\n",
    "    a = state_queue.popleft()\n",
    "    a = state_queue.popleft()"
   ]
  },
  {
   "cell_type": "code",
   "execution_count": 48,
   "id": "651799ad-f32e-437a-aa3c-dbbd95ad35f4",
   "metadata": {},
   "outputs": [
    {
     "name": "stdout",
     "output_type": "stream",
     "text": [
      "249 μs ± 1.19 μs per loop (mean ± std. dev. of 7 runs, 1,000 loops each)\n"
     ]
    }
   ],
   "source": [
    "%%timeit\n",
    "# Priority Queue (heap)\n",
    "state_queue = list()\n",
    "\n",
    "for _ in range(100):\n",
    "    ## ENQUEUE 5 elements\n",
    "    for n in [state1, state2, state3, state4, state5]:\n",
    "        heapq.heappush(state_queue, n)\n",
    "\n",
    "    ## DEQUEUE 3 elements\n",
    "    a = heapq.heappop(state_queue)\n",
    "    a = heapq.heappop(state_queue)\n",
    "    a = heapq.heappop(state_queue)"
   ]
  },
  {
   "cell_type": "code",
   "execution_count": 49,
   "id": "8686c12f-4ae0-4f10-855e-4e4f9a081a0d",
   "metadata": {},
   "outputs": [
    {
     "name": "stdout",
     "output_type": "stream",
     "text": [
      "122 μs ± 322 ns per loop (mean ± std. dev. of 7 runs, 10,000 loops each)\n"
     ]
    }
   ],
   "source": [
    "%%timeit\n",
    "# Unique Priority Queue (heap)\n",
    "state_queue = list()\n",
    "\n",
    "for _ in range(100):\n",
    "    ## ENQUEUE 5 elements\n",
    "    for new_state in [state1, state2, state3, state4, state5]:\n",
    "        _exist_state = [x for x in state_queue if new_state.id == x.id]\n",
    "        _exist_state = _exist_state[0] if _exist_state else None\n",
    "        if _exist_state is None:\n",
    "            heapq.heappush(state_queue, new_state)\n",
    "        elif new_state.cost < _exist_state.cost:\n",
    "            state_queue.remove(_exist_state)\n",
    "            heapq.heapify(state_queue)  # Rebalance the heap tree\n",
    "            heapq.heappush(state_queue, new_state)\n",
    "\n",
    "    ## DEQUEUE 3 elements\n",
    "    a = heapq.heappop(state_queue)\n",
    "    a = heapq.heappop(state_queue)\n",
    "    a = heapq.heappop(state_queue)"
   ]
  },
  {
   "cell_type": "markdown",
   "id": "eedab5fa-a322-447a-bb5e-460086983559",
   "metadata": {},
   "source": [
    "```{exercise}\n",
    "※これは Appendix 内の exercise です．\n",
    "\n",
    "まずは，上記の例に基づいて，計算量を記録してください．  \n",
    "3アルゴリズムの間での比較と考察もしてみましょう．\n",
    "考察では，なぜそのような結果になったのかの説明もしてくださいね．\n",
    "\n",
    "次に，上記の計測例を書き換えて，popする回数を3回ではなく1回にして，\n",
    "3アルゴリズムの計算時間を改めて比較と考察をしてみてください．\n",
    "(`Ctrl + /` で，DEQUEUE処理のうち2行をコメントトグルすると簡単ですよ．)\n",
    "\n",
    "最後に，pop回数を減らしたときに，各アルゴリズムの中で計算時間が増えたか減ったかについて，確認してください．  \n",
    "各アルゴリズムで変化の傾向が異なる(はず)です．この理由を説明できますか？\n",
    "\n",
    ":::{hint}\n",
    "オーダーを議論する際の $N$ に注意しましょう．\n",
    "\n",
    "今回の例では，ループの何巡目か，によって $N$ が常に変動します．  \n",
    "ちなみに，次回以降の画像実験では，処理中の $N$ は固定とみなせるケースが多いはずです．\n",
    "\n",
    "ここで考えたことは，ストリーム処理([wikipedia](https://ja.wikipedia.org/wiki/%E3%82%B9%E3%83%88%E3%83%AA%E3%83%BC%E3%83%A0_(%E3%83%97%E3%83%AD%E3%82%B0%E3%83%A9%E3%83%9F%E3%83%B3%E3%82%B0)))\n",
    "の特徴として覚えておくと，どこかで役に立つでしょう．\n",
    "\n",
    "例えば，音声処理実験では，時々刻々と音声データが取得できるストリーミング処理を扱うことがあります．  \n",
    "また，情報工学実験Cのネットワーク実験でも，インターネットの接続先ホストから時々刻々とデータ（パケット）が送られてくるストリーム処理を扱う（はず）です．\n",
    ":::\n",
    "```"
   ]
  }
 ],
 "metadata": {
  "kernelspec": {
   "display_name": "Python 3 (ipykernel)",
   "language": "python",
   "name": "python3"
  },
  "language_info": {
   "codemirror_mode": {
    "name": "ipython",
    "version": 3
   },
   "file_extension": ".py",
   "mimetype": "text/x-python",
   "name": "python",
   "nbconvert_exporter": "python",
   "pygments_lexer": "ipython3",
   "version": "3.12.3"
  }
 },
 "nbformat": 4,
 "nbformat_minor": 5
}
