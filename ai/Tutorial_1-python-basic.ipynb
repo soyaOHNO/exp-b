{
 "cells": [
  {
   "cell_type": "markdown",
   "id": "d05a3097-7cd8-48c2-94bd-0603266fc1fb",
   "metadata": {
    "editable": true,
    "slideshow": {
     "slide_type": ""
    },
    "tags": []
   },
   "source": [
    "# Tutorial 1: Python & Jupyter Lab の基礎\n",
    "\n",
    "1. [](#tut1-introduction)\n",
    "2. [](#tut-python-basic1)\n",
    "3. [](#tut-jupyterlab-basic)\n",
    "4. [](#how-to-make-pdf)\n"
   ]
  },
  {
   "cell_type": "markdown",
   "id": "28dbbbce-9a85-436c-b3e5-b97e9d1d2230",
   "metadata": {
    "tags": []
   },
   "source": [
    "(tut1-introduction)=\n",
    "\n",
    "## はじめに\n",
    "\n",
    "### Python の基本中の基本\n",
    "\n",
    "- Pythonでは，インデントが重要な意味を持ちます．不用意な字下げをしないようにしましょう．（詳しくは，制御文で後述）\n",
    "- Pythonでは，`#` が行コメントになります．\n",
    "\n",
    "### Jupyter Lab の基本中の基本\n",
    "\n",
    "- Jupyter Labは，Pythonをインタプリタとして実行したときの動きに似ています．\n",
    "- 各セルは，任意の順番で実行することが可能です．セルの中のソースコードをインタプリタにコピペして実行しているようなイメージです．\n",
    "- インタプリタとして起動していますから，起動中に，変数は常に保持されています．\n",
    "  - 実行中の notebook は，ファイルエクスプローラ部分で，ファイル名の左に●記号がついています．\n",
    "\n",
    "### Jupyter Lab 環境でのコメント表記（斜体から通常体へ）\n",
    "\n",
    "- 本資料では，ソースコード中のコメントとして説明を多く記載しています．\n",
    "- デフォルトの斜体だと見づらいかもしれません．\n",
    "- 以下のセルを実行することで，ソースコードのコメントを通常体にすることができます．Jupyter Desktop/Jupyter Lab 起動のたびに実行が必要です．"
   ]
  },
  {
   "cell_type": "code",
   "execution_count": 2,
   "id": "0fa06b46-5f08-497d-b855-f19505fa00f9",
   "metadata": {},
   "outputs": [
    {
     "data": {
      "text/html": [
       "<style>\n",
       "    div.jp-CodeMirrorEditor span.ͼ11 { font-style: normal; } /* Comment (Jupyter 4.x) */\n",
       "    div.jp-MarkdownCell h2 { border-bottom: solid 2px #aaf; padding-bottom: 2px; }\n",
       "</style>\n"
      ],
      "text/plain": [
       "<IPython.core.display.HTML object>"
      ]
     },
     "metadata": {},
     "output_type": "display_data"
    }
   ],
   "source": [
    "%%html\n",
    "<style>\n",
    "    div.jp-CodeMirrorEditor span.ͼ11 { font-style: normal; } /* Comment (Jupyter 4.x) */\n",
    "    div.jp-MarkdownCell h2 { border-bottom: solid 2px #aaf; padding-bottom: 2px; }\n",
    "</style>"
   ]
  },
  {
   "cell_type": "markdown",
   "id": "3bd42f0e-bec0-482b-9d70-734886fe8cf7",
   "metadata": {
    "tags": []
   },
   "source": [
    "(tut-python-basic1)=\n",
    "\n",
    "## Python の基本(1): 変数・制御文・関数"
   ]
  },
  {
   "cell_type": "markdown",
   "id": "bfd0e732-e08d-4caa-9b08-b21dbb105454",
   "metadata": {
    "tags": []
   },
   "source": [
    "### Python: 変数\n",
    "\n",
    "変数の型は与えません[^typehint]．宣言も不要です．\n",
    "多くの人にとっては，特に文字列の扱いはC言語より簡単だ，と思うことでしょう．．．\n",
    "\n",
    "[^typehint]: 最近のPythonでは，型ヒントを与えることができます．  \n",
    "    言語仕様として型ヒントそのものには意味はありません．しかし，型ヒントを理解して補助するツールがあります．\n",
    "    例えば，今私たちが使っている Jupyter Lab でも，ところどころで波線がついているのに気づくことでしょう．これは``補助するツール''による機能です．  \n",
    "    実際，プロジェクトが大掛かりになるほど，適切な型ヒントを与えたほうが，開発工程がスムーズになることでしょう．\n"
   ]
  },
  {
   "cell_type": "code",
   "execution_count": 3,
   "id": "bd7a730a-4997-4a5d-a2c6-66c133167d85",
   "metadata": {
    "editable": true,
    "slideshow": {
     "slide_type": ""
    },
    "tags": []
   },
   "outputs": [
    {
     "name": "stdout",
     "output_type": "stream",
     "text": [
      "10\n",
      "25\n"
     ]
    }
   ],
   "source": [
    "x = 10\n",
    "    # x に数字の10を代入\n",
    "\n",
    "print(x)\n",
    "\n",
    "x = x + 15\n",
    "    # x に15を足して，xに再代入\n",
    "\n",
    "print(x)"
   ]
  },
  {
   "cell_type": "code",
   "execution_count": 28,
   "id": "45a534bb-6455-4418-ba8a-17ae7c6b1dc6",
   "metadata": {
    "tags": []
   },
   "outputs": [
    {
     "name": "stdout",
     "output_type": "stream",
     "text": [
      "Jikken\n",
      "Jikken B\n",
      "10\n"
     ]
    },
    {
     "ename": "TypeError",
     "evalue": "can only concatenate str (not \"int\") to str",
     "output_type": "error",
     "traceback": [
      "\u001b[31m---------------------------------------------------------------------------\u001b[39m",
      "\u001b[31mTypeError\u001b[39m                                 Traceback (most recent call last)",
      "\u001b[36mCell\u001b[39m\u001b[36m \u001b[39m\u001b[32mIn[28]\u001b[39m\u001b[32m, line 12\u001b[39m\n\u001b[32m      9\u001b[39m \u001b[38;5;28mprint\u001b[39m(s)\n\u001b[32m     10\u001b[39m \u001b[38;5;28mprint\u001b[39m(x)\n\u001b[32m---> \u001b[39m\u001b[32m12\u001b[39m s = \u001b[43ms\u001b[49m\u001b[43m \u001b[49m\u001b[43m+\u001b[49m\u001b[43m \u001b[49m\u001b[43mx\u001b[49m\n\u001b[32m     13\u001b[39m \u001b[38;5;28mprint\u001b[39m(s)\n",
      "\u001b[31mTypeError\u001b[39m: can only concatenate str (not \"int\") to str"
     ]
    }
   ],
   "source": [
    "s = 'Jikken'\n",
    "    # s に文字列 'Jikken' を代入\n",
    "\n",
    "print(s)\n",
    "\n",
    "s = s + ' B'\n",
    "    # s に文字列 ' B' を連結\n",
    "\n",
    "print(s)\n",
    "print(x)\n",
    "\n",
    "s = s + x\n",
    "print(s)"
   ]
  },
  {
   "cell_type": "markdown",
   "id": "a6933012-587d-47f5-8bc6-559eb02baf27",
   "metadata": {
    "tags": []
   },
   "source": [
    ":::{exercise}\n",
    "ここで，`s + x` あるいは，`x + s` の結果を想像してみてください．  \n",
    "それから，実際に Console を起動して，確かめてみてください．\n",
    "\n",
    "```{hint}\n",
    "Console は，右クリック New console for this notebook から起動できます．  \n",
    "Console は notebook と同じメモリ空間を共有しています．（つまり，同じ変数を扱うこともできるし，書き変えることもできる．）\n",
    "\n",
    "Console を使いこなすことでデバッグが簡単になります．\n",
    "```\n",
    ":::"
   ]
  },
  {
   "cell_type": "markdown",
   "id": "4ac1b4c6-09f0-422c-97bd-a15cdc5cb112",
   "metadata": {
    "editable": true,
    "slideshow": {
     "slide_type": ""
    },
    "tags": []
   },
   "source": [
    "\n",
    "さらに，以下の Exercise は，Jupyter Lab 特有の便利な点でありながら，同時に注意すべき点でもあります．\n",
    "\n",
    "```{exercise}\n",
    "以下の`CELL 1` ～ `CELL 3` の，3つのセルに注目してください．\n",
    "\n",
    "1. `CELL 1` を実行後，`CELL 2` を**何回も**実行してください．\n",
    "1. `CELL 3` を**何回も**実行してください．\n",
    "\n",
    "それぞれの動作によって得られる結果について，正しく説明できますか？\n",
    "```"
   ]
  },
  {
   "cell_type": "code",
   "execution_count": 8,
   "id": "2aa4dd1f-b3fa-462d-ae54-9192f7bd2c6b",
   "metadata": {
    "editable": true,
    "slideshow": {
     "slide_type": ""
    },
    "tags": [
     "exercise"
    ]
   },
   "outputs": [],
   "source": [
    "# CELL1\n",
    "x = 10"
   ]
  },
  {
   "cell_type": "code",
   "execution_count": 18,
   "id": "272b77fd-f252-47ab-8c4a-01942bf047a6",
   "metadata": {
    "editable": true,
    "slideshow": {
     "slide_type": ""
    },
    "tags": [
     "exercise"
    ]
   },
   "outputs": [
    {
     "name": "stdout",
     "output_type": "stream",
     "text": [
      "20\n"
     ]
    }
   ],
   "source": [
    "# CELL 2\n",
    "x = x + 1\n",
    "print(x)"
   ]
  },
  {
   "cell_type": "code",
   "execution_count": 24,
   "id": "e6d7972e-7623-4200-ab69-367fcf7db74e",
   "metadata": {
    "editable": true,
    "slideshow": {
     "slide_type": ""
    },
    "tags": [
     "exercise"
    ]
   },
   "outputs": [
    {
     "name": "stdout",
     "output_type": "stream",
     "text": [
      "11\n",
      "12\n",
      "13\n",
      "14\n",
      "15\n",
      "16\n",
      "17\n",
      "18\n",
      "19\n",
      "20\n",
      "21\n"
     ]
    }
   ],
   "source": [
    "# CELL 3\n",
    "x = 10\n",
    "x = x + 1\n",
    "print(x)\n",
    "\n",
    "for i in range(10):\n",
    "    x = x + 1\n",
    "    print(x)"
   ]
  },
  {
   "cell_type": "markdown",
   "id": "3330174d-8fea-473e-a1c7-4725825d6d73",
   "metadata": {
    "editable": true,
    "slideshow": {
     "slide_type": ""
    },
    "tags": []
   },
   "source": [
    "**アンダースコア(`_`) 1つを先頭につけた変数や関数**\n",
    "\n",
    "Python構文としては何の意味もありません．慣習的に，スコープが狭い変数を表す際に使われます．\n",
    "\n",
    "人工知能・音声処理実験の資料では，基本的に「関数内でしか参照しない変数」や「特定のセルでしか使わない変数」で利用するようにしています．  "
   ]
  },
  {
   "cell_type": "markdown",
   "id": "5506a890-349a-459c-bd14-984ae311fe58",
   "metadata": {},
   "source": [
    "### Python: print構文\n",
    "\n",
    "Python のprint構文はなかなか強力な機能を持っています．以下のような書き方にすることもできます．"
   ]
  },
  {
   "cell_type": "code",
   "execution_count": 25,
   "id": "4e716825-aaec-40f5-8754-ec2b7434e8b1",
   "metadata": {
    "tags": []
   },
   "outputs": [
    {
     "name": "stdout",
     "output_type": "stream",
     "text": [
      "10\n",
      "10 20\n",
      "10 20 100 aaa\n"
     ]
    }
   ],
   "source": [
    "x = 10\n",
    "y = 20\n",
    "\n",
    "print(x)\n",
    "print(x, y)\n",
    "print(x, y, 100, 'aaa')\n",
    "    # - printの引数はカンマで区切っていくつでも書けます．\n",
    "    # - 指定した各引数が，半角スペース区切りで表示されることが確認できるはずです．"
   ]
  },
  {
   "cell_type": "markdown",
   "id": "67180df8-fb6d-41a1-9b8c-290fa39d1c3a",
   "metadata": {
    "tags": []
   },
   "source": [
    "さらには，f-string(エフ文字列)を使いこなすと，簡単にデバッグできるようになります．\n",
    "\n",
    "- 参考：フォーマット済み文字列リテラル\n",
    "  - https://docs.python.org/ja/3.12/reference/lexical_analysis.html#formatted-string-literals"
   ]
  },
  {
   "cell_type": "code",
   "execution_count": 26,
   "id": "9ee95dbe-51e4-4a4d-bdf7-db7a132f3ce1",
   "metadata": {
    "tags": []
   },
   "outputs": [
    {
     "name": "stdout",
     "output_type": "stream",
     "text": [
      "x=10\n",
      "x=10\n"
     ]
    }
   ],
   "source": [
    "print(f'x={x}')\n",
    "    # - エフ文字列（f-string; 文字列の前にfを付ける）を使うと，\n",
    "    #   C言語の printf() における，%指示詞が思い起こされる人も多いかもしれませんね．\n",
    "\n",
    "print(f'{x=}')\n",
    "    # - 上記のように「変数名 = 変数の中身」のように表示したいだけなら，\n",
    "    #   中かっこの中に書いた変数名の後にイコールを付けることで，実現できます．\n",
    "    # - ただし，Python 3.6以降で対応した機能なので，古い環境では使えません．\n"
   ]
  },
  {
   "cell_type": "markdown",
   "id": "89a0b9eb-b2a1-4847-a321-b25cd7d2f5db",
   "metadata": {},
   "source": [
    "```{exercise}\n",
    "変数 `x`, `y` と f-string を使って，\n",
    "\n",
    "    x and y are 10 and 20, respectively.\n",
    "\n",
    "のような出力をするセルを作ってください．\n",
    "```"
   ]
  },
  {
   "cell_type": "code",
   "execution_count": null,
   "id": "a5b6d3b3-87f5-487e-9d69-e9d2400c7ed4",
   "metadata": {
    "editable": true,
    "slideshow": {
     "slide_type": ""
    },
    "tags": [
     "exercise"
    ]
   },
   "outputs": [],
   "source": [
    "# ANSWER CELL for Exercise 3\n",
    "x = 10\n",
    "y = 20\n",
    "print()"
   ]
  },
  {
   "cell_type": "markdown",
   "id": "7f01cd85-f2ac-4fcb-a261-8eb4ea4367df",
   "metadata": {},
   "source": [
    "### Python: 制御文\n",
    "\n",
    "いわゆる `if` や `for` です．条件式に丸かっこは不要です．条件式の終わりは`:`で示しています．\n",
    "\n",
    "**Pythonではインデントがとても重要です．**\n",
    "\n",
    "インデントされている範囲が複文（C言語での中かっこで括った複数の文で構成される文）に相当します．"
   ]
  },
  {
   "cell_type": "markdown",
   "id": "3194c3d7-2292-4a18-9711-ecbbf175ca76",
   "metadata": {},
   "source": [
    "#### if 文"
   ]
  },
  {
   "cell_type": "code",
   "execution_count": 29,
   "id": "62166a4e-0581-4f61-916d-69436b54e025",
   "metadata": {
    "tags": []
   },
   "outputs": [
    {
     "name": "stdout",
     "output_type": "stream",
     "text": [
      "x=10: x is smaller than or equal to 10\n"
     ]
    }
   ],
   "source": [
    "# if 文の例 (1)\n",
    "\n",
    "x = 10\n",
    "    # 上の代入文を書き変えて，想像通りの if 文の動きをしているか，確かめてください．\n",
    "\n",
    "if x > 100:\n",
    "    print(f'{x=}: x is larger than 100')\n",
    "elif x > 10:\n",
    "    print(f'{x=}: x is larger than 10 and smaller than 100')\n",
    "else:\n",
    "    print(f'{x=}: x is smaller than or equal to 10')"
   ]
  },
  {
   "cell_type": "markdown",
   "id": "022d7860-f338-4a25-983a-c5935b42c535",
   "metadata": {},
   "source": [
    "#### while文\n",
    "\n",
    "人工知能実験でも音声処理実験でも，ループ処理には `while` 文が頻出します．  \n",
    "皆さんご存じの通り，`while` 文とは「`if` 文の終わりで，もう一度条件判定部に戻る（＝ループする）」という制御文です [^while]．\n",
    "\n",
    "`while` 文は，条件判定部がループ中（条件成立後の文）に更新されることを前提とした構文です．  \n",
    "一定の回数を繰り返す用途であれば，後述の `for` 文によるループのほうがわかりやすく書けることも多いです．\n",
    "\n",
    "**無限ループに陥ったら，UI上部の ■ (Interrupt Kernel) で止めてください．**\n",
    "\n",
    "[^while]: このことをもって「条件を満たす限りループする」と覚えている人もいるかもしれません．\n",
    "\n",
    "    若かりし頃の私（＝原）は，その覚え方をしていて「結局ループするのって，条件満たしてる時？してない時？」と，しばしば混乱していました．\n",
    "    同じ混乱を覚えたことのある人は，C言語で頻出する `while(!*p)` に慣れすぎているのかもしれません．\n",
    "    ポインタ `p` の指す先が `NULL` では **ない** 限りループ，というやつです．\n",
    "    人間は，not文の判定に対する認知負荷が高い傾向にあり，この覚え方をすることは，本質的に困難と言えます．\n",
    "\n",
    "    そんなわけで，私は『`if` 文のちょっとスゴイ版』として `while` を覚えるようにしています．\n",
    "    （実際，よくよく読み返してみれば，ほとんどの教科書でそのように書いているはずです．）"
   ]
  },
  {
   "cell_type": "code",
   "execution_count": 30,
   "id": "e180c392-319b-448c-8f3d-5f302668cf2e",
   "metadata": {},
   "outputs": [
    {
     "name": "stdout",
     "output_type": "stream",
     "text": [
      "512\n"
     ]
    }
   ],
   "source": [
    "# while 文の例: 1000 を超えない最大の 2 の累乗 を求める処理 (1)\n",
    "x = 1\n",
    "while 2 * x < 1000:\n",
    "    x = 2 * x\n",
    "print(x)"
   ]
  },
  {
   "cell_type": "code",
   "execution_count": 31,
   "id": "b8539ea1-6a6c-493c-8036-4f526a53227e",
   "metadata": {},
   "outputs": [
    {
     "name": "stdout",
     "output_type": "stream",
     "text": [
      "9 512\n"
     ]
    }
   ],
   "source": [
    "# while 文の例: 1000 を超えない最大の 2 の累乗 を求める処理 (2)\n",
    "# - 累乗の肩の数が知りたいなら，こちらの書き方のほうがリーズナブルでしょう．\n",
    "n = 0\n",
    "while 2 ** (n + 1) < 1000:\n",
    "    n = n + 1\n",
    "print(n, 2**n)"
   ]
  },
  {
   "cell_type": "markdown",
   "id": "89ab4e3c-7a20-4b42-92d5-7abe76b6d754",
   "metadata": {},
   "source": [
    ":::{note}\n",
    "ここに挙げたのはあくまでプログラミング的な考えに基づく例です．\n",
    "実際に，コメントに書いてある目的の処理をするなら，より効率の良い方法があります．\n",
    "\n",
    "2回計算している点が無駄，というだけではないです．\n",
    "数学の知識を使えば，`math.log2()` (`np.log2()`) と，`math.floor()` (`np.floor()`) で計算できます．\n",
    ":::"
   ]
  },
  {
   "cell_type": "markdown",
   "id": "5a2b8bd2-da14-4e23-8f1b-cfaed31c22ef",
   "metadata": {},
   "source": [
    "#### for文\n",
    "\n",
    "for文と一緒に `range()` という関数をよく用います．特に例(1)と例(2)を見比べて，その挙動に注意してください．"
   ]
  },
  {
   "cell_type": "code",
   "execution_count": 32,
   "id": "b0dd5892-4af9-4cb7-8dc9-83b2e4c23d13",
   "metadata": {
    "tags": []
   },
   "outputs": [
    {
     "name": "stdout",
     "output_type": "stream",
     "text": [
      "1\n",
      "2\n",
      "3\n",
      "4\n",
      "5\n"
     ]
    }
   ],
   "source": [
    "# for 文の例 (1)\n",
    "for j in (1, 2, 3, 4, 5):\n",
    "    print(j)"
   ]
  },
  {
   "cell_type": "code",
   "execution_count": 33,
   "id": "e6c46d47-ffbb-4b1e-b1be-1fcf3a6afa49",
   "metadata": {
    "tags": []
   },
   "outputs": [
    {
     "name": "stdout",
     "output_type": "stream",
     "text": [
      "0\n",
      "1\n",
      "2\n",
      "3\n",
      "4\n"
     ]
    }
   ],
   "source": [
    "# for 文の例 (2)\n",
    "for i in range(0, 5):\n",
    "    print(i)"
   ]
  },
  {
   "cell_type": "code",
   "execution_count": 34,
   "id": "906489d2-b32f-42eb-8aab-2eb56784a223",
   "metadata": {
    "tags": []
   },
   "outputs": [
    {
     "name": "stdout",
     "output_type": "stream",
     "text": [
      "Hop\n",
      "Step\n",
      "Jump\n",
      "!\n"
     ]
    }
   ],
   "source": [
    "# for文の例 (3)\n",
    "for s in ('Hop', 'Step', 'Jump', '!'):\n",
    "    print(s)"
   ]
  },
  {
   "cell_type": "code",
   "execution_count": 35,
   "id": "6347d7a7-a994-4539-bbb6-5653d624e737",
   "metadata": {
    "tags": []
   },
   "outputs": [
    {
     "name": "stdout",
     "output_type": "stream",
     "text": [
      "0\n",
      "1\n",
      "2\n",
      "3\n",
      "4\n"
     ]
    }
   ],
   "source": [
    "# for文の例 (4)\n",
    "for i in range(0, 10):\n",
    "    if i == 5:\n",
    "        break\n",
    "\n",
    "    print(i)\n"
   ]
  },
  {
   "cell_type": "code",
   "execution_count": 36,
   "id": "59cb39e3-a771-4721-b936-2073ec6c8ef4",
   "metadata": {
    "tags": []
   },
   "outputs": [
    {
     "name": "stdout",
     "output_type": "stream",
     "text": [
      "0\n",
      "1\n",
      "2\n",
      "URYYYY!!!\n",
      "4\n",
      "5\n",
      "URYYYY!!!\n",
      "7\n",
      "8\n",
      "URYYYY!!!\n"
     ]
    }
   ],
   "source": [
    "# for文の例 (5)\n",
    "for i in range(0, 10):\n",
    "    if (i > 0) and (i % 3 == 0):\n",
    "        print('URYYYY!!!')\n",
    "        continue\n",
    "\n",
    "    print(i)"
   ]
  },
  {
   "cell_type": "markdown",
   "id": "6bc7378e-33e0-4fdf-8e20-ecbe9dc54ece",
   "metadata": {},
   "source": [
    "```{tip}\n",
    "- Pythonでは論理値 `True`, `False` を使うことができます．\n",
    "- 論理演算としてのANDは `and` と書きます．同様に，`or`や`not`があります．\n",
    "  - ビット演算は，C言語と同様で，記号1つの `&` や `|` です．\n",
    "- 参考: [Pythonリファレンス - 6.11. ブール演算 (boolean operation)](https://docs.python.org/ja/3.12/reference/expressions.html#boolean-operations)\n",
    "```"
   ]
  },
  {
   "cell_type": "markdown",
   "id": "616143c4-0a79-42e4-aa21-98c64acdfab7",
   "metadata": {},
   "source": [
    "#### 注意点\n",
    "\n",
    "冒頭に書いた通り，インデントが重要な意味を持ちます．また，インデントの深さも意味を持ちます．\n",
    "\n",
    "例えば，**以下のセルのコメントを外して実行**してみましょう．  \n",
    "このセルは構文エラーになるはずです．英語のエラーメッセージをよく見てください．"
   ]
  },
  {
   "cell_type": "code",
   "execution_count": null,
   "id": "8fb48ebf-7c6f-4307-ab44-939422cd9f05",
   "metadata": {
    "editable": true,
    "slideshow": {
     "slide_type": ""
    },
    "tags": [
     "exercise"
    ]
   },
   "outputs": [],
   "source": [
    "# x = 10\n",
    "#     print('Both x and y are 10')\n",
    "print(\"dddd\")"
   ]
  },
  {
   "cell_type": "markdown",
   "id": "4b07a41d-580d-43cb-a631-da798d00d399",
   "metadata": {
    "editable": true,
    "slideshow": {
     "slide_type": ""
    },
    "tags": []
   },
   "source": [
    "```{tip}\n",
    "- Jupyter環境では，`Ctrl + /` で，コメントトグルをすることができます．\n",
    "- また，`Shift + 矢印キー`で選択範囲の拡大・縮小をすれば，複数行のコメントトグルも実現できます．\n",
    "```"
   ]
  },
  {
   "cell_type": "markdown",
   "id": "54da6749-20e7-4726-bb4e-49cdf685681c",
   "metadata": {},
   "source": [
    "### Python: 関数\n",
    "\n",
    "定義と利用の例を示します．繰り返しますが，**インデントに注意を払う**ようにしましょう．"
   ]
  },
  {
   "cell_type": "code",
   "execution_count": null,
   "id": "dc15784a-07bf-42de-aa75-c2bb769706cf",
   "metadata": {
    "tags": []
   },
   "outputs": [],
   "source": [
    "# 関数の定義\n",
    "def strcat(a, b):\n",
    "    return a + b\n"
   ]
  },
  {
   "cell_type": "code",
   "execution_count": null,
   "id": "2f4d6523-ac3e-4f19-8766-ca691696a715",
   "metadata": {
    "tags": []
   },
   "outputs": [],
   "source": [
    "# 関数の利用\n",
    "s1 = strcat('Hello', 'world!')\n",
    "print(s1)"
   ]
  },
  {
   "cell_type": "markdown",
   "id": "cb101bed-4da7-41ca-8cab-fd6e2f3aa067",
   "metadata": {},
   "source": [
    "なお，定義された関数は，変数のように参照したり，他の変数に代入することも可能です．  \n",
    "実際，次のような書き方も可能です．**関数のポインタ**を思い浮かべてください [^func_pointer]．\n",
    "\n",
    "[^func_pointer]: 他の関数の引数として何らかの関数を与える，ということも可能です．  \n",
    "    例えば，プログラミング演習2のクイックソートの利用例では，`qsort()` 関数に `comp()` 関数を与えていたことを思い出してください．"
   ]
  },
  {
   "cell_type": "code",
   "execution_count": null,
   "id": "b121879b-011b-4319-bcfc-0c59453855e2",
   "metadata": {},
   "outputs": [],
   "source": [
    "myfunc = strcat\n",
    "print(myfunc('aaaa', 'bbbb'))\n",
    "\n",
    "myfunc = print\n",
    "myfunc('aaaa', 'bbbb')"
   ]
  },
  {
   "cell_type": "markdown",
   "id": "60edf42c-5079-4f59-8124-2a57ab35c783",
   "metadata": {
    "tags": []
   },
   "source": [
    "(tut-jupyterlab-basic)=\n",
    "\n",
    "## Jupyter Lab の基本\n",
    "\n",
    "本節では Jupyter Lab の使い方の基本を示します．"
   ]
  },
  {
   "cell_type": "markdown",
   "id": "a21c9a43-1b51-4431-9790-7d07b8de3f7c",
   "metadata": {
    "jp-MarkdownHeadingCollapsed": true,
    "tags": []
   },
   "source": [
    "### Jupyter Lab: セル\n",
    "\n",
    "#### セルの追加と削除\n",
    "\n",
    "適当なセルにカーソルを合わせると，![image.png](example/tutorial-toolbar.png) のようなアイコンがあるはずです．\n",
    "\n",
    "それぞれ，セルを複製，セルを上に移動，セルを下に移動，上にセルを追加，下にセルを追加，セルを削除，です．\n",
    "\n",
    "#### セルの移動 (その2)\n",
    "\n",
    "セルを選択した際，左側が青い縦棒でハイライトされているはずです．D&Dで移動できます．\n",
    "\n",
    "移動を容易にするためには，大きすぎるセルを作らないほうが無難かもしれません．（すなわち，ここのセルは悪い例）\n",
    "\n",
    "#### セルの種類\n",
    "\n",
    "セルの種類は，セルを選択後，上のほうに Select box があります．\n",
    "\n",
    "- `Code`: pythonのソースコードとして処理される (default)\n",
    "- `Markdown`: markdown書式として処理される [^myst]\n",
    "- `Raw`: 何もされない\n",
    "\n",
    "基本は，Codeセルでプログラムを書き，要所要所に Markdown セルで説明を書くことになるでしょう．\n",
    "\n",
    "[^myst]: 本実験の環境では，MyST拡張を入れており，より多様な記載方法も可能にしています．  \n",
    "https://myst-parser.readthedocs.io/en/latest/syntax/typography.html"
   ]
  },
  {
   "cell_type": "markdown",
   "id": "91406d9a-37a7-493c-bda3-fc69e971a2a5",
   "metadata": {
    "tags": []
   },
   "source": [
    "### Jupyter Lab: Codeセル\n",
    "\n",
    "#### Codeセルの実行\n",
    "\n",
    "UIの中の再生ボタン，あるいは，メニューの「Run」の中を見ると，いろいろできることがわかると思います．\n",
    "\n",
    "Enterキーとの組み合わせを覚えておくと，編集作業が少し便利になるかもしれません．\n",
    "\n",
    "- `Ctrl + Enter`: セルを実行 / Run selected cells and do not advance\n",
    "- `Shift + Enter`: セルを実行し，次のセルにフォーカスを移す / Run selected cells (and advance)\n",
    "- `Alt + Enter`: セルを実行し，下に新しいセルを作る / Run selected cells and insert below\n",
    "\n",
    "#### コードの補完\n",
    "\n",
    "- 数名や関数名を途中まで入力してから，`Tab` キーを押すと，名前の補完ができます．\n",
    "- さらに `Shift + Tab` を押すことで，その関数や変数の簡易ヘルプ(Docstring)を見ることができます．\n",
    "\n",
    "#### コードジャンプ\n",
    "\n",
    "- 変数名の上で `Alt + 左クリック` をすると，その変数や関数定義にジャンプします．（ただし，いくらかの制約あり）\n",
    "\n",
    "#### やってみよう\n",
    "\n",
    "- 下のセルを使って，「`prin`」まで入力してから Tab キーを押してみましょう．\n",
    "- `print()` まで入力できたら，かっこの内側で Shift + Tab キーを押してみましょう．\n",
    "- `myfu` まで入力し，補完．その後，myfuncの上で `Alt + 左クリック` をしてみましょう．\n"
   ]
  },
  {
   "cell_type": "code",
   "execution_count": null,
   "id": "cab88147-7b9b-44c6-be3d-dc27983c8fbe",
   "metadata": {
    "editable": true,
    "slideshow": {
     "slide_type": ""
    },
    "tags": [
     "exercise"
    ]
   },
   "outputs": [],
   "source": [
    "# Let's try!\n",
    "\n"
   ]
  },
  {
   "cell_type": "markdown",
   "id": "6c79d83b-9306-406a-93e7-05001eb52dea",
   "metadata": {
    "tags": []
   },
   "source": [
    "### Jupyter Lab: Markdown書式\n",
    "\n",
    "ここまで，地の文として皆さんが読んできた内容は，すべて Markdown セルです．\n",
    "\n",
    "Markdown セルは，ダブルクリックすると，編集できます．セルを実行（Ctrl + Enter）で preview 表示に戻ります．"
   ]
  },
  {
   "cell_type": "markdown",
   "id": "8e541d40-fedd-4b38-aed4-9ec7ce8619b2",
   "metadata": {
    "editable": true,
    "slideshow": {
     "slide_type": ""
    },
    "tags": []
   },
   "source": [
    "#### Markdown 基本編\n",
    "\n",
    "少しだけ Markdown 書式を紹介しておきます．**このセルをダブルクリック** すると，実際にどうやって書いているか確認できます．\n",
    "\n",
    "- LaTeXと同様，段落を分けるなら1行開ける．開けないと，連続した文とみなされる．\n",
    "  - どうしても途中で改行したいなら，行末に `  ` 半角スペースを2つ入れる\n",
    "  - 注：段落途中での改行は，ブラウザ環境では見やすくなることが多いため，本講義の資料でも多用しています．ただし，レポートPDFで`  ` (LaTeXの`\\\\`相当)は，これまでのレポート課題と同様，使うべきではありません．\n",
    "- `#`, `##`, `###`\n",
    "  - LaTeXの `\\section`, `\\subsection`, `\\subsubsection` みたいな要素です．\n",
    "  - 階層が変わるときは，別のセルに書く，ようにするとよいでしょう．\n",
    "    - UI上での折り畳み (Collapse and Expand) がしやすいし，順番の入れ替えも容易です．\n",
    "    - 例1：本資料少し上の「Jupyter Lab: Markdown書式」という見出しで，文字左側の三角形を押してみてください．\n",
    "    - 例2：次に，さらに少し上の「Jupyter Lab: セル」でも同じ操作を試みてください．（例1は折り畳みできるはずですが，例2は折り畳みできないはずです）\n",
    "- `-`, `+`\n",
    "  - LaTeX の itemize 環境内における `\\item` みたいな要素です．\n",
    "  - インデントにより，階層表現をすることもできます\n",
    "- `**` ～ `**`\n",
    "  - 太字にする．あまり **多用** しないほうがいいですが・・・（太字にしなくても，読みやすい文章にすべき）\n",
    "- コメント\n",
    "  - HTML構文のコメントを使いましょう．`<!-- ` と `-->` で括ります．例：（**ソースコードを見てください**）\n",
    "    <!-- このコメントは見えない・・・はず？ -->\n",
    "- アンダースコア（アンダーバー）に注意\n",
    "  - PDF変換する際に，アンダーバーがエラーになることがあります．\n",
    "  - バックスラッシュでエスケープするか，ソースコードのように書くとよいでしょう．"
   ]
  },
  {
   "cell_type": "markdown",
   "id": "54711215-a409-436c-88ab-c2462e65c946",
   "metadata": {
    "editable": true,
    "slideshow": {
     "slide_type": ""
    },
    "tags": []
   },
   "source": [
    "#### Markdown 応用編\n",
    "\n",
    "課題が進んでいくと，以下のような機能も欲しくなるかもしれませんね．先に紹介だけしておきます．\n",
    "\n",
    "##### 外部の画像ファイル埋め込み\n",
    "  - `![](画像ファイル名)`\n",
    "  - LaTeXの `\\includegraphic` みたいな要素．Practice\\_AI-1でも例として利用しています．\n",
    "\n",
    "##### ソースコード\n",
    "  - 行内(inline)ならシングルクオート1つ ` で括る\n",
    "  - 段落(block)なら，シングルクオート3つ ``` で括る．ソースコードの言語種別を指定することもできる．以下の例を参考に．\n",
    "    - 例1\n",
    "      ```\n",
    "      100, 2023-01-01, Name 1, Addr1, Misc1\n",
    "      101, 2023-01-01, Name 2, Addr2, Misc2\n",
    "      ```\n",
    "    - 例2\n",
    "      ``` python\n",
    "      y = 10\n",
    "      x = y ** 2\n",
    "      ```\n",
    "##### 数式\n",
    "  - 基本的な数式の書き方は LaTeX と同じと考えてよい（ただし，一部例外はある）\n",
    "  - 行内(inline)なら `$` で括る．ドル記号と数式は半角スペースで区切ること．例：$ \\sum_i f(y_i) = 10 $\n",
    "  - 段落(block)なら `$$` で括る．改行もできる．例：\n",
    "    ```\n",
    "    $$\n",
    "    (u, v)^\\top = \\mathbf{A} (x, y)^\\top\n",
    "    $$\n",
    "    ```\n",
    "\n",
    "    $$\n",
    "    (u, v)^\\top = \\mathbf{A} (x, y)^\\top\n",
    "    $$\n",
    "\n",
    "##### 引用\n",
    "\n",
    "  - `()=` を使ってラベルを付けることで，式 [](example_math1) のように引用することができる．\n",
    "\n",
    "    (example_math1)=\n",
    "    $$\n",
    "    \\begin{bmatrix}\n",
    "    u \\\\ v\n",
    "    \\end{bmatrix}\n",
    "    = \\mathbf{A} \\begin{bmatrix}\n",
    "    x \\\\ y\n",
    "    \\end{bmatrix}\n",
    "    $$\n",
    "\n",
    "    ```{code-block}\n",
    "    ... 式 [](example_math1) のように引用することができる．\n",
    "    \n",
    "    (example_math1)=\n",
    "    $$\n",
    "    \\begin{bmatrix}\n",
    "    u \\\\ v\n",
    "    \\end{bmatrix}\n",
    "    = \\mathbf{A} \\begin{bmatrix}\n",
    "    x \\\\ y\n",
    "    \\end{bmatrix}\n",
    "    $$\n",
    "    ```\n",
    "\n"
   ]
  },
  {
   "cell_type": "markdown",
   "id": "7d42c46b-0346-4384-8aaf-c48e2e12e88b",
   "metadata": {},
   "source": [
    "### Jupyter Lab 上級編\n",
    "\n",
    ":::{tip}\n",
    "`Ctrl + Shift + c` で Command Palette を開くことができる．全コマンド群から探索して実行できる．  \n",
    "例えば，`Ctrl + Shift + c`--> `run all` を覚えておくと，複数のセルの実行はたやすい．\n",
    "\n",
    "ただし，UIを日本語化していると，日本語で探す必要があるので，ほぼ役に立たないでしょう・・・[^levelup]  \n",
    "英語UIに戻したくなった人は，メニューの「設定 (Settings)」→「言語 (Language)」からどうぞ．\n",
    "\n",
    "[^levelup]: プログラマとしてスキルアップしたいという気持ちが少しでもあるならば，なるべく英語に慣れておくのが良いかと思います．\n",
    ":::\n",
    "\n"
   ]
  },
  {
   "cell_type": "markdown",
   "id": "e6961e64-27f5-4a03-92f0-4234b513b392",
   "metadata": {
    "tags": []
   },
   "source": [
    "(how-to-make-pdf)=\n",
    "\n",
    "## Jupyter Lab における PDF の作成方法\n",
    "\n",
    "演習室，および，自習環境では，やや特殊な設定を加えることで，LaTeX経由での日本語PDF作成を可能にしています．\n",
    "\n",
    "手順は以下の通りです．\n",
    "\n",
    "1. 左側のファイルエクスプローラで ipynb を開き，選択する．\n",
    "1. 上部メニューの File --> Save and Export Notebook As --> PDF で，新しいブラウザタブで変換プロセスが動き出す\n",
    "1. 変換が成功すると，PDFファイルのダウンロードがなされる．"
   ]
  },
  {
   "cell_type": "markdown",
   "id": "918b2b3c-b6ec-4cc5-af70-a586209e501b",
   "metadata": {},
   "source": [
    "## まとめ\n",
    "\n",
    "本資料は以上です．"
   ]
  }
 ],
 "metadata": {
  "kernelspec": {
   "display_name": "Python 3 (ipykernel)",
   "language": "python",
   "name": "python3"
  },
  "language_info": {
   "codemirror_mode": {
    "name": "ipython",
    "version": 3
   },
   "file_extension": ".py",
   "mimetype": "text/x-python",
   "name": "python",
   "nbconvert_exporter": "python",
   "pygments_lexer": "ipython3",
   "version": "3.12.3"
  }
 },
 "nbformat": 4,
 "nbformat_minor": 5
}
